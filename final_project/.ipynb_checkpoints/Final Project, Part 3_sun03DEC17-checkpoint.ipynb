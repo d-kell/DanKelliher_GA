{
 "cells": [
  {
   "cell_type": "markdown",
   "metadata": {},
   "source": [
    "__Final Project, Part 3: Exploration__"
   ]
  },
  {
   "cell_type": "markdown",
   "metadata": {},
   "source": [
    ">Problem Statement: \n",
    "Use the breast cancer data set to derive a model that will predict if a sample ID is a malignant or benign tumor."
   ]
  },
  {
   "cell_type": "markdown",
   "metadata": {},
   "source": [
    ">Potential Models: \n",
    "Categorical techniques such as logistic regression or CART will be used since the target is categorical. \n",
    "I have only gotten so far as to generate some training sets using Patsy. Will use these to next run logistic regression and also will explore if a RandomForest will yield anything useful."
   ]
  },
  {
   "cell_type": "markdown",
   "metadata": {},
   "source": [
    ">Explanation of extant data: \n",
    "The data set describes visual attributes of patient breast cancer cells, such as radius of cell nucleus, texture of nucleus, compactness, smoothness, and texture. More work is needed to understand the meaning of these attributes and how they relate to the problem. However, the focus is on constructing a model, even at the expense of understanding the problem. This is not ideal, but it is better to prioritize the techniques we are learning. "
   ]
  },
  {
   "cell_type": "markdown",
   "metadata": {},
   "source": [
    ">Outstanding questions, assumptions, risks, caveats:\n",
    "The assumption is that the data is real, useable, and that the goal of constructing a model can be met. \n",
    "Still need to determine some of the characteristics of the data, such as if the features are normally distributed."
   ]
  },
  {
   "cell_type": "markdown",
   "metadata": {},
   "source": [
    ">Relevant Domain knowledge:\n",
    "Biology background, basic understandning of cancer, biotechnology professional. "
   ]
  },
  {
   "cell_type": "markdown",
   "metadata": {},
   "source": [
    ">Success is a working model that can predict if a tumor is malignant or benign.\n",
    "Even if the model doesn't work well, it will be worth it to have learned some techniques. "
   ]
  },
  {
   "cell_type": "code",
   "execution_count": 1,
   "metadata": {
    "collapsed": false
   },
   "outputs": [],
   "source": [
    "import pandas as pd\n",
    "import matplotlib.pyplot as plt\n",
    "import numpy as np\n",
    "import seaborn as sns\n",
    "from sklearn.metrics import confusion_matrix\n",
    "from sklearn.metrics import classification_report\n",
    "import math\n",
    "%matplotlib inline"
   ]
  },
  {
   "cell_type": "code",
   "execution_count": 2,
   "metadata": {
    "collapsed": false,
    "scrolled": true
   },
   "outputs": [
    {
     "data": {
      "text/html": [
       "<div>\n",
       "<style>\n",
       "    .dataframe thead tr:only-child th {\n",
       "        text-align: right;\n",
       "    }\n",
       "\n",
       "    .dataframe thead th {\n",
       "        text-align: left;\n",
       "    }\n",
       "\n",
       "    .dataframe tbody tr th {\n",
       "        vertical-align: top;\n",
       "    }\n",
       "</style>\n",
       "<table border=\"1\" class=\"dataframe\">\n",
       "  <thead>\n",
       "    <tr style=\"text-align: right;\">\n",
       "      <th></th>\n",
       "      <th>id</th>\n",
       "      <th>diagnosis</th>\n",
       "      <th>radius_mean</th>\n",
       "      <th>texture_mean</th>\n",
       "      <th>perimeter_mean</th>\n",
       "      <th>area_mean</th>\n",
       "      <th>smoothness_mean</th>\n",
       "      <th>compactness_mean</th>\n",
       "      <th>concavity_mean</th>\n",
       "      <th>concave points_mean</th>\n",
       "      <th>...</th>\n",
       "      <th>texture_worst</th>\n",
       "      <th>perimeter_worst</th>\n",
       "      <th>area_worst</th>\n",
       "      <th>smoothness_worst</th>\n",
       "      <th>compactness_worst</th>\n",
       "      <th>concavity_worst</th>\n",
       "      <th>concave points_worst</th>\n",
       "      <th>symmetry_worst</th>\n",
       "      <th>fractal_dimension_worst</th>\n",
       "      <th>Unnamed: 32</th>\n",
       "    </tr>\n",
       "  </thead>\n",
       "  <tbody>\n",
       "    <tr>\n",
       "      <th>0</th>\n",
       "      <td>842302</td>\n",
       "      <td>M</td>\n",
       "      <td>17.99</td>\n",
       "      <td>10.38</td>\n",
       "      <td>122.80</td>\n",
       "      <td>1001.0</td>\n",
       "      <td>0.11840</td>\n",
       "      <td>0.27760</td>\n",
       "      <td>0.3001</td>\n",
       "      <td>0.14710</td>\n",
       "      <td>...</td>\n",
       "      <td>17.33</td>\n",
       "      <td>184.60</td>\n",
       "      <td>2019.0</td>\n",
       "      <td>0.1622</td>\n",
       "      <td>0.6656</td>\n",
       "      <td>0.7119</td>\n",
       "      <td>0.2654</td>\n",
       "      <td>0.4601</td>\n",
       "      <td>0.11890</td>\n",
       "      <td>NaN</td>\n",
       "    </tr>\n",
       "    <tr>\n",
       "      <th>1</th>\n",
       "      <td>842517</td>\n",
       "      <td>M</td>\n",
       "      <td>20.57</td>\n",
       "      <td>17.77</td>\n",
       "      <td>132.90</td>\n",
       "      <td>1326.0</td>\n",
       "      <td>0.08474</td>\n",
       "      <td>0.07864</td>\n",
       "      <td>0.0869</td>\n",
       "      <td>0.07017</td>\n",
       "      <td>...</td>\n",
       "      <td>23.41</td>\n",
       "      <td>158.80</td>\n",
       "      <td>1956.0</td>\n",
       "      <td>0.1238</td>\n",
       "      <td>0.1866</td>\n",
       "      <td>0.2416</td>\n",
       "      <td>0.1860</td>\n",
       "      <td>0.2750</td>\n",
       "      <td>0.08902</td>\n",
       "      <td>NaN</td>\n",
       "    </tr>\n",
       "    <tr>\n",
       "      <th>2</th>\n",
       "      <td>84300903</td>\n",
       "      <td>M</td>\n",
       "      <td>19.69</td>\n",
       "      <td>21.25</td>\n",
       "      <td>130.00</td>\n",
       "      <td>1203.0</td>\n",
       "      <td>0.10960</td>\n",
       "      <td>0.15990</td>\n",
       "      <td>0.1974</td>\n",
       "      <td>0.12790</td>\n",
       "      <td>...</td>\n",
       "      <td>25.53</td>\n",
       "      <td>152.50</td>\n",
       "      <td>1709.0</td>\n",
       "      <td>0.1444</td>\n",
       "      <td>0.4245</td>\n",
       "      <td>0.4504</td>\n",
       "      <td>0.2430</td>\n",
       "      <td>0.3613</td>\n",
       "      <td>0.08758</td>\n",
       "      <td>NaN</td>\n",
       "    </tr>\n",
       "    <tr>\n",
       "      <th>3</th>\n",
       "      <td>84348301</td>\n",
       "      <td>M</td>\n",
       "      <td>11.42</td>\n",
       "      <td>20.38</td>\n",
       "      <td>77.58</td>\n",
       "      <td>386.1</td>\n",
       "      <td>0.14250</td>\n",
       "      <td>0.28390</td>\n",
       "      <td>0.2414</td>\n",
       "      <td>0.10520</td>\n",
       "      <td>...</td>\n",
       "      <td>26.50</td>\n",
       "      <td>98.87</td>\n",
       "      <td>567.7</td>\n",
       "      <td>0.2098</td>\n",
       "      <td>0.8663</td>\n",
       "      <td>0.6869</td>\n",
       "      <td>0.2575</td>\n",
       "      <td>0.6638</td>\n",
       "      <td>0.17300</td>\n",
       "      <td>NaN</td>\n",
       "    </tr>\n",
       "    <tr>\n",
       "      <th>4</th>\n",
       "      <td>84358402</td>\n",
       "      <td>M</td>\n",
       "      <td>20.29</td>\n",
       "      <td>14.34</td>\n",
       "      <td>135.10</td>\n",
       "      <td>1297.0</td>\n",
       "      <td>0.10030</td>\n",
       "      <td>0.13280</td>\n",
       "      <td>0.1980</td>\n",
       "      <td>0.10430</td>\n",
       "      <td>...</td>\n",
       "      <td>16.67</td>\n",
       "      <td>152.20</td>\n",
       "      <td>1575.0</td>\n",
       "      <td>0.1374</td>\n",
       "      <td>0.2050</td>\n",
       "      <td>0.4000</td>\n",
       "      <td>0.1625</td>\n",
       "      <td>0.2364</td>\n",
       "      <td>0.07678</td>\n",
       "      <td>NaN</td>\n",
       "    </tr>\n",
       "  </tbody>\n",
       "</table>\n",
       "<p>5 rows × 33 columns</p>\n",
       "</div>"
      ],
      "text/plain": [
       "         id diagnosis  radius_mean  texture_mean  perimeter_mean  area_mean  \\\n",
       "0    842302         M        17.99         10.38          122.80     1001.0   \n",
       "1    842517         M        20.57         17.77          132.90     1326.0   \n",
       "2  84300903         M        19.69         21.25          130.00     1203.0   \n",
       "3  84348301         M        11.42         20.38           77.58      386.1   \n",
       "4  84358402         M        20.29         14.34          135.10     1297.0   \n",
       "\n",
       "   smoothness_mean  compactness_mean  concavity_mean  concave points_mean  \\\n",
       "0          0.11840           0.27760          0.3001              0.14710   \n",
       "1          0.08474           0.07864          0.0869              0.07017   \n",
       "2          0.10960           0.15990          0.1974              0.12790   \n",
       "3          0.14250           0.28390          0.2414              0.10520   \n",
       "4          0.10030           0.13280          0.1980              0.10430   \n",
       "\n",
       "      ...       texture_worst  perimeter_worst  area_worst  smoothness_worst  \\\n",
       "0     ...               17.33           184.60      2019.0            0.1622   \n",
       "1     ...               23.41           158.80      1956.0            0.1238   \n",
       "2     ...               25.53           152.50      1709.0            0.1444   \n",
       "3     ...               26.50            98.87       567.7            0.2098   \n",
       "4     ...               16.67           152.20      1575.0            0.1374   \n",
       "\n",
       "   compactness_worst  concavity_worst  concave points_worst  symmetry_worst  \\\n",
       "0             0.6656           0.7119                0.2654          0.4601   \n",
       "1             0.1866           0.2416                0.1860          0.2750   \n",
       "2             0.4245           0.4504                0.2430          0.3613   \n",
       "3             0.8663           0.6869                0.2575          0.6638   \n",
       "4             0.2050           0.4000                0.1625          0.2364   \n",
       "\n",
       "   fractal_dimension_worst  Unnamed: 32  \n",
       "0                  0.11890          NaN  \n",
       "1                  0.08902          NaN  \n",
       "2                  0.08758          NaN  \n",
       "3                  0.17300          NaN  \n",
       "4                  0.07678          NaN  \n",
       "\n",
       "[5 rows x 33 columns]"
      ]
     },
     "execution_count": 2,
     "metadata": {},
     "output_type": "execute_result"
    }
   ],
   "source": [
    "df = pd.read_csv('data_breast_cancer.csv')\n",
    "df.head()"
   ]
  },
  {
   "cell_type": "code",
   "execution_count": 3,
   "metadata": {
    "collapsed": false
   },
   "outputs": [
    {
     "data": {
      "text/plain": [
       "Index([u'id', u'diagnosis', u'radius_mean', u'texture_mean', u'perimeter_mean',\n",
       "       u'area_mean', u'smoothness_mean', u'compactness_mean',\n",
       "       u'concavity_mean', u'concave_points_mean', u'symmetry_mean',\n",
       "       u'fractal_dimension_mean', u'radius_se', u'texture_se', u'perimeter_se',\n",
       "       u'area_se', u'smoothness_se', u'compactness_se', u'concavity_se',\n",
       "       u'concave_points_se', u'symmetry_se', u'fractal_dimension_se',\n",
       "       u'radius_worst', u'texture_worst', u'perimeter_worst', u'area_worst',\n",
       "       u'smoothness_worst', u'compactness_worst', u'concavity_worst',\n",
       "       u'concave_points_worst', u'symmetry_worst', u'fractal_dimension_worst',\n",
       "       u'Unnamed: 32'],\n",
       "      dtype='object')"
      ]
     },
     "execution_count": 3,
     "metadata": {},
     "output_type": "execute_result"
    }
   ],
   "source": [
    "df.rename(columns={'concave points_mean': 'concave_points_mean', 'concave points_se': 'concave_points_se',\n",
    "                'concave points_worst': 'concave_points_worst'}, inplace=True)\n",
    "df.columns"
   ]
  },
  {
   "cell_type": "code",
   "execution_count": 444,
   "metadata": {
    "collapsed": false
   },
   "outputs": [
    {
     "data": {
      "text/plain": [
       "id                           int64\n",
       "diagnosis                   object\n",
       "radius_mean                float64\n",
       "texture_mean               float64\n",
       "perimeter_mean             float64\n",
       "area_mean                  float64\n",
       "smoothness_mean            float64\n",
       "compactness_mean           float64\n",
       "concavity_mean             float64\n",
       "concave_points_mean        float64\n",
       "symmetry_mean              float64\n",
       "fractal_dimension_mean     float64\n",
       "radius_se                  float64\n",
       "texture_se                 float64\n",
       "perimeter_se               float64\n",
       "area_se                    float64\n",
       "smoothness_se              float64\n",
       "compactness_se             float64\n",
       "concavity_se               float64\n",
       "concave_points_se          float64\n",
       "symmetry_se                float64\n",
       "fractal_dimension_se       float64\n",
       "radius_worst               float64\n",
       "texture_worst              float64\n",
       "perimeter_worst            float64\n",
       "area_worst                 float64\n",
       "smoothness_worst           float64\n",
       "compactness_worst          float64\n",
       "concavity_worst            float64\n",
       "concave_points_worst       float64\n",
       "symmetry_worst             float64\n",
       "fractal_dimension_worst    float64\n",
       "Unnamed: 32                float64\n",
       "dtype: object"
      ]
     },
     "execution_count": 444,
     "metadata": {},
     "output_type": "execute_result"
    }
   ],
   "source": [
    "df.dtypes"
   ]
  },
  {
   "cell_type": "code",
   "execution_count": 445,
   "metadata": {
    "collapsed": false
   },
   "outputs": [
    {
     "data": {
      "text/plain": [
       "id                           0\n",
       "diagnosis                    0\n",
       "radius_mean                  0\n",
       "texture_mean                 0\n",
       "perimeter_mean               0\n",
       "area_mean                    0\n",
       "smoothness_mean              0\n",
       "compactness_mean             0\n",
       "concavity_mean               0\n",
       "concave_points_mean          0\n",
       "symmetry_mean                0\n",
       "fractal_dimension_mean       0\n",
       "radius_se                    0\n",
       "texture_se                   0\n",
       "perimeter_se                 0\n",
       "area_se                      0\n",
       "smoothness_se                0\n",
       "compactness_se               0\n",
       "concavity_se                 0\n",
       "concave_points_se            0\n",
       "symmetry_se                  0\n",
       "fractal_dimension_se         0\n",
       "radius_worst                 0\n",
       "texture_worst                0\n",
       "perimeter_worst              0\n",
       "area_worst                   0\n",
       "smoothness_worst             0\n",
       "compactness_worst            0\n",
       "concavity_worst              0\n",
       "concave_points_worst         0\n",
       "symmetry_worst               0\n",
       "fractal_dimension_worst      0\n",
       "Unnamed: 32                569\n",
       "dtype: int64"
      ]
     },
     "execution_count": 445,
     "metadata": {},
     "output_type": "execute_result"
    }
   ],
   "source": [
    "#missing (null)values in dataframe.\n",
    "df.isnull().sum()"
   ]
  },
  {
   "cell_type": "code",
   "execution_count": 446,
   "metadata": {
    "collapsed": false
   },
   "outputs": [
    {
     "data": {
      "text/html": [
       "<div>\n",
       "<style>\n",
       "    .dataframe thead tr:only-child th {\n",
       "        text-align: right;\n",
       "    }\n",
       "\n",
       "    .dataframe thead th {\n",
       "        text-align: left;\n",
       "    }\n",
       "\n",
       "    .dataframe tbody tr th {\n",
       "        vertical-align: top;\n",
       "    }\n",
       "</style>\n",
       "<table border=\"1\" class=\"dataframe\">\n",
       "  <thead>\n",
       "    <tr style=\"text-align: right;\">\n",
       "      <th></th>\n",
       "      <th>radius_mean</th>\n",
       "      <th>texture_mean</th>\n",
       "      <th>perimeter_mean</th>\n",
       "      <th>area_mean</th>\n",
       "      <th>smoothness_mean</th>\n",
       "      <th>compactness_mean</th>\n",
       "      <th>concavity_mean</th>\n",
       "      <th>concave_points_mean</th>\n",
       "      <th>symmetry_mean</th>\n",
       "      <th>fractal_dimension_mean</th>\n",
       "    </tr>\n",
       "  </thead>\n",
       "  <tbody>\n",
       "    <tr>\n",
       "      <th>mean</th>\n",
       "      <td>14.127292</td>\n",
       "      <td>19.289649</td>\n",
       "      <td>91.969033</td>\n",
       "      <td>654.889104</td>\n",
       "      <td>0.09636</td>\n",
       "      <td>0.104341</td>\n",
       "      <td>0.088799</td>\n",
       "      <td>0.048919</td>\n",
       "      <td>0.181162</td>\n",
       "      <td>0.062798</td>\n",
       "    </tr>\n",
       "    <tr>\n",
       "      <th>median</th>\n",
       "      <td>13.370000</td>\n",
       "      <td>18.840000</td>\n",
       "      <td>86.240000</td>\n",
       "      <td>551.100000</td>\n",
       "      <td>0.09587</td>\n",
       "      <td>0.092630</td>\n",
       "      <td>0.061540</td>\n",
       "      <td>0.033500</td>\n",
       "      <td>0.179200</td>\n",
       "      <td>0.061540</td>\n",
       "    </tr>\n",
       "    <tr>\n",
       "      <th>|mean-median|</th>\n",
       "      <td>0.757292</td>\n",
       "      <td>0.449649</td>\n",
       "      <td>5.729033</td>\n",
       "      <td>103.789104</td>\n",
       "      <td>0.00049</td>\n",
       "      <td>0.011711</td>\n",
       "      <td>0.027259</td>\n",
       "      <td>0.015419</td>\n",
       "      <td>0.001962</td>\n",
       "      <td>0.001258</td>\n",
       "    </tr>\n",
       "  </tbody>\n",
       "</table>\n",
       "</div>"
      ],
      "text/plain": [
       "               radius_mean  texture_mean  perimeter_mean   area_mean  \\\n",
       "mean             14.127292     19.289649       91.969033  654.889104   \n",
       "median           13.370000     18.840000       86.240000  551.100000   \n",
       "|mean-median|     0.757292      0.449649        5.729033  103.789104   \n",
       "\n",
       "               smoothness_mean  compactness_mean  concavity_mean  \\\n",
       "mean                   0.09636          0.104341        0.088799   \n",
       "median                 0.09587          0.092630        0.061540   \n",
       "|mean-median|          0.00049          0.011711        0.027259   \n",
       "\n",
       "               concave_points_mean  symmetry_mean  fractal_dimension_mean  \n",
       "mean                      0.048919       0.181162                0.062798  \n",
       "median                    0.033500       0.179200                0.061540  \n",
       "|mean-median|             0.015419       0.001962                0.001258  "
      ]
     },
     "execution_count": 446,
     "metadata": {},
     "output_type": "execute_result"
    }
   ],
   "source": [
    "#This function creates a dataframe that displays the mean, median, an diffenrce beteen the two in order to know\n",
    "#if the data is normally distributed.\n",
    "\n",
    "cols_to_keep = df.columns[2:12]\n",
    "df_cols = df[cols_to_keep]\n",
    "\n",
    "lst_index = ['mean', 'median', '|mean-median|']\n",
    "def is_it_normal(d_frame, lst_index):\n",
    "    out_df = pd.DataFrame(index=lst_index)\n",
    "    for col in df_cols.columns:\n",
    "        lst_col = []\n",
    "        curr_mean = d_frame[col].mean()\n",
    "        curr_median = d_frame[col].median()\n",
    "        curr_diff = abs(curr_mean - curr_median)\n",
    "        lst_col.append(curr_mean)\n",
    "        lst_col.append(curr_median)\n",
    "        lst_col.append(curr_diff)\n",
    "        out_df[col] = lst_col\n",
    "    return out_df\n",
    "is_it_normal(df_cols, lst_index)\n",
    "#   return dct_col\n",
    "#dict_for_df(df_cols)"
   ]
  },
  {
   "cell_type": "code",
   "execution_count": 637,
   "metadata": {
    "collapsed": false
   },
   "outputs": [
    {
     "data": {
      "image/png": "[encoded data removed]",
      "text/plain": [
       "<matplotlib.figure.Figure at 0x1456d208>"
      ]
     },
     "metadata": {},
     "output_type": "display_data"
    }
   ],
   "source": [
    "fig = plt.figure()\n",
    "fig.set_figheight(10)\n",
    "fig.set_figwidth(10)\n",
    "ax1 = fig.add_subplot(3,4,1)\n",
    "_ = ax1.hist(df['radius_mean'], bins=50)\n",
    "ax1.set_title('radius_mean')\n",
    "ax2 = fig.add_subplot(3,4,2)\n",
    "_ = ax2.hist(df['texture_mean'], bins=50)\n",
    "ax2.set_title('texture_mean')\n",
    "ax3 = fig.add_subplot(3,4,3)\n",
    "_ = ax3.hist(df['perimeter_mean'], bins=50)\n",
    "ax3.set_title('perimeter_mean')\n",
    "ax4 = fig.add_subplot(3,4,4)\n",
    "_ = ax4.hist(df['area_mean'], bins=50)\n",
    "ax4.set_title('area_mean')\n",
    "ax5 = fig.add_subplot(3,4,5)\n",
    "_ = ax5.hist(df['smoothness_mean'], bins=50)\n",
    "ax5.set_title('smoothness_mean')\n",
    "ax6 = fig.add_subplot(3,4,6)\n",
    "_ = ax6.hist(df['compactness_mean'], bins=50)\n",
    "ax6.set_title('compactness_mean')\n",
    "ax7 = fig.add_subplot(3,4,7)\n",
    "_ = ax7.hist(df['concavity_mean'], bins=50)\n",
    "ax7.set_title('concavity_mean')\n",
    "ax8 = fig.add_subplot(3,4,8)\n",
    "_ = ax8.hist(df['concave_points_mean'], bins=50)\n",
    "ax8.set_title('concave_points_mean')\n",
    "ax9 = fig.add_subplot(3,4,9)\n",
    "_ = ax9.hist(df['symmetry_mean'], bins=50)\n",
    "ax9.set_title('symmetry_mean')\n",
    "ax10 = fig.add_subplot(3,4,10)\n",
    "_ = ax10.hist(df['fractal_dimension_mean'], bins=50)\n",
    "ax10.set_title('fractal_dimension_mean')\n",
    "plt.tight_layout()"
   ]
  },
  {
   "cell_type": "code",
   "execution_count": 448,
   "metadata": {
    "collapsed": false
   },
   "outputs": [
    {
     "data": {
      "image/png": "[encoded data removed]",
      "text/plain": [
       "<matplotlib.figure.Figure at 0xe817da0>"
      ]
     },
     "metadata": {},
     "output_type": "display_data"
    }
   ],
   "source": [
    "fig = plt.figure()\n",
    "fig.set_figheight(10)\n",
    "fig.set_figwidth(10)\n",
    "ax1 = fig.add_subplot(2,2,1)\n",
    "_ = ax1.boxplot(df['radius_mean'])\n",
    "ax1.set_title('radius_mean')\n",
    "ax2 = fig.add_subplot(2,2,2)\n",
    "_ = ax2.boxplot(df['texture_mean'])\n",
    "ax2.set_title('texture_mean')\n",
    "ax3 = fig.add_subplot(2,2,3)\n",
    "_ = ax3.boxplot(df['perimeter_mean'])\n",
    "ax3.set_title('perimeter_mean')\n",
    "ax4 = fig.add_subplot(2,2,4)\n",
    "_ = ax4.boxplot(df['area_mean'])\n",
    "ax4.set_title('area_mean')\n",
    "plt.tight_layout()"
   ]
  },
  {
   "cell_type": "code",
   "execution_count": 449,
   "metadata": {
    "collapsed": false
   },
   "outputs": [
    {
     "data": {
      "image/png": "[encoded data removed]",
      "text/plain": [
       "<matplotlib.figure.Figure at 0xf6706d8>"
      ]
     },
     "metadata": {},
     "output_type": "display_data"
    }
   ],
   "source": [
    "fig = plt.figure()\n",
    "fig.set_figheight(10)\n",
    "fig.set_figwidth(10)\n",
    "ax5 = fig.add_subplot(2,3,1)\n",
    "_ = ax5.boxplot(df['smoothness_mean'])\n",
    "ax5.set_title('smoothness_mean')\n",
    "ax6 = fig.add_subplot(2,3,2)\n",
    "_ = ax6.boxplot(df['compactness_mean'])\n",
    "ax6.set_title('compactness_mean')\n",
    "ax7 = fig.add_subplot(2,3,3)\n",
    "_ = ax7.boxplot(df['concavity_mean'])\n",
    "ax7.set_title('concavity_mean')\n",
    "ax8 = fig.add_subplot(2,3,4)\n",
    "_ = ax8.boxplot(df['concave_points_mean'])\n",
    "ax8.set_title('concave_points_mean')\n",
    "ax9 = fig.add_subplot(2,3,4)\n",
    "_ = ax9.boxplot(df['symmetry_mean'])\n",
    "ax9.set_title('symmetry_mean')\n",
    "ax10 = fig.add_subplot(2,3,5)\n",
    "_ = ax10.boxplot(df['fractal_dimension_mean'])\n",
    "ax10.set_title('fractal_dimension_mean')\n",
    "plt.tight_layout()"
   ]
  },
  {
   "cell_type": "code",
   "execution_count": 450,
   "metadata": {
    "collapsed": false
   },
   "outputs": [
    {
     "data": {
      "text/html": [
       "<div>\n",
       "<style>\n",
       "    .dataframe thead tr:only-child th {\n",
       "        text-align: right;\n",
       "    }\n",
       "\n",
       "    .dataframe thead th {\n",
       "        text-align: left;\n",
       "    }\n",
       "\n",
       "    .dataframe tbody tr th {\n",
       "        vertical-align: top;\n",
       "    }\n",
       "</style>\n",
       "<table border=\"1\" class=\"dataframe\">\n",
       "  <thead>\n",
       "    <tr style=\"text-align: right;\">\n",
       "      <th></th>\n",
       "      <th>radius_mean</th>\n",
       "      <th>texture_mean</th>\n",
       "      <th>perimeter_mean</th>\n",
       "      <th>area_mean</th>\n",
       "      <th>smoothness_mean</th>\n",
       "      <th>compactness_mean</th>\n",
       "      <th>concavity_mean</th>\n",
       "      <th>concave_points_mean</th>\n",
       "      <th>symmetry_mean</th>\n",
       "      <th>fractal_dimension_mean</th>\n",
       "    </tr>\n",
       "  </thead>\n",
       "  <tbody>\n",
       "    <tr>\n",
       "      <th>radius_mean</th>\n",
       "      <td>1.000000</td>\n",
       "      <td>0.323782</td>\n",
       "      <td>0.997855</td>\n",
       "      <td>0.987357</td>\n",
       "      <td>0.170581</td>\n",
       "      <td>0.506124</td>\n",
       "      <td>0.676764</td>\n",
       "      <td>0.822529</td>\n",
       "      <td>0.147741</td>\n",
       "      <td>-0.311631</td>\n",
       "    </tr>\n",
       "    <tr>\n",
       "      <th>texture_mean</th>\n",
       "      <td>0.323782</td>\n",
       "      <td>1.000000</td>\n",
       "      <td>0.329533</td>\n",
       "      <td>0.321086</td>\n",
       "      <td>-0.023389</td>\n",
       "      <td>0.236702</td>\n",
       "      <td>0.302418</td>\n",
       "      <td>0.293464</td>\n",
       "      <td>0.071401</td>\n",
       "      <td>-0.076437</td>\n",
       "    </tr>\n",
       "    <tr>\n",
       "      <th>perimeter_mean</th>\n",
       "      <td>0.997855</td>\n",
       "      <td>0.329533</td>\n",
       "      <td>1.000000</td>\n",
       "      <td>0.986507</td>\n",
       "      <td>0.207278</td>\n",
       "      <td>0.556936</td>\n",
       "      <td>0.716136</td>\n",
       "      <td>0.850977</td>\n",
       "      <td>0.183027</td>\n",
       "      <td>-0.261477</td>\n",
       "    </tr>\n",
       "    <tr>\n",
       "      <th>area_mean</th>\n",
       "      <td>0.987357</td>\n",
       "      <td>0.321086</td>\n",
       "      <td>0.986507</td>\n",
       "      <td>1.000000</td>\n",
       "      <td>0.177028</td>\n",
       "      <td>0.498502</td>\n",
       "      <td>0.685983</td>\n",
       "      <td>0.823269</td>\n",
       "      <td>0.151293</td>\n",
       "      <td>-0.283110</td>\n",
       "    </tr>\n",
       "    <tr>\n",
       "      <th>smoothness_mean</th>\n",
       "      <td>0.170581</td>\n",
       "      <td>-0.023389</td>\n",
       "      <td>0.207278</td>\n",
       "      <td>0.177028</td>\n",
       "      <td>1.000000</td>\n",
       "      <td>0.659123</td>\n",
       "      <td>0.521984</td>\n",
       "      <td>0.553695</td>\n",
       "      <td>0.557775</td>\n",
       "      <td>0.584792</td>\n",
       "    </tr>\n",
       "    <tr>\n",
       "      <th>compactness_mean</th>\n",
       "      <td>0.506124</td>\n",
       "      <td>0.236702</td>\n",
       "      <td>0.556936</td>\n",
       "      <td>0.498502</td>\n",
       "      <td>0.659123</td>\n",
       "      <td>1.000000</td>\n",
       "      <td>0.883121</td>\n",
       "      <td>0.831135</td>\n",
       "      <td>0.602641</td>\n",
       "      <td>0.565369</td>\n",
       "    </tr>\n",
       "    <tr>\n",
       "      <th>concavity_mean</th>\n",
       "      <td>0.676764</td>\n",
       "      <td>0.302418</td>\n",
       "      <td>0.716136</td>\n",
       "      <td>0.685983</td>\n",
       "      <td>0.521984</td>\n",
       "      <td>0.883121</td>\n",
       "      <td>1.000000</td>\n",
       "      <td>0.921391</td>\n",
       "      <td>0.500667</td>\n",
       "      <td>0.336783</td>\n",
       "    </tr>\n",
       "    <tr>\n",
       "      <th>concave_points_mean</th>\n",
       "      <td>0.822529</td>\n",
       "      <td>0.293464</td>\n",
       "      <td>0.850977</td>\n",
       "      <td>0.823269</td>\n",
       "      <td>0.553695</td>\n",
       "      <td>0.831135</td>\n",
       "      <td>0.921391</td>\n",
       "      <td>1.000000</td>\n",
       "      <td>0.462497</td>\n",
       "      <td>0.166917</td>\n",
       "    </tr>\n",
       "    <tr>\n",
       "      <th>symmetry_mean</th>\n",
       "      <td>0.147741</td>\n",
       "      <td>0.071401</td>\n",
       "      <td>0.183027</td>\n",
       "      <td>0.151293</td>\n",
       "      <td>0.557775</td>\n",
       "      <td>0.602641</td>\n",
       "      <td>0.500667</td>\n",
       "      <td>0.462497</td>\n",
       "      <td>1.000000</td>\n",
       "      <td>0.479921</td>\n",
       "    </tr>\n",
       "    <tr>\n",
       "      <th>fractal_dimension_mean</th>\n",
       "      <td>-0.311631</td>\n",
       "      <td>-0.076437</td>\n",
       "      <td>-0.261477</td>\n",
       "      <td>-0.283110</td>\n",
       "      <td>0.584792</td>\n",
       "      <td>0.565369</td>\n",
       "      <td>0.336783</td>\n",
       "      <td>0.166917</td>\n",
       "      <td>0.479921</td>\n",
       "      <td>1.000000</td>\n",
       "    </tr>\n",
       "  </tbody>\n",
       "</table>\n",
       "</div>"
      ],
      "text/plain": [
       "                        radius_mean  texture_mean  perimeter_mean  area_mean  \\\n",
       "radius_mean                1.000000      0.323782        0.997855   0.987357   \n",
       "texture_mean               0.323782      1.000000        0.329533   0.321086   \n",
       "perimeter_mean             0.997855      0.329533        1.000000   0.986507   \n",
       "area_mean                  0.987357      0.321086        0.986507   1.000000   \n",
       "smoothness_mean            0.170581     -0.023389        0.207278   0.177028   \n",
       "compactness_mean           0.506124      0.236702        0.556936   0.498502   \n",
       "concavity_mean             0.676764      0.302418        0.716136   0.685983   \n",
       "concave_points_mean        0.822529      0.293464        0.850977   0.823269   \n",
       "symmetry_mean              0.147741      0.071401        0.183027   0.151293   \n",
       "fractal_dimension_mean    -0.311631     -0.076437       -0.261477  -0.283110   \n",
       "\n",
       "                        smoothness_mean  compactness_mean  concavity_mean  \\\n",
       "radius_mean                    0.170581          0.506124        0.676764   \n",
       "texture_mean                  -0.023389          0.236702        0.302418   \n",
       "perimeter_mean                 0.207278          0.556936        0.716136   \n",
       "area_mean                      0.177028          0.498502        0.685983   \n",
       "smoothness_mean                1.000000          0.659123        0.521984   \n",
       "compactness_mean               0.659123          1.000000        0.883121   \n",
       "concavity_mean                 0.521984          0.883121        1.000000   \n",
       "concave_points_mean            0.553695          0.831135        0.921391   \n",
       "symmetry_mean                  0.557775          0.602641        0.500667   \n",
       "fractal_dimension_mean         0.584792          0.565369        0.336783   \n",
       "\n",
       "                        concave_points_mean  symmetry_mean  \\\n",
       "radius_mean                        0.822529       0.147741   \n",
       "texture_mean                       0.293464       0.071401   \n",
       "perimeter_mean                     0.850977       0.183027   \n",
       "area_mean                          0.823269       0.151293   \n",
       "smoothness_mean                    0.553695       0.557775   \n",
       "compactness_mean                   0.831135       0.602641   \n",
       "concavity_mean                     0.921391       0.500667   \n",
       "concave_points_mean                1.000000       0.462497   \n",
       "symmetry_mean                      0.462497       1.000000   \n",
       "fractal_dimension_mean             0.166917       0.479921   \n",
       "\n",
       "                        fractal_dimension_mean  \n",
       "radius_mean                          -0.311631  \n",
       "texture_mean                         -0.076437  \n",
       "perimeter_mean                       -0.261477  \n",
       "area_mean                            -0.283110  \n",
       "smoothness_mean                       0.584792  \n",
       "compactness_mean                      0.565369  \n",
       "concavity_mean                        0.336783  \n",
       "concave_points_mean                   0.166917  \n",
       "symmetry_mean                         0.479921  \n",
       "fractal_dimension_mean                1.000000  "
      ]
     },
     "execution_count": 450,
     "metadata": {},
     "output_type": "execute_result"
    }
   ],
   "source": [
    "#Correlation Matrix...same as covariance matrix?\n",
    "cols_to_keep = df.columns[2:12]\n",
    "df_cols = df[cols_to_keep]\n",
    "df_corr = df_cols.corr()\n",
    "df_corr"
   ]
  },
  {
   "cell_type": "code",
   "execution_count": 451,
   "metadata": {
    "collapsed": false
   },
   "outputs": [
    {
     "name": "stdout",
     "output_type": "stream",
     "text": [
      "Axes(0.125,0.125;0.62x0.755)\n"
     ]
    },
    {
     "data": {
      "image/png": "[encoded data removed]",
      "text/plain": [
       "<matplotlib.figure.Figure at 0x13c4b4e0>"
      ]
     },
     "metadata": {},
     "output_type": "display_data"
    }
   ],
   "source": [
    "#Correlation heatmap\n",
    "cmap = sns.diverging_palette(220, 10, as_cmap=True)\n",
    "print sns.heatmap(df_corr, cmap=cmap)"
   ]
  },
  {
   "cell_type": "code",
   "execution_count": 452,
   "metadata": {
    "collapsed": false
   },
   "outputs": [
    {
     "data": {
      "text/html": [
       "<div>\n",
       "<style>\n",
       "    .dataframe thead tr:only-child th {\n",
       "        text-align: right;\n",
       "    }\n",
       "\n",
       "    .dataframe thead th {\n",
       "        text-align: left;\n",
       "    }\n",
       "\n",
       "    .dataframe tbody tr th {\n",
       "        vertical-align: top;\n",
       "    }\n",
       "</style>\n",
       "<table border=\"1\" class=\"dataframe\">\n",
       "  <thead>\n",
       "    <tr style=\"text-align: right;\">\n",
       "      <th></th>\n",
       "      <th>id</th>\n",
       "      <th>radius_mean</th>\n",
       "      <th>texture_mean</th>\n",
       "      <th>perimeter_mean</th>\n",
       "      <th>area_mean</th>\n",
       "      <th>smoothness_mean</th>\n",
       "      <th>compactness_mean</th>\n",
       "      <th>concavity_mean</th>\n",
       "      <th>concave_points_mean</th>\n",
       "      <th>symmetry_mean</th>\n",
       "      <th>...</th>\n",
       "      <th>texture_worst</th>\n",
       "      <th>perimeter_worst</th>\n",
       "      <th>area_worst</th>\n",
       "      <th>smoothness_worst</th>\n",
       "      <th>compactness_worst</th>\n",
       "      <th>concavity_worst</th>\n",
       "      <th>concave_points_worst</th>\n",
       "      <th>symmetry_worst</th>\n",
       "      <th>fractal_dimension_worst</th>\n",
       "      <th>Unnamed: 32</th>\n",
       "    </tr>\n",
       "    <tr>\n",
       "      <th>diagnosis</th>\n",
       "      <th></th>\n",
       "      <th></th>\n",
       "      <th></th>\n",
       "      <th></th>\n",
       "      <th></th>\n",
       "      <th></th>\n",
       "      <th></th>\n",
       "      <th></th>\n",
       "      <th></th>\n",
       "      <th></th>\n",
       "      <th></th>\n",
       "      <th></th>\n",
       "      <th></th>\n",
       "      <th></th>\n",
       "      <th></th>\n",
       "      <th></th>\n",
       "      <th></th>\n",
       "      <th></th>\n",
       "      <th></th>\n",
       "      <th></th>\n",
       "      <th></th>\n",
       "    </tr>\n",
       "  </thead>\n",
       "  <tbody>\n",
       "    <tr>\n",
       "      <th>B</th>\n",
       "      <td>357</td>\n",
       "      <td>357</td>\n",
       "      <td>357</td>\n",
       "      <td>357</td>\n",
       "      <td>357</td>\n",
       "      <td>357</td>\n",
       "      <td>357</td>\n",
       "      <td>357</td>\n",
       "      <td>357</td>\n",
       "      <td>357</td>\n",
       "      <td>...</td>\n",
       "      <td>357</td>\n",
       "      <td>357</td>\n",
       "      <td>357</td>\n",
       "      <td>357</td>\n",
       "      <td>357</td>\n",
       "      <td>357</td>\n",
       "      <td>357</td>\n",
       "      <td>357</td>\n",
       "      <td>357</td>\n",
       "      <td>0</td>\n",
       "    </tr>\n",
       "    <tr>\n",
       "      <th>M</th>\n",
       "      <td>212</td>\n",
       "      <td>212</td>\n",
       "      <td>212</td>\n",
       "      <td>212</td>\n",
       "      <td>212</td>\n",
       "      <td>212</td>\n",
       "      <td>212</td>\n",
       "      <td>212</td>\n",
       "      <td>212</td>\n",
       "      <td>212</td>\n",
       "      <td>...</td>\n",
       "      <td>212</td>\n",
       "      <td>212</td>\n",
       "      <td>212</td>\n",
       "      <td>212</td>\n",
       "      <td>212</td>\n",
       "      <td>212</td>\n",
       "      <td>212</td>\n",
       "      <td>212</td>\n",
       "      <td>212</td>\n",
       "      <td>0</td>\n",
       "    </tr>\n",
       "  </tbody>\n",
       "</table>\n",
       "<p>2 rows × 32 columns</p>\n",
       "</div>"
      ],
      "text/plain": [
       "            id  radius_mean  texture_mean  perimeter_mean  area_mean  \\\n",
       "diagnosis                                                              \n",
       "B          357          357           357             357        357   \n",
       "M          212          212           212             212        212   \n",
       "\n",
       "           smoothness_mean  compactness_mean  concavity_mean  \\\n",
       "diagnosis                                                      \n",
       "B                      357               357             357   \n",
       "M                      212               212             212   \n",
       "\n",
       "           concave_points_mean  symmetry_mean     ...       texture_worst  \\\n",
       "diagnosis                                         ...                       \n",
       "B                          357            357     ...                 357   \n",
       "M                          212            212     ...                 212   \n",
       "\n",
       "           perimeter_worst  area_worst  smoothness_worst  compactness_worst  \\\n",
       "diagnosis                                                                     \n",
       "B                      357         357               357                357   \n",
       "M                      212         212               212                212   \n",
       "\n",
       "           concavity_worst  concave_points_worst  symmetry_worst  \\\n",
       "diagnosis                                                          \n",
       "B                      357                   357             357   \n",
       "M                      212                   212             212   \n",
       "\n",
       "           fractal_dimension_worst  Unnamed: 32  \n",
       "diagnosis                                        \n",
       "B                              357            0  \n",
       "M                              212            0  \n",
       "\n",
       "[2 rows x 32 columns]"
      ]
     },
     "execution_count": 452,
     "metadata": {},
     "output_type": "execute_result"
    }
   ],
   "source": [
    "#group by target variable...count() may not be that informative, but can build on this.\n",
    "df.groupby('diagnosis').count()"
   ]
  },
  {
   "cell_type": "code",
   "execution_count": 453,
   "metadata": {
    "collapsed": false
   },
   "outputs": [
    {
     "data": {
      "text/html": [
       "<div>\n",
       "<style>\n",
       "    .dataframe thead tr:only-child th {\n",
       "        text-align: right;\n",
       "    }\n",
       "\n",
       "    .dataframe thead th {\n",
       "        text-align: left;\n",
       "    }\n",
       "\n",
       "    .dataframe tbody tr th {\n",
       "        vertical-align: top;\n",
       "    }\n",
       "</style>\n",
       "<table border=\"1\" class=\"dataframe\">\n",
       "  <thead>\n",
       "    <tr style=\"text-align: right;\">\n",
       "      <th></th>\n",
       "      <th>id</th>\n",
       "      <th>diagnosis</th>\n",
       "      <th>radius_mean</th>\n",
       "      <th>texture_mean</th>\n",
       "      <th>perimeter_mean</th>\n",
       "      <th>area_mean</th>\n",
       "      <th>smoothness_mean</th>\n",
       "      <th>compactness_mean</th>\n",
       "      <th>concavity_mean</th>\n",
       "      <th>concave_points_mean</th>\n",
       "      <th>...</th>\n",
       "      <th>texture_worst</th>\n",
       "      <th>perimeter_worst</th>\n",
       "      <th>area_worst</th>\n",
       "      <th>smoothness_worst</th>\n",
       "      <th>compactness_worst</th>\n",
       "      <th>concavity_worst</th>\n",
       "      <th>concave_points_worst</th>\n",
       "      <th>symmetry_worst</th>\n",
       "      <th>fractal_dimension_worst</th>\n",
       "      <th>Unnamed: 32</th>\n",
       "    </tr>\n",
       "    <tr>\n",
       "      <th>diagnosis</th>\n",
       "      <th></th>\n",
       "      <th></th>\n",
       "      <th></th>\n",
       "      <th></th>\n",
       "      <th></th>\n",
       "      <th></th>\n",
       "      <th></th>\n",
       "      <th></th>\n",
       "      <th></th>\n",
       "      <th></th>\n",
       "      <th></th>\n",
       "      <th></th>\n",
       "      <th></th>\n",
       "      <th></th>\n",
       "      <th></th>\n",
       "      <th></th>\n",
       "      <th></th>\n",
       "      <th></th>\n",
       "      <th></th>\n",
       "      <th></th>\n",
       "      <th></th>\n",
       "    </tr>\n",
       "  </thead>\n",
       "  <tbody>\n",
       "    <tr>\n",
       "      <th>B</th>\n",
       "      <td>357</td>\n",
       "      <td>357</td>\n",
       "      <td>357</td>\n",
       "      <td>357</td>\n",
       "      <td>357</td>\n",
       "      <td>357</td>\n",
       "      <td>357</td>\n",
       "      <td>357</td>\n",
       "      <td>357</td>\n",
       "      <td>357</td>\n",
       "      <td>...</td>\n",
       "      <td>357</td>\n",
       "      <td>357</td>\n",
       "      <td>357</td>\n",
       "      <td>357</td>\n",
       "      <td>357</td>\n",
       "      <td>357</td>\n",
       "      <td>357</td>\n",
       "      <td>357</td>\n",
       "      <td>357</td>\n",
       "      <td>0</td>\n",
       "    </tr>\n",
       "    <tr>\n",
       "      <th>M</th>\n",
       "      <td>212</td>\n",
       "      <td>212</td>\n",
       "      <td>212</td>\n",
       "      <td>212</td>\n",
       "      <td>212</td>\n",
       "      <td>212</td>\n",
       "      <td>212</td>\n",
       "      <td>212</td>\n",
       "      <td>212</td>\n",
       "      <td>212</td>\n",
       "      <td>...</td>\n",
       "      <td>212</td>\n",
       "      <td>212</td>\n",
       "      <td>212</td>\n",
       "      <td>212</td>\n",
       "      <td>212</td>\n",
       "      <td>212</td>\n",
       "      <td>212</td>\n",
       "      <td>212</td>\n",
       "      <td>212</td>\n",
       "      <td>0</td>\n",
       "    </tr>\n",
       "  </tbody>\n",
       "</table>\n",
       "<p>2 rows × 33 columns</p>\n",
       "</div>"
      ],
      "text/plain": [
       "            id  diagnosis  radius_mean  texture_mean  perimeter_mean  \\\n",
       "diagnosis                                                              \n",
       "B          357        357          357           357             357   \n",
       "M          212        212          212           212             212   \n",
       "\n",
       "           area_mean  smoothness_mean  compactness_mean  concavity_mean  \\\n",
       "diagnosis                                                                 \n",
       "B                357              357               357             357   \n",
       "M                212              212               212             212   \n",
       "\n",
       "           concave_points_mean     ...       texture_worst  perimeter_worst  \\\n",
       "diagnosis                          ...                                        \n",
       "B                          357     ...                 357              357   \n",
       "M                          212     ...                 212              212   \n",
       "\n",
       "           area_worst  smoothness_worst  compactness_worst  concavity_worst  \\\n",
       "diagnosis                                                                     \n",
       "B                 357               357                357              357   \n",
       "M                 212               212                212              212   \n",
       "\n",
       "           concave_points_worst  symmetry_worst  fractal_dimension_worst  \\\n",
       "diagnosis                                                                  \n",
       "B                           357             357                      357   \n",
       "M                           212             212                      212   \n",
       "\n",
       "           Unnamed: 32  \n",
       "diagnosis               \n",
       "B                    0  \n",
       "M                    0  \n",
       "\n",
       "[2 rows x 33 columns]"
      ]
     },
     "execution_count": 453,
     "metadata": {},
     "output_type": "execute_result"
    }
   ],
   "source": [
    "#A targeted groupby is another approach.\n",
    "df.groupby('diagnosis')[df.columns].count()"
   ]
  },
  {
   "cell_type": "code",
   "execution_count": 14,
   "metadata": {
    "collapsed": true
   },
   "outputs": [],
   "source": [
    "#df.groupby(['diagnosis', 'radius_worst'])[['radius_worst']].count()\n",
    "#df.groupby(['diagnosis', 'radius_mean'])[['radius_mean']].count()"
   ]
  },
  {
   "cell_type": "code",
   "execution_count": 454,
   "metadata": {
    "collapsed": false
   },
   "outputs": [
    {
     "data": {
      "text/html": [
       "<div>\n",
       "<style>\n",
       "    .dataframe thead tr:only-child th {\n",
       "        text-align: right;\n",
       "    }\n",
       "\n",
       "    .dataframe thead th {\n",
       "        text-align: left;\n",
       "    }\n",
       "\n",
       "    .dataframe tbody tr th {\n",
       "        vertical-align: top;\n",
       "    }\n",
       "</style>\n",
       "<table border=\"1\" class=\"dataframe\">\n",
       "  <thead>\n",
       "    <tr style=\"text-align: right;\">\n",
       "      <th></th>\n",
       "      <th>diagnosis</th>\n",
       "      <th>radius_mean</th>\n",
       "      <th>texture_mean</th>\n",
       "      <th>perimeter_mean</th>\n",
       "      <th>area_mean</th>\n",
       "      <th>smoothness_mean</th>\n",
       "      <th>compactness_mean</th>\n",
       "      <th>concavity_mean</th>\n",
       "      <th>concave_points_mean</th>\n",
       "      <th>symmetry_mean</th>\n",
       "      <th>fractal_dimension_mean</th>\n",
       "    </tr>\n",
       "  </thead>\n",
       "  <tbody>\n",
       "    <tr>\n",
       "      <th>842302</th>\n",
       "      <td>1</td>\n",
       "      <td>17.99</td>\n",
       "      <td>10.38</td>\n",
       "      <td>122.80</td>\n",
       "      <td>1001.0</td>\n",
       "      <td>0.11840</td>\n",
       "      <td>0.27760</td>\n",
       "      <td>0.3001</td>\n",
       "      <td>0.14710</td>\n",
       "      <td>0.2419</td>\n",
       "      <td>0.07871</td>\n",
       "    </tr>\n",
       "    <tr>\n",
       "      <th>842517</th>\n",
       "      <td>1</td>\n",
       "      <td>20.57</td>\n",
       "      <td>17.77</td>\n",
       "      <td>132.90</td>\n",
       "      <td>1326.0</td>\n",
       "      <td>0.08474</td>\n",
       "      <td>0.07864</td>\n",
       "      <td>0.0869</td>\n",
       "      <td>0.07017</td>\n",
       "      <td>0.1812</td>\n",
       "      <td>0.05667</td>\n",
       "    </tr>\n",
       "    <tr>\n",
       "      <th>84300903</th>\n",
       "      <td>1</td>\n",
       "      <td>19.69</td>\n",
       "      <td>21.25</td>\n",
       "      <td>130.00</td>\n",
       "      <td>1203.0</td>\n",
       "      <td>0.10960</td>\n",
       "      <td>0.15990</td>\n",
       "      <td>0.1974</td>\n",
       "      <td>0.12790</td>\n",
       "      <td>0.2069</td>\n",
       "      <td>0.05999</td>\n",
       "    </tr>\n",
       "    <tr>\n",
       "      <th>84348301</th>\n",
       "      <td>1</td>\n",
       "      <td>11.42</td>\n",
       "      <td>20.38</td>\n",
       "      <td>77.58</td>\n",
       "      <td>386.1</td>\n",
       "      <td>0.14250</td>\n",
       "      <td>0.28390</td>\n",
       "      <td>0.2414</td>\n",
       "      <td>0.10520</td>\n",
       "      <td>0.2597</td>\n",
       "      <td>0.09744</td>\n",
       "    </tr>\n",
       "    <tr>\n",
       "      <th>84358402</th>\n",
       "      <td>1</td>\n",
       "      <td>20.29</td>\n",
       "      <td>14.34</td>\n",
       "      <td>135.10</td>\n",
       "      <td>1297.0</td>\n",
       "      <td>0.10030</td>\n",
       "      <td>0.13280</td>\n",
       "      <td>0.1980</td>\n",
       "      <td>0.10430</td>\n",
       "      <td>0.1809</td>\n",
       "      <td>0.05883</td>\n",
       "    </tr>\n",
       "  </tbody>\n",
       "</table>\n",
       "</div>"
      ],
      "text/plain": [
       "          diagnosis  radius_mean  texture_mean  perimeter_mean  area_mean  \\\n",
       "842302            1        17.99         10.38          122.80     1001.0   \n",
       "842517            1        20.57         17.77          132.90     1326.0   \n",
       "84300903          1        19.69         21.25          130.00     1203.0   \n",
       "84348301          1        11.42         20.38           77.58      386.1   \n",
       "84358402          1        20.29         14.34          135.10     1297.0   \n",
       "\n",
       "          smoothness_mean  compactness_mean  concavity_mean  \\\n",
       "842302            0.11840           0.27760          0.3001   \n",
       "842517            0.08474           0.07864          0.0869   \n",
       "84300903          0.10960           0.15990          0.1974   \n",
       "84348301          0.14250           0.28390          0.2414   \n",
       "84358402          0.10030           0.13280          0.1980   \n",
       "\n",
       "          concave_points_mean  symmetry_mean  fractal_dimension_mean  \n",
       "842302                0.14710         0.2419                 0.07871  \n",
       "842517                0.07017         0.1812                 0.05667  \n",
       "84300903              0.12790         0.2069                 0.05999  \n",
       "84348301              0.10520         0.2597                 0.09744  \n",
       "84358402              0.10430         0.1809                 0.05883  "
      ]
     },
     "execution_count": 454,
     "metadata": {},
     "output_type": "execute_result"
    }
   ],
   "source": [
    "#This will re-index the dataframe so that the ID is the index\n",
    "cols_to_keep_2 = df.columns[0:12]\n",
    "df_part = df[cols_to_keep_2]\n",
    "df_part.set_index(['id'], inplace=True)\n",
    "df_part.index.name=None #will figure out how to get back index name\n",
    "#Change the diagnosis data from 'B' or 'M'; to 0 or 1\n",
    "df_part.diagnosis.replace(('M', 'B'), (1, 0), inplace=True)\n",
    "df_part.head()"
   ]
  },
  {
   "cell_type": "code",
   "execution_count": 455,
   "metadata": {
    "collapsed": false
   },
   "outputs": [
    {
     "name": "stdout",
     "output_type": "stream",
     "text": [
      "Permutations for 3 itmes, 30 items:\n",
      "24360\n"
     ]
    }
   ],
   "source": [
    "print \"Permutations for 3 itmes, 30 items:\"\n",
    "perm = (math.factorial(30)/math.factorial(27))\n",
    "print perm"
   ]
  },
  {
   "cell_type": "code",
   "execution_count": 456,
   "metadata": {
    "collapsed": false
   },
   "outputs": [],
   "source": [
    "df.diagnosis.replace(('M', 'B'), (1, 0), inplace=True)"
   ]
  },
  {
   "cell_type": "code",
   "execution_count": 457,
   "metadata": {
    "collapsed": false
   },
   "outputs": [],
   "source": [
    "#Logistic Regression fit and test\n",
    "from sklearn.linear_model import LogisticRegression\n",
    "from sklearn.neighbors import KNeighborsClassifier\n",
    "from sklearn.tree import DecisionTreeClassifier\n",
    "from sklearn.cross_validation import cross_val_score\n",
    "from sklearn.ensemble import RandomForestClassifier\n",
    "from sklearn.ensemble import RandomForestRegressor\n",
    "from sklearn import grid_search"
   ]
  },
  {
   "cell_type": "code",
   "execution_count": 458,
   "metadata": {
    "collapsed": true
   },
   "outputs": [],
   "source": [
    "#This is for feature extraction for Random Forest Feature Extraction\n",
    "col_names = df.columns\n",
    "end_col = col_names[-2]\n",
    "col_names = col_names[2:-2]\n",
    "formula_huge = 'diagnosis ~ '\n",
    "for name in col_names:\n",
    "    formula_huge += name + ' + '\n",
    "formula_huge += end_col\n",
    "\n",
    "y_6, x_6 = patsy.dmatrices(formula_huge, df, return_type='dataframe')\n",
    "y_6 = df['diagnosis']\n",
    "train_x_6, test_x_6, train_y_6, test_y_6 = train_test_split(x_6, y_6, train_size=0.75)"
   ]
  },
  {
   "cell_type": "code",
   "execution_count": 459,
   "metadata": {
    "collapsed": false
   },
   "outputs": [
    {
     "name": "stdout",
     "output_type": "stream",
     "text": [
      "Random Forrest results:\n",
      "score of fit: 1.0\n",
      "score of prediction: 0.951048951049\n"
     ]
    }
   ],
   "source": [
    "#Random Forrest (uses train set fot fit and test set for predict) - Feature Selection\n",
    "print \"Random Forrest results:\"\n",
    "rnd_frst_big = RandomForestClassifier(n_estimators = 500)\n",
    "rf_model_big = rnd_frst_big.fit(train_x_6, train_y_6)\n",
    "score_rf_big = rf_model_big.score(train_x_6, train_y_6)\n",
    "rf_pred_big = rf_model_big.predict(test_x_6)\n",
    "score_rf_big_pred = rf_model_big.score(test_x_6, test_y_6)\n",
    "print \"score of fit: \" + str(score_rf_big)\n",
    "print \"score of prediction: \" + str(score_rf_big_pred)"
   ]
  },
  {
   "cell_type": "code",
   "execution_count": 460,
   "metadata": {
    "collapsed": false
   },
   "outputs": [
    {
     "name": "stdout",
     "output_type": "stream",
     "text": [
      "Feature Importance:\n"
     ]
    },
    {
     "data": {
      "text/html": [
       "<div>\n",
       "<style>\n",
       "    .dataframe thead tr:only-child th {\n",
       "        text-align: right;\n",
       "    }\n",
       "\n",
       "    .dataframe thead th {\n",
       "        text-align: left;\n",
       "    }\n",
       "\n",
       "    .dataframe tbody tr th {\n",
       "        vertical-align: top;\n",
       "    }\n",
       "</style>\n",
       "<table border=\"1\" class=\"dataframe\">\n",
       "  <thead>\n",
       "    <tr style=\"text-align: right;\">\n",
       "      <th></th>\n",
       "      <th>Features_set_6</th>\n",
       "      <th>rf_big_Importance Score</th>\n",
       "    </tr>\n",
       "  </thead>\n",
       "  <tbody>\n",
       "    <tr>\n",
       "      <th>24</th>\n",
       "      <td>area_worst_rf_big</td>\n",
       "      <td>0.134681</td>\n",
       "    </tr>\n",
       "    <tr>\n",
       "      <th>21</th>\n",
       "      <td>radius_worst_rf_big</td>\n",
       "      <td>0.131348</td>\n",
       "    </tr>\n",
       "    <tr>\n",
       "      <th>28</th>\n",
       "      <td>concave_points_worst_rf_big</td>\n",
       "      <td>0.106311</td>\n",
       "    </tr>\n",
       "    <tr>\n",
       "      <th>8</th>\n",
       "      <td>concave_points_mean_rf_big</td>\n",
       "      <td>0.100683</td>\n",
       "    </tr>\n",
       "    <tr>\n",
       "      <th>23</th>\n",
       "      <td>perimeter_worst_rf_big</td>\n",
       "      <td>0.099842</td>\n",
       "    </tr>\n",
       "  </tbody>\n",
       "</table>\n",
       "</div>"
      ],
      "text/plain": [
       "                 Features_set_6  rf_big_Importance Score\n",
       "24            area_worst_rf_big                 0.134681\n",
       "21          radius_worst_rf_big                 0.131348\n",
       "28  concave_points_worst_rf_big                 0.106311\n",
       "8    concave_points_mean_rf_big                 0.100683\n",
       "23       perimeter_worst_rf_big                 0.099842"
      ]
     },
     "execution_count": 460,
     "metadata": {},
     "output_type": "execute_result"
    }
   ],
   "source": [
    "#Feature importance random forest\n",
    "rf_cols_big = []\n",
    "for col in x_6.columns:\n",
    "    rf_cols_big.append(col + '_rf_big')\n",
    "#rf_cols = rf_cols[1:]\n",
    "\n",
    "rf_big_feature_importances = rf_model_big.feature_importances_\n",
    "features_df_big = pd.DataFrame({'Features_set_6': rf_cols_big, 'rf_big_Importance Score': rf_big_feature_importances})\n",
    "features_df_big.sort_values('rf_big_Importance Score', inplace=True, ascending=False)\n",
    "print \"Feature Importance:\"\n",
    "features_df_big.head()"
   ]
  },
  {
   "cell_type": "code",
   "execution_count": 634,
   "metadata": {
    "collapsed": false
   },
   "outputs": [
    {
     "name": "stderr",
     "output_type": "stream",
     "text": [
      "C:\\Users\\danke_000\\Anaconda3\\envs\\py2\\lib\\site-packages\\ipykernel\\__main__.py:37: SettingWithCopyWarning: \n",
      "A value is trying to be set on a copy of a slice from a DataFrame.\n",
      "Try using .loc[row_indexer,col_indexer] = value instead\n",
      "\n",
      "See the caveats in the documentation: http://pandas.pydata.org/pandas-docs/stable/indexing.html#indexing-view-versus-copy\n",
      "C:\\Users\\danke_000\\Anaconda3\\envs\\py2\\lib\\site-packages\\ipykernel\\__main__.py:39: SettingWithCopyWarning: \n",
      "A value is trying to be set on a copy of a slice from a DataFrame.\n",
      "Try using .loc[row_indexer,col_indexer] = value instead\n",
      "\n",
      "See the caveats in the documentation: http://pandas.pydata.org/pandas-docs/stable/indexing.html#indexing-view-versus-copy\n",
      "C:\\Users\\danke_000\\Anaconda3\\envs\\py2\\lib\\site-packages\\ipykernel\\__main__.py:52: SettingWithCopyWarning: \n",
      "A value is trying to be set on a copy of a slice from a DataFrame.\n",
      "Try using .loc[row_indexer,col_indexer] = value instead\n",
      "\n",
      "See the caveats in the documentation: http://pandas.pydata.org/pandas-docs/stable/indexing.html#indexing-view-versus-copy\n",
      "C:\\Users\\danke_000\\Anaconda3\\envs\\py2\\lib\\site-packages\\ipykernel\\__main__.py:54: SettingWithCopyWarning: \n",
      "A value is trying to be set on a copy of a slice from a DataFrame.\n",
      "Try using .loc[row_indexer,col_indexer] = value instead\n",
      "\n",
      "See the caveats in the documentation: http://pandas.pydata.org/pandas-docs/stable/indexing.html#indexing-view-versus-copy\n",
      "C:\\Users\\danke_000\\Anaconda3\\envs\\py2\\lib\\site-packages\\ipykernel\\__main__.py:67: SettingWithCopyWarning: \n",
      "A value is trying to be set on a copy of a slice from a DataFrame.\n",
      "Try using .loc[row_indexer,col_indexer] = value instead\n",
      "\n",
      "See the caveats in the documentation: http://pandas.pydata.org/pandas-docs/stable/indexing.html#indexing-view-versus-copy\n",
      "C:\\Users\\danke_000\\Anaconda3\\envs\\py2\\lib\\site-packages\\ipykernel\\__main__.py:69: SettingWithCopyWarning: \n",
      "A value is trying to be set on a copy of a slice from a DataFrame.\n",
      "Try using .loc[row_indexer,col_indexer] = value instead\n",
      "\n",
      "See the caveats in the documentation: http://pandas.pydata.org/pandas-docs/stable/indexing.html#indexing-view-versus-copy\n"
     ]
    }
   ],
   "source": [
    "#Create verious patsy formulas and set up some train/test sets based 1 from the feature selection phase,\n",
    "# 1 chosen at random, and one set the authors found to work well.\n",
    "\n",
    "import patsy\n",
    "from sklearn.linear_model import SGDRegressor\n",
    "from sklearn.preprocessing import StandardScaler\n",
    "from sklearn.cross_validation import train_test_split\n",
    "\n",
    "#Feature set 1 - These are the top 5 from the random forrest that was run on the entire feature set\n",
    "formula_1 = 'diagnosis ~ perimeter_worst + concave_points_mean + concave_points_worst + area_worst + radius_worst'\n",
    "y_1, x_1 = patsy.dmatrices(formula_1, df, return_type='dataframe')\n",
    "y_1 = y_1.values.ravel()\n",
    "train_x_1, test_x_1, train_y_1, test_y_1 = train_test_split(x_1, y_1, train_size=0.75)\n",
    "\n",
    "#Feature set 2 - Chosen at random \n",
    "formula_2 = 'diagnosis ~ radius_mean + texture_mean + perimeter_mean'\n",
    "y_2, x_2 = patsy.dmatrices(formula_2, df, return_type='dataframe')\n",
    "y_2 = y_2.values.ravel()\n",
    "train_x_2, test_x_2, train_y_2, test_y_2 = train_test_split(x_2, y_2, train_size=0.75)\n",
    "\n",
    "#Feature set 3 - This is the feature combination found by the authors to work the best\n",
    "formula_gold = 'diagnosis ~ area_worst + smoothness_worst + texture_mean'\n",
    "y_3, x_3 = patsy.dmatrices(formula_gold, df, return_type='dataframe')\n",
    "y_3 = df['diagnosis']\n",
    "train_x_3, test_x_3, train_y_3, test_y_3 = train_test_split(x_3, y_3, train_size=0.75)\n",
    "\n",
    "#--------------------------------------------------------------------------------------------#\n",
    "#Feature set 1 - These are the top 5 from the random forrest that was run on the entire feature set\n",
    "#Features need to be scaled for logistic regression. Below are the same 3 feature sets but scalled prior to splitting.\n",
    "ss = StandardScaler()\n",
    "#Create temp df to hold target values\n",
    "df_y_temp = df['diagnosis']\n",
    "#Created a dataframe for the patsy. First it only has the features, which will be scaled.\n",
    "col_list_x1_ss = ['perimeter_worst','concave_points_mean', 'concave_points_worst', 'area_worst', 'radius_worst']\n",
    "df_ss_set_1 = df[col_list_x1_ss]\n",
    "#Scaling performed at the dataframe level. Numpy, scikit, and pandas all trying to work together\n",
    "df_ss_set_1[col_list_x1_ss] = ss.fit_transform(df_ss_set_1[col_list_x1_ss])\n",
    "#add the target variables to the dataframe for the patsy.\n",
    "df_ss_set_1['diagnosis'] = df_y1_temp\n",
    "formula_1 = 'diagnosis ~ perimeter_worst + concave_points_mean + concave_points_worst + area_worst + radius_worst'\n",
    "y_1_ss, x_1_ss = patsy.dmatrices(formula_1, df_ss_set_1, return_type='dataframe')\n",
    "y_1_ss = y_1_ss.values.ravel()\n",
    "train_x_1_ss, test_x_1_ss, train_y_1_ss, test_y_1_ss = train_test_split(x_1_ss, y_1_ss, train_size=0.75)\n",
    "\n",
    "\n",
    "#Feature set 2 - Chosen at random \n",
    "#Create temp df to hold target values\n",
    "df_y_temp = df['diagnosis']\n",
    "col_list_x2_ss = ['radius_mean', 'texture_mean', 'perimeter_mean']\n",
    "df_ss_set_2 = df[col_list_x2_ss]\n",
    "#Scaling performed at the dataframe level. Numpy, scikit, and pandas all trying to work together\n",
    "df_ss_set_2[col_list_x2_ss] = ss.fit_transform(df_ss_set_2[col_list_x2_ss])\n",
    "#add the target variables to the dataframe for the patsy.\n",
    "df_ss_set_2['diagnosis'] = df_y_temp\n",
    "formula_2 = 'diagnosis ~ radius_mean + texture_mean + perimeter_mean'\n",
    "y_2_ss, x_2_ss = patsy.dmatrices(formula_2, df_ss_set_2, return_type='dataframe')\n",
    "y_2_ss = y_2_ss.values.ravel()\n",
    "train_x_2_ss, test_x_2_ss, train_y_2_ss, test_y_2_ss = train_test_split(x_2_ss, y_2_ss, train_size=0.75)\n",
    "\n",
    "\n",
    "#Feature set 3 - This is the feature combination found by the authors to work the best\n",
    "#Create temp df to hold target values\n",
    "df_y_temp = df['diagnosis']\n",
    "col_list_x3_ss = ['area_worst', 'smoothness_worst', 'texture_mean']\n",
    "df_ss_set_3 = df[col_list_x3_ss]\n",
    "#Scaling performed at the dataframe level. Numpy, scikit, and pandas all trying to work together\n",
    "df_ss_set_3[col_list_x3_ss] = ss.fit_transform(df_ss_set_3[col_list_x3_ss])\n",
    "#add the target variables to the dataframe for the patsy.\n",
    "df_ss_set_3['diagnosis'] = df_y_temp\n",
    "formula_gold = 'diagnosis ~ area_worst + smoothness_worst + texture_mean'\n",
    "y_3_ss, x_3_ss = patsy.dmatrices(formula_gold, df_ss_set_3, return_type='dataframe')\n",
    "y_3_ss = y_3_ss.values.ravel()\n",
    "train_x_3_ss, test_x_3_ss, train_y_3_ss, test_y_3_ss = train_test_split(x_3_ss, y_3_ss, train_size=0.75)\n",
    "\n"
   ]
  },
  {
   "cell_type": "code",
   "execution_count": 671,
   "metadata": {
    "collapsed": false
   },
   "outputs": [
    {
     "data": {
      "image/png": "[encoded data removed]",
      "text/plain": [
       "<matplotlib.figure.Figure at 0x10d38ba8>"
      ]
     },
     "metadata": {},
     "output_type": "display_data"
    }
   ],
   "source": [
    "#Histograms, boxplots, amd violin plots: Feature set 1\n",
    "fig = plt.figure()\n",
    "fig.set_figheight(15)\n",
    "fig.set_figwidth(13)\n",
    "ax1 = fig.add_subplot(5,3,1)\n",
    "_ = ax1.hist(df['perimeter_worst'], bins=50)\n",
    "ax1.set_title('Feature Set 1: perimeter_worst')\n",
    "\n",
    "ax2 = fig.add_subplot(5,3,2)\n",
    "_ = ax2.boxplot(df['perimeter_worst'])\n",
    "ax2.set_title('Feature Set 1: perimeter_worst')\n",
    "\n",
    "ax3 = fig.add_subplot(5,3,3)\n",
    "_ = ax3.violinplot(df['perimeter_worst'], showmeans=False, showmedians=True)\n",
    "ax3.set_title('Feature Set 1: perimeter_worst')\n",
    "\n",
    "ax4 = fig.add_subplot(5,3,4)\n",
    "_ = ax4.hist(df['concave_points_mean'], bins=50)\n",
    "ax4.set_title('Feature Set 1: concave_points_mean')\n",
    "\n",
    "ax5 = fig.add_subplot(5,3,5)\n",
    "_ = ax5.boxplot(df['concave_points_mean'])\n",
    "ax5.set_title('Feature Set 1: concave_points_mean')\n",
    "\n",
    "ax6 = fig.add_subplot(5,3,6)\n",
    "_ = ax6.violinplot(df['concave_points_mean'], showmeans=False, showmedians=True)\n",
    "ax6.set_title('Feature Set 1: concave_points_mean')\n",
    "\n",
    "ax7 = fig.add_subplot(5,3,7)\n",
    "_ = ax7.hist(df['concave_points_worst'], bins=50)\n",
    "ax7.set_title('Feature Set 1: concave_points_worst')\n",
    "\n",
    "ax8 = fig.add_subplot(5,3,8)\n",
    "_ = ax8.boxplot(df['concave_points_worst'])\n",
    "ax8.set_title('Feature Set 1: concave_points_worst')\n",
    "\n",
    "ax9 = fig.add_subplot(5,3,9)\n",
    "_ = ax9.violinplot(df['concave_points_worst'], showmeans=False, showmedians=True)\n",
    "ax9.set_title('Feature Set 1: concave_points_worst')\n",
    "\n",
    "ax10 = fig.add_subplot(5,3,10)\n",
    "_ = ax10.hist(df['area_worst'], bins=50)\n",
    "ax10.set_title('Feature Set 1: area_worst')\n",
    "\n",
    "ax11 = fig.add_subplot(5,3,11)\n",
    "_ = ax11.boxplot(df['area_worst'])\n",
    "ax11.set_title('Feature Set 1: area_worst')\n",
    "\n",
    "ax12 = fig.add_subplot(5,3,12)\n",
    "_ = ax12.violinplot(df['area_worst'], showmeans=False, showmedians=True)\n",
    "ax12.set_title('Feature Set 1: area_worst')\n",
    "\n",
    "ax13 = fig.add_subplot(5,3,13)\n",
    "_ = ax13.hist(df['radius_worst'], bins=50)\n",
    "ax13.set_title('Feature Set 1: radius_worst')\n",
    "\n",
    "ax14 = fig.add_subplot(5,3,14)\n",
    "_ = ax14.boxplot(df['radius_worst'])\n",
    "ax14.set_title('Feature Set 1: radius_worst')\n",
    "\n",
    "ax15 = fig.add_subplot(5,3,15)\n",
    "_ = ax15.boxplot(df['radius_worst'])\n",
    "ax15.set_title('Feature Set 1: radius_worst')\n",
    "\n",
    "plt.tight_layout()"
   ]
  },
  {
   "cell_type": "code",
   "execution_count": 670,
   "metadata": {
    "collapsed": false
   },
   "outputs": [
    {
     "data": {
      "image/png": "[encoded data removed]",
      "text/plain": [
       "<matplotlib.figure.Figure at 0x10c3ed68>"
      ]
     },
     "metadata": {},
     "output_type": "display_data"
    }
   ],
   "source": [
    "#Histograms, boxplots, amd violin plots: Feature set 1 (scaled for logit)\n",
    "fig = plt.figure()\n",
    "fig.set_figheight(15)\n",
    "fig.set_figwidth(13)\n",
    "ax1 = fig.add_subplot(5,3,1)\n",
    "_ = ax1.hist(df_ss_set_1['perimeter_worst'], bins=50)\n",
    "ax1.set_title('Feature Set 1 (scaled for logit): perimeter_worst')\n",
    "\n",
    "ax2 = fig.add_subplot(5,3,2)\n",
    "_ = ax2.boxplot(df_ss_set_1['perimeter_worst'])\n",
    "ax2.set_title('Feature Set 1 (scaled for logit): perimeter_worst')\n",
    "\n",
    "ax3 = fig.add_subplot(5,3,3)\n",
    "_ = ax3.violinplot(df_ss_set_1['perimeter_worst'], showmeans=False, showmedians=True)\n",
    "ax3.set_title('Feature Set 1 (scaled for logit): perimeter_worst')\n",
    "\n",
    "ax4 = fig.add_subplot(5,3,4)\n",
    "_ = ax4.hist(df_ss_set_1['concave_points_mean'], bins=50)\n",
    "ax4.set_title('Feature Set 1 (scaled for logit): concave_points_mean')\n",
    "\n",
    "ax5 = fig.add_subplot(5,3,5)\n",
    "_ = ax5.boxplot(df_ss_set_1['concave_points_mean'])\n",
    "ax5.set_title('Feature Set 1 (scaled for logit): concave_points_mean')\n",
    "\n",
    "ax6 = fig.add_subplot(5,3,6)\n",
    "_ = ax6.violinplot(df_ss_set_1['concave_points_mean'], showmeans=False, showmedians=True)\n",
    "ax6.set_title('Feature Set 1 (scaled for logit): concave_points_mean')\n",
    "\n",
    "ax7 = fig.add_subplot(5,3,7)\n",
    "_ = ax7.hist(df_ss_set_1['concave_points_worst'], bins=50)\n",
    "ax7.set_title('Feature Set 1 (scaled for logit): concave_points_worst')\n",
    "\n",
    "ax8 = fig.add_subplot(5,3,8)\n",
    "_ = ax8.boxplot(df_ss_set_1['concave_points_worst'])\n",
    "ax8.set_title('Feature Set 1 (scaled for logit): concave_points_worst')\n",
    "\n",
    "ax9 = fig.add_subplot(5,3,9)\n",
    "_ = ax9.violinplot(df_ss_set_1['concave_points_worst'], showmeans=False, showmedians=True)\n",
    "ax9.set_title('Feature Set 1 (scaled for logit): concave_points_worst')\n",
    "\n",
    "ax10 = fig.add_subplot(5,3,10)\n",
    "_ = ax10.hist(df_ss_set_1['area_worst'], bins=50)\n",
    "ax10.set_title('Feature Set 1 (scaled for logit): area_worst')\n",
    "\n",
    "ax11 = fig.add_subplot(5,3,11)\n",
    "_ = ax11.boxplot(df_ss_set_1['area_worst'])\n",
    "ax11.set_title('Feature Set 1 (scaled for logit): area_worst')\n",
    "\n",
    "ax12 = fig.add_subplot(5,3,12)\n",
    "_ = ax12.violinplot(df_ss_set_1['area_worst'], showmeans=False, showmedians=True)\n",
    "ax12.set_title('Feature Set 1 (scaled for logit): area_worst')\n",
    "\n",
    "ax13 = fig.add_subplot(5,3,13)\n",
    "_ = ax13.hist(df_ss_set_1['radius_worst'], bins=50)\n",
    "ax13.set_title('Feature Set 1 (scaled for logit): radius_worst')\n",
    "\n",
    "ax14 = fig.add_subplot(5,3,14)\n",
    "_ = ax14.boxplot(df_ss_set_1['radius_worst'])\n",
    "ax14.set_title('Feature Set 1 (scaled for logit): radius_worst')\n",
    "\n",
    "ax15 = fig.add_subplot(5,3,15)\n",
    "_ = ax15.boxplot(df_ss_set_1['radius_worst'])\n",
    "ax15.set_title('Feature Set 1 (scaled for logit): radius_worst')\n",
    "\n",
    "plt.tight_layout()"
   ]
  },
  {
   "cell_type": "code",
   "execution_count": 664,
   "metadata": {
    "collapsed": false
   },
   "outputs": [
    {
     "data": {
      "image/png": "[encoded data removed]",
      "text/plain": [
       "<matplotlib.figure.Figure at 0xf6a84a8>"
      ]
     },
     "metadata": {},
     "output_type": "display_data"
    }
   ],
   "source": [
    "#Histograms, boxplots, amd violin plots: Feature set 2\n",
    "fig = plt.figure()\n",
    "fig.set_figheight(10)\n",
    "fig.set_figwidth(15)\n",
    "ax1 = fig.add_subplot(3,3,1)\n",
    "_ = ax1.hist(df['radius_mean'], bins=50)\n",
    "ax1.set_title('Feature Set 2: radius_mean')\n",
    "\n",
    "ax2 = fig.add_subplot(3,3,2)\n",
    "_ = ax2.boxplot(df['radius_mean'])\n",
    "ax2.set_title('Feature Set 2: radius_mean')\n",
    "\n",
    "ax3 = fig.add_subplot(3,3,3)\n",
    "_ = ax3.violinplot(df['radius_mean'], showmeans=False, showmedians=True)\n",
    "ax3.set_title('Feature Set 2: radius_mean')\n",
    "\n",
    "ax4 = fig.add_subplot(3,3,4)\n",
    "_ = ax4.hist(df['texture_mean'], bins=50)\n",
    "ax4.set_title('Feature Set 2: texture_mean')\n",
    "\n",
    "ax5 = fig.add_subplot(3,3,5)\n",
    "_ = ax5.boxplot(df['texture_mean'])\n",
    "ax5.set_title('Feature Set 2: texture_mean')\n",
    "\n",
    "ax6 = fig.add_subplot(3,3,6)\n",
    "_ = ax6.violinplot(df['texture_mean'], showmeans=False, showmedians=True)\n",
    "ax6.set_title('Feature Set 2: texture_mean')\n",
    "\n",
    "ax7 = fig.add_subplot(3,3,7)\n",
    "_ = ax7.hist(df['perimeter_mean'], bins=50)\n",
    "ax7.set_title('Feature Set 2: perimeter_mean')\n",
    "\n",
    "ax8 = fig.add_subplot(3,3,8)\n",
    "_ = ax8.boxplot(df['perimeter_mean'])\n",
    "ax8.set_title('Feature Set 2: perimeter_mean')\n",
    "\n",
    "ax9 = fig.add_subplot(3,3,9)\n",
    "_ = ax9.violinplot(df['perimeter_mean'], showmeans=False, showmedians=True)\n",
    "ax9.set_title('Feature Set 2: perimeter_mean')\n",
    "\n",
    "plt.tight_layout()\n"
   ]
  },
  {
   "cell_type": "code",
   "execution_count": 665,
   "metadata": {
    "collapsed": false
   },
   "outputs": [
    {
     "data": {
      "image/png": "[encoded data removed]",
      "text/plain": [
       "<matplotlib.figure.Figure at 0x10856c50>"
      ]
     },
     "metadata": {},
     "output_type": "display_data"
    }
   ],
   "source": [
    "#Histograms, boxplots, amd violin plots: Feature set 2 (scaled for logit)\n",
    "fig = plt.figure()\n",
    "fig.set_figheight(10)\n",
    "fig.set_figwidth(15)\n",
    "ax1 = fig.add_subplot(3,3,1)\n",
    "_ = ax1.hist(df_ss_set_2['radius_mean'], bins=50)\n",
    "ax1.set_title('Feature Set 2 (scaled for logit): radius_mean')\n",
    "\n",
    "ax2 = fig.add_subplot(3,3,2)\n",
    "_ = ax2.boxplot(df_ss_set_2['radius_mean'])\n",
    "ax2.set_title('Feature Set 2 (scaled for logit): radius_mean')\n",
    "\n",
    "ax3 = fig.add_subplot(3,3,3)\n",
    "_ = ax3.violinplot(df_ss_set_2['radius_mean'], showmeans=False, showmedians=True)\n",
    "ax3.set_title('Feature Set 2 (scaled for logit): radius_mean')\n",
    "\n",
    "ax4 = fig.add_subplot(3,3,4)\n",
    "_ = ax4.hist(df_ss_set_2['texture_mean'], bins=50)\n",
    "ax4.set_title('Feature Set 2 (scaled for logit): texture_mean')\n",
    "\n",
    "ax5 = fig.add_subplot(3,3,5)\n",
    "_ = ax5.boxplot(df_ss_set_2['texture_mean'])\n",
    "ax5.set_title('Feature Set 2 (scaled for logit): texture_mean')\n",
    "\n",
    "ax6 = fig.add_subplot(3,3,6)\n",
    "_ = ax6.violinplot(df_ss_set_2['texture_mean'], showmeans=False, showmedians=True)\n",
    "ax6.set_title('Feature Set 2 (scaled for logit): texture_mean')\n",
    "\n",
    "ax7 = fig.add_subplot(3,3,7)\n",
    "_ = ax7.hist(df_ss_set_2['perimeter_mean'], bins=50)\n",
    "ax7.set_title('Feature Set 2 (scaled for logit): perimeter_mean')\n",
    "\n",
    "ax8 = fig.add_subplot(3,3,8)\n",
    "_ = ax8.boxplot(df_ss_set_2['perimeter_mean'])\n",
    "ax8.set_title('Feature Set 2 (scaled for logit): perimeter_mean')\n",
    "\n",
    "ax9 = fig.add_subplot(3,3,9)\n",
    "_ = ax9.violinplot(df_ss_set_2['perimeter_mean'], showmeans=False, showmedians=True)\n",
    "ax9.set_title('Feature Set 2 (scaled for logit): perimeter_mean')\n",
    "\n",
    "plt.tight_layout()\n"
   ]
  },
  {
   "cell_type": "code",
   "execution_count": 660,
   "metadata": {
    "collapsed": false
   },
   "outputs": [
    {
     "data": {
      "image/png": "[encoded data removed]",
      "text/plain": [
       "<matplotlib.figure.Figure at 0x1348a048>"
      ]
     },
     "metadata": {},
     "output_type": "display_data"
    }
   ],
   "source": [
    "#Histograms, boxplots, amd violin plots: Feature set 3\n",
    "fig = plt.figure()\n",
    "fig.set_figheight(10)\n",
    "fig.set_figwidth(15)\n",
    "ax1 = fig.add_subplot(3,3,1)\n",
    "_ = ax1.hist(df['area_worst'], bins=50)\n",
    "ax1.set_title('Feature Set 3: area_worst')\n",
    "\n",
    "ax2 = fig.add_subplot(3,3,2)\n",
    "_ = ax2.boxplot(df['area_worst'])\n",
    "ax2.set_title('Feature Set 3: area_worst')\n",
    "\n",
    "ax3 = fig.add_subplot(3,3,3)\n",
    "_ = ax3.violinplot(df['area_worst'], showmeans=False, showmedians=True)\n",
    "ax3.set_title('Feature Set 3: area_worst')\n",
    "\n",
    "ax4 = fig.add_subplot(3,3,4)\n",
    "_ = ax4.hist(df['smoothness_worst'], bins=50)\n",
    "ax4.set_title('Feature Set 3: smoothness_worst')\n",
    "\n",
    "ax5 = fig.add_subplot(3,3,5)\n",
    "_ = ax5.boxplot(df['smoothness_worst'])\n",
    "ax5.set_title('Feature Set 3: smoothness_worst')\n",
    "\n",
    "ax6 = fig.add_subplot(3,3,6)\n",
    "_ = ax6.violinplot(df['smoothness_worst'], showmeans=False, showmedians=True)\n",
    "ax6.set_title('Feature Set 3: smoothness_worst')\n",
    "\n",
    "ax7 = fig.add_subplot(3,3,7)\n",
    "_ = ax7.hist(df['texture_mean'], bins=50)\n",
    "ax7.set_title('Feature Set 3: texture_mean')\n",
    "\n",
    "ax8 = fig.add_subplot(3,3,8)\n",
    "_ = ax8.boxplot(df['texture_mean'])\n",
    "ax8.set_title('Feature Set 3: texture_mean')\n",
    "\n",
    "ax9 = fig.add_subplot(3,3,9)\n",
    "_ = ax9.violinplot(df['texture_mean'], showmeans=False, showmedians=True)\n",
    "ax9.set_title('Feature Set 3: texture_mean')\n",
    "\n",
    "plt.tight_layout()"
   ]
  },
  {
   "cell_type": "code",
   "execution_count": 657,
   "metadata": {
    "collapsed": false
   },
   "outputs": [
    {
     "data": {
      "image/png": "[encoded data removed]",
      "text/plain": [
       "<matplotlib.figure.Figure at 0xe3c6b00>"
      ]
     },
     "metadata": {},
     "output_type": "display_data"
    }
   ],
   "source": [
    "#Histograms, boxplots, amd violin plots: Feature set 3 (scaled for logit)\n",
    "fig = plt.figure()\n",
    "fig.set_figheight(10)\n",
    "fig.set_figwidth(15)\n",
    "ax1 = fig.add_subplot(3,3,1)\n",
    "_ = ax1.hist(df_ss_set_3['area_worst'], bins=50)\n",
    "ax1.set_title('Feature Set 3 (scaled for logit): area_worst')\n",
    "\n",
    "ax2 = fig.add_subplot(3,3,2)\n",
    "_ = ax2.boxplot(df_ss_set_3['area_worst'])\n",
    "ax2.set_title('Feature Set 3 (scaled for logit): area_worst')\n",
    "\n",
    "ax3 = fig.add_subplot(3,3,3)\n",
    "_ = ax3.violinplot(df_ss_set_3['area_worst'], showmeans=False, showmedians=True)\n",
    "ax3.set_title('Feature Set 3 (scaled for logit): area_worst')\n",
    "\n",
    "ax4 = fig.add_subplot(3,3,4)\n",
    "_ = ax4.hist(df_ss_set_3['smoothness_worst'], bins=50)\n",
    "ax4.set_title('Feature Set 3 (scaled for logit): smoothness_worst')\n",
    "\n",
    "ax5 = fig.add_subplot(3,3,5)\n",
    "_ = ax5.boxplot(df_ss_set_3['smoothness_worst'])\n",
    "ax5.set_title('Feature Set 3 (scaled for logit): smoothness_worst')\n",
    "\n",
    "ax6 = fig.add_subplot(3,3,6)\n",
    "_ = ax6.violinplot(df_ss_set_3['smoothness_worst'], showmeans=False, showmedians=True)\n",
    "ax6.set_title('Feature Set 3 (scaled for logit): smoothness_worst')\n",
    "\n",
    "ax7 = fig.add_subplot(3,3,7)\n",
    "_ = ax7.hist(df_ss_set_3['texture_mean'], bins=50)\n",
    "ax7.set_title('Feature Set 3 (scaled for logit): texture_mean')\n",
    "\n",
    "ax8 = fig.add_subplot(3,3,8)\n",
    "_ = ax8.boxplot(df_ss_set_3['texture_mean'])\n",
    "ax8.set_title('Feature Set 3 (scaled for logit): texture_mean')\n",
    "\n",
    "ax9 = fig.add_subplot(3,3,9)\n",
    "_ = ax9.violinplot(df_ss_set_3['texture_mean'], showmeans=False, showmedians=True)\n",
    "ax9.set_title('Feature Set 3 (scaled for logit): texture_mean')\n",
    "\n",
    "plt.tight_layout()"
   ]
  },
  {
   "cell_type": "code",
   "execution_count": 462,
   "metadata": {
    "collapsed": false
   },
   "outputs": [],
   "source": [
    "#This function runs a grid search. The function parameters are the algorithm, features, target, and hyperparameters.\n",
    "def explore_model(params, model, X, y):\n",
    "    gs = grid_search.GridSearchCV(\n",
    "        estimator=model,\n",
    "        cv=5,\n",
    "        param_grid=params,\n",
    "        scoring='roc_auc',\n",
    "        )\n",
    "    gs.fit(X,y)\n",
    "    return gs"
   ]
  },
  {
   "cell_type": "code",
   "execution_count": 463,
   "metadata": {
    "collapsed": false
   },
   "outputs": [],
   "source": [
    "#These functions run the model fit, model prediction, and cross-validaiton check.\n",
    "#Functions used in order to reduce typing and errors.\n",
    "\n",
    "#Using the training data, score the model fit\n",
    "def func_model_fit(model, x_train, y_train):\n",
    "    model_fit = model.fit(x_train, y_train)\n",
    "    fit_score = model_fit.score(x_train, y_train)\n",
    "    return fit_score\n",
    "\n",
    "#Using the training and test data, score the prediction\n",
    "def func_model_pred(model, x_train, y_train, x_test, y_test):\n",
    "    model_fit = model.fit(x_train, y_train)\n",
    "    model_pred = model_fit.predict(x_test)\n",
    "    pred_score = model_fit.score(x_test, y_test)\n",
    "    return pred_score\n",
    "\n",
    "#Using the training data and full set of data, run a cross validation    \n",
    "def func_cv_check(model, x_train, y_train, x_full, y_full):\n",
    "    model_fit = model.fit(x_train, y_train)\n",
    "    mod_scores = cross_val_score(model_fit, x_full, y_full, scoring='roc_auc', cv=5)\n",
    "    return mod_scores\n"
   ]
  },
  {
   "cell_type": "markdown",
   "metadata": {},
   "source": [
    "Run a logistic regression, knn, and random forrest, with the hope of demonstrating the best algorithm. For each algorithm, 1) run a grid search 2) run fit, predict, and cross validaiton on the algorithm with the hyperparameters determined from the grid search, 3) classification report 4) feature importance evaluation. "
   ]
  },
  {
   "cell_type": "code",
   "execution_count": 464,
   "metadata": {
    "collapsed": true
   },
   "outputs": [],
   "source": [
    "#Logistic Regression Model Exploration\n",
    "lr_model_gs = LogisticRegression()\n",
    "lr_params = {\"C\":[0.1, 0.2, 0.4], 'penalty':['l1','l2']} "
   ]
  },
  {
   "cell_type": "code",
   "execution_count": 598,
   "metadata": {
    "collapsed": false
   },
   "outputs": [
    {
     "name": "stdout",
     "output_type": "stream",
     "text": [
      "Logistic Regression Model Exploration\n",
      "best gs score:\n",
      "0.988342601076\n",
      "\n",
      "best gs params:\n",
      "{'penalty': 'l1', 'C': 0.4}\n"
     ]
    }
   ],
   "source": [
    "#Feature Set 1\n",
    "#Logistic Regression Model Exploration for feature set 1\n",
    "logit_explore_1 = explore_model(lr_params, lr_model_gs, x_1_ss, y_1_ss)\n",
    "\n",
    "print \"Logistic Regression Model Exploration\"\n",
    "print \"best gs score:\"\n",
    "print logit_explore_1.best_score_\n",
    "print \"\"\n",
    "print \"best gs params:\"\n",
    "print logit_explore_1.best_params_\n"
   ]
  },
  {
   "cell_type": "code",
   "execution_count": 603,
   "metadata": {
    "collapsed": false
   },
   "outputs": [
    {
     "name": "stdout",
     "output_type": "stream",
     "text": [
      "Logistic Regression Model Exploration\n",
      "best gs score:\n",
      "0.962207565086\n",
      "\n",
      "best gs params:\n",
      "{'penalty': 'l1', 'C': 0.1}\n"
     ]
    }
   ],
   "source": [
    "#Logistic Regression Model Exploration for feature set 2\n",
    "logit_explore_2 = explore_model(lr_params, lr_model_gs, x_2_ss, y_2_ss)\n",
    "print \"Logistic Regression Model Exploration\"\n",
    "print \"best gs score:\"\n",
    "print logit_explore_2.best_score_\n",
    "print \"\"\n",
    "print \"best gs params:\"\n",
    "print logit_explore_2.best_params_"
   ]
  },
  {
   "cell_type": "code",
   "execution_count": 616,
   "metadata": {
    "collapsed": false
   },
   "outputs": [
    {
     "name": "stdout",
     "output_type": "stream",
     "text": [
      "Logistic Regression Model Exploration\n",
      "best gs score:\n",
      "0.991882243539\n",
      "\n",
      "best gs params:\n",
      "{'penalty': 'l1', 'C': 0.4}\n"
     ]
    }
   ],
   "source": [
    "#Logistic Regression Model Exploration for feature set 3\n",
    "logit_explore_3 = explore_model(lr_params, lr_model_gs, x_3_ss, y_3_ss)\n",
    "print \"Logistic Regression Model Exploration\"\n",
    "print \"best gs score:\"\n",
    "print logit_explore_3.best_score_\n",
    "print \"\"\n",
    "print \"best gs params:\"\n",
    "print logit_explore_3.best_params_"
   ]
  },
  {
   "cell_type": "code",
   "execution_count": 617,
   "metadata": {
    "collapsed": false
   },
   "outputs": [
    {
     "name": "stdout",
     "output_type": "stream",
     "text": [
      "Logistic Regression results:\n",
      "score of fit: 0.941314553991\n",
      "score of prediction: 0.972027972028\n",
      "\n",
      "Logistic Regression Cross validation results:\n",
      "CV AUC_1 [ 0.9751292   0.99257106  0.9963112   0.9852448   0.99027498], Average AUC_1 0.987906248863\n"
     ]
    }
   ],
   "source": [
    "#Algorithm uses hyperparameters determined in GridSearch\n",
    "#Logistic Regression for feature set 1 (uses train set fot fit and test set for predict)\n",
    "logreg_set_1 = LogisticRegression(penalty='l2', C=0.4)\n",
    "\n",
    "print \"Logistic Regression results:\"\n",
    "print \"score of fit: \" + str(func_model_fit(logreg_set_1, train_x_1_ss, train_y_1_ss))\n",
    "print \"score of prediction: \" + str(func_model_pred(logreg_set_1, train_x_1_ss, train_y_1_ss, test_x_1_ss, test_y_1_ss))\n",
    "#Cross Validation of the Logistic Regression (uses entire feature and training set)\n",
    "print \"\"\n",
    "print \"Logistic Regression Cross validation results:\"\n",
    "cv_check_results_lr_1 = func_cv_check(logreg_set_1, train_x_1_ss, train_y_1_ss, x_1_ss, y_1_ss)\n",
    "print('CV AUC_1 {}, Average AUC_1 {}'.format(cv_check_results_lr_1, cv_check_results_lr_1.mean()))"
   ]
  },
  {
   "cell_type": "code",
   "execution_count": 618,
   "metadata": {
    "collapsed": false
   },
   "outputs": [
    {
     "name": "stdout",
     "output_type": "stream",
     "text": [
      "Logistic Regression results:\n",
      "score of fit: 0.903755868545\n",
      "score of prediction: 0.867132867133\n",
      "\n",
      "Logistic Regression Cross validation results:\n",
      "CV AUC_1 [ 0.93184755  0.95445736  0.97551979  0.95841717  0.98122066], Average AUC_1 0.96029250438\n"
     ]
    }
   ],
   "source": [
    "#Algorithm uses hyperparameters determined in GridSearch\n",
    "#Logistic Regression for feature set 2 (uses train set fot fit and test set for predict)\n",
    "logreg_set_2 = LogisticRegression(penalty='l2', C=0.4)\n",
    "\n",
    "print \"Logistic Regression results:\"\n",
    "print \"score of fit: \" + str(func_model_fit(logreg_set_2, train_x_2_ss, train_y_2_ss))\n",
    "print \"score of prediction: \" + str(func_model_pred(logreg_set_2, train_x_2_ss, train_y_2_ss, test_x_2_ss, test_y_2_ss))\n",
    "#Cross Validation of the Logistic Regression (uses entire feature set and training set)\n",
    "print \"\"\n",
    "print \"Logistic Regression Cross validation results:\"\n",
    "cv_check_results_lr_2 = func_cv_check(logreg_set_2, train_x_2_ss, train_y_2_ss, x_2_ss, y_2_ss)\n",
    "print('CV AUC_1 {}, Average AUC_1 {}'.format(cv_check_results_lr_2, cv_check_results_lr_2.mean()))"
   ]
  },
  {
   "cell_type": "code",
   "execution_count": 619,
   "metadata": {
    "collapsed": false,
    "scrolled": true
   },
   "outputs": [
    {
     "name": "stdout",
     "output_type": "stream",
     "text": [
      "Logistic Regression results:\n",
      "score of fit: 0.967136150235\n",
      "score of prediction: 0.979020979021\n",
      "\n",
      "Logistic Regression Cross validation results:\n",
      "CV AUC_3 [ 0.98869509  0.99321705  0.99832327  0.98256204  0.99664655], Average AUC_3 0.991888800503\n"
     ]
    }
   ],
   "source": [
    "#Algorithm uses hyperparameters determined in GridSearch\n",
    "#Logistic Regression for feature set 3 (uses train set fot fit and test set for predict)\n",
    "logreg_set_3 = LogisticRegression(penalty='l1', C=0.4)\n",
    "\n",
    "print \"Logistic Regression results:\"\n",
    "print \"score of fit: \" + str(func_model_fit(logreg_set_3, train_x_3_ss, train_y_3_ss))\n",
    "print \"score of prediction: \" + str(func_model_pred(logreg_set_3, train_x_3_ss, train_y_3_ss, test_x_3_ss, test_y_3_ss))\n",
    "#Cross Validation of the Logistic Regression (uses entire feature set and training set)\n",
    "print \"\"\n",
    "print \"Logistic Regression Cross validation results:\"\n",
    "cv_check_results_lr_3 = func_cv_check(logreg_set_3, train_x_3_ss, train_y_3_ss, x_3_ss, y_3_ss)\n",
    "print('CV AUC_3 {}, Average AUC_3 {}'.format(cv_check_results_lr_3, cv_check_results_lr_3.mean()))"
   ]
  },
  {
   "cell_type": "code",
   "execution_count": 756,
   "metadata": {
    "collapsed": false
   },
   "outputs": [
    {
     "data": {
      "text/plain": [
       "\"\\nfig, axes = plt.subplots(1,1)\\nser_for_plot_lr_3.plot(kind='bar', ax=axes, color='y', alpha=0.7, title='Feature Set 3', ylim=[0.80, 1.0])\\n\""
      ]
     },
     "execution_count": 756,
     "metadata": {},
     "output_type": "execute_result"
    }
   ],
   "source": [
    "#Dictionary for Dataframe that will be used for the chart for logistis regression on feature set 1\n",
    "#makes use of the score functions from above\n",
    "dct_plot_lr_1 = {}\n",
    "dct_plot_lr_1['best_logit_1'] = logit_explore_1.best_score_\n",
    "score_lr_m1 = func_model_fit(logreg_set_1, train_x_1_ss, train_y_1_ss)\n",
    "dct_plot_lr_1['logit_fit_1'] = score_lr_m1\n",
    "score_lr_m1_pred = func_model_pred(logreg_set_1, train_x_1_ss, train_y_1_ss, test_x_1_ss, test_y_1_ss)\n",
    "dct_plot_lr_1['logit_pred_1'] = score_lr_m1_pred\n",
    "dct_plot_lr_1['logit_cross_val_1'] = cv_check_results_lr_1.mean()\n",
    "\n",
    "ser_for_plot_lr_1 = pd.Series(dct_plot_lr_1, index=dct_plot_lr_1.keys())\n",
    "ser_for_plot_lr_1 = ser_for_plot_lr_1.reindex(['best_logit_1', 'logit_fit_1', 'logit_pred_1', 'logit_cross_val_1'])\n",
    "'''\n",
    "fig, axes = plt.subplots(1,1)\n",
    "ser_for_plot_lr_1.plot(kind='bar', ax=axes, color='r', alpha=0.7, title='Feature Set 1', ylim=[0.80, 1.0])\n",
    "'''\n",
    "#Dictionary for Dataframe that will be used for the chart for logistis regression on feature set 2\n",
    "dct_plot_lr_2 = {}\n",
    "lst_df_set_2 =[]\n",
    "dct_plot_lr_2['best_logit_2'] = logit_explore_2.best_score_\n",
    "score_lr_m1 = func_model_fit(logreg_set_2, train_x_2_ss, train_y_2_ss)\n",
    "dct_plot_lr_2['logit_fit_2'] = score_lr_m2\n",
    "score_lr_m2_pred = func_model_pred(logreg_set_2, train_x_2_ss, train_y_2_ss, test_x_2_ss, test_y_2_ss)\n",
    "dct_plot_lr_2['logit_pred_2'] = score_lr_m2_pred\n",
    "dct_plot_lr_2['logit_cross_val_2'] = cv_check_results_lr_2.mean()\n",
    "\n",
    "\n",
    "ser_for_plot_lr_2 = pd.Series(dct_plot_lr_2, index=dct_plot_lr_2.keys())\n",
    "ser_for_plot_lr_2 = ser_for_plot_lr_2.reindex(['best_logit_2', 'logit_fit_2', 'logit_pred_2', 'logit_cross_val_2'])\n",
    "'''\n",
    "fig, axes = plt.subplots(1,1)\n",
    "ser_for_plot_lr_2.plot(kind='bar', ax=axes, color='g', alpha=0.7, title='Feature Set 2', ylim=[0.80, 1.0])\n",
    "'''\n",
    "#Dictionary for Dataframe that will be used for the chart for logistis regression on feature set 3\n",
    "dct_plot_lr_3 = {}\n",
    "lst_df_set_3 =[]\n",
    "dct_plot_lr_3['best_logit_3'] = logit_explore_3.best_score_\n",
    "score_lr_m3 = func_model_fit(logreg_set_3, train_x_3_ss, train_y_3_ss)\n",
    "dct_plot_lr_3['logit_fit_3'] = score_lr_m3\n",
    "score_lr_m3_pred = func_model_pred(logreg_set_3, train_x_3_ss, train_y_3_ss, test_x_3_ss, test_y_3_ss)\n",
    "dct_plot_lr_3['logit_pred_3'] = score_lr_m3_pred\n",
    "dct_plot_lr_3['logit_cross_val_3'] = cv_check_results_lr_3.mean()\n",
    "\n",
    "\n",
    "ser_for_plot_lr_3 = pd.Series(dct_plot_lr_3, index=dct_plot_lr_3.keys())\n",
    "ser_for_plot_lr_3 = ser_for_plot_lr_3.reindex(['best_logit_3', 'logit_fit_3', 'logit_pred_3', 'logit_cross_val_3'])\n",
    "'''\n",
    "fig, axes = plt.subplots(1,1)\n",
    "ser_for_plot_lr_3.plot(kind='bar', ax=axes, color='y', alpha=0.7, title='Feature Set 3', ylim=[0.80, 1.0])\n",
    "'''\n"
   ]
  },
  {
   "cell_type": "code",
   "execution_count": 802,
   "metadata": {
    "collapsed": false
   },
   "outputs": [
    {
     "data": {
      "text/plain": [
       "<matplotlib.legend.Legend at 0x151fa128>"
      ]
     },
     "execution_count": 802,
     "metadata": {},
     "output_type": "execute_result"
    },
    {
     "data": {
      "image/png": "[encoded data removed]",
      "text/plain": [
       "<matplotlib.figure.Figure at 0xe660e80>"
      ]
     },
     "metadata": {},
     "output_type": "display_data"
    }
   ],
   "source": [
    "#build list for DataFrame for plot; feature set 1\n",
    "lst_df_lr_set_1 =[]\n",
    "lst_df_lr_set_1.append(logit_explore_1.best_score_)\n",
    "lst_df_lr_set_1.append(score_lr_m1)\n",
    "lst_df_lr_set_1.append(score_lr_m1_pred)\n",
    "lst_df_lr_set_1.append(cv_check_results_lr_1.mean())\n",
    "#build list for DataFrame for plot; feature set 2\n",
    "lst_df_lr_set_2 =[]\n",
    "lst_df_lr_set_2.append(logit_explore_2.best_score_)\n",
    "lst_df_lr_set_2.append(score_lr_m2)\n",
    "lst_df_lr_set_2.append(score_lr_m2_pred)\n",
    "lst_df_lr_set_2.append(cv_check_results_lr_2.mean())\n",
    "#build list for DataFrame for plot; feature set 2\n",
    "lst_df_lr_set_3 =[]\n",
    "lst_df_lr_set_3.append(logit_explore_3.best_score_)\n",
    "lst_df_lr_set_3.append(score_lr_m3)\n",
    "lst_df_lr_set_3.append(score_lr_m3_pred)\n",
    "lst_df_lr_set_3.append(cv_check_results_lr_3.mean())\n",
    "#Build df for plot\n",
    "dct_for_lr_df = {'feature set 1: Randorm Forest Feature Selection': lst_df_lr_set_1,'feature set 2: Chosen at Random': lst_df_lr_set_2, 'feature set 3: Author Chosen Features': lst_df_lr_set_3}\n",
    "df_for_lr_plot = pd.DataFrame(dct_for_lr_df, index=['Grid Search', 'Training Fit', 'Test Prediction', 'Mean of Cross Val'])\n",
    "df_for_lr_plot.columns.name = 'modeling results'\n",
    "#Plot the Data Frame for Logistic Regression\n",
    "fig, axes = plt.subplots(1,1)\n",
    "df_for_lr_plot.plot(kind='bar', ax=axes, alpha=0.7, title='Logistic Regression Results', ylim=[0.85, 1.05], rot=45)\n",
    "plt.legend(bbox_to_anchor=(0,1), loc=2, borderaxespad=0.)"
   ]
  },
  {
   "cell_type": "code",
   "execution_count": 787,
   "metadata": {
    "collapsed": false
   },
   "outputs": [],
   "source": [
    "#Generalized Feature Ranking function. It is dependent on the type pf algorithm (not all algorithems have coef_)\n",
    "\n",
    "def func_feature_rank_logit(x_full, model_fit, str_tag, out_tag, str_alg):\n",
    "    lr_cols = []\n",
    "    for col in x_full.columns:\n",
    "        lr_cols.append(col + str_tag)\n",
    "    lr_feature_importances = model_fit.coef_\n",
    "    elem_1 = lr_feature_importances[0]\n",
    "    df_out = pd.DataFrame({'Features_set': lr_cols, 'Importance Score': elem_1})\n",
    "    df_out.sort_values('Importance Score', inplace=True, ascending=False)\n",
    "    df_out.set_index(['Features_set'], inplace=True)\n",
    "    print \"Feature \" + out_tag + \" Ranking \" + str_alg \n",
    "    return df_out"
   ]
  },
  {
   "cell_type": "code",
   "execution_count": 796,
   "metadata": {
    "collapsed": false
   },
   "outputs": [
    {
     "name": "stdout",
     "output_type": "stream",
     "text": [
      "Feature set 1 Ranking logit\n"
     ]
    },
    {
     "data": {
      "text/html": [
       "<div>\n",
       "<style>\n",
       "    .dataframe thead tr:only-child th {\n",
       "        text-align: right;\n",
       "    }\n",
       "\n",
       "    .dataframe thead th {\n",
       "        text-align: left;\n",
       "    }\n",
       "\n",
       "    .dataframe tbody tr th {\n",
       "        vertical-align: top;\n",
       "    }\n",
       "</style>\n",
       "<table border=\"1\" class=\"dataframe\">\n",
       "  <thead>\n",
       "    <tr style=\"text-align: right;\">\n",
       "      <th>Feature Set 1</th>\n",
       "      <th>Importance Score</th>\n",
       "    </tr>\n",
       "    <tr>\n",
       "      <th>Features_set</th>\n",
       "      <th></th>\n",
       "    </tr>\n",
       "  </thead>\n",
       "  <tbody>\n",
       "    <tr>\n",
       "      <th>concave_points_worst_f1</th>\n",
       "      <td>1.499748</td>\n",
       "    </tr>\n",
       "    <tr>\n",
       "      <th>concave_points_mean_f1</th>\n",
       "      <td>1.175684</td>\n",
       "    </tr>\n",
       "    <tr>\n",
       "      <th>radius_worst_f1</th>\n",
       "      <td>1.144282</td>\n",
       "    </tr>\n",
       "    <tr>\n",
       "      <th>area_worst_f1</th>\n",
       "      <td>1.097508</td>\n",
       "    </tr>\n",
       "    <tr>\n",
       "      <th>perimeter_worst_f1</th>\n",
       "      <td>0.979030</td>\n",
       "    </tr>\n",
       "    <tr>\n",
       "      <th>Intercept_f1</th>\n",
       "      <td>-0.259701</td>\n",
       "    </tr>\n",
       "  </tbody>\n",
       "</table>\n",
       "</div>"
      ],
      "text/plain": [
       "Feature Set 1            Importance Score\n",
       "Features_set                             \n",
       "concave_points_worst_f1          1.499748\n",
       "concave_points_mean_f1           1.175684\n",
       "radius_worst_f1                  1.144282\n",
       "area_worst_f1                    1.097508\n",
       "perimeter_worst_f1               0.979030\n",
       "Intercept_f1                    -0.259701"
      ]
     },
     "execution_count": 796,
     "metadata": {},
     "output_type": "execute_result"
    }
   ],
   "source": [
    "#Feature Set 1 Ranking\n",
    "lr_fitted_set_1 = logreg_set_1.fit(train_x_1_ss, train_y_1_ss)\n",
    "df_curr_lr_1 = func_feature_rank_logit(x_1, lr_fitted_set_1, '_f1', 'set 1', 'logit')\n",
    "df_curr_lr_1.columns.name = 'Feature Set 1'\n",
    "df_curr_lr_1"
   ]
  },
  {
   "cell_type": "code",
   "execution_count": 797,
   "metadata": {
    "collapsed": false
   },
   "outputs": [
    {
     "name": "stdout",
     "output_type": "stream",
     "text": [
      "Feature set_2 Ranking logit\n"
     ]
    },
    {
     "data": {
      "text/html": [
       "<div>\n",
       "<style>\n",
       "    .dataframe thead tr:only-child th {\n",
       "        text-align: right;\n",
       "    }\n",
       "\n",
       "    .dataframe thead th {\n",
       "        text-align: left;\n",
       "    }\n",
       "\n",
       "    .dataframe tbody tr th {\n",
       "        vertical-align: top;\n",
       "    }\n",
       "</style>\n",
       "<table border=\"1\" class=\"dataframe\">\n",
       "  <thead>\n",
       "    <tr style=\"text-align: right;\">\n",
       "      <th>Feature Set 2</th>\n",
       "      <th>Importance Score</th>\n",
       "    </tr>\n",
       "    <tr>\n",
       "      <th>Features_set</th>\n",
       "      <th></th>\n",
       "    </tr>\n",
       "  </thead>\n",
       "  <tbody>\n",
       "    <tr>\n",
       "      <th>perimeter_mean_f2</th>\n",
       "      <td>2.091423</td>\n",
       "    </tr>\n",
       "    <tr>\n",
       "      <th>radius_mean_f2</th>\n",
       "      <td>1.185536</td>\n",
       "    </tr>\n",
       "    <tr>\n",
       "      <th>texture_mean_f2</th>\n",
       "      <td>0.706501</td>\n",
       "    </tr>\n",
       "    <tr>\n",
       "      <th>Intercept_f2</th>\n",
       "      <td>-0.350679</td>\n",
       "    </tr>\n",
       "  </tbody>\n",
       "</table>\n",
       "</div>"
      ],
      "text/plain": [
       "Feature Set 2      Importance Score\n",
       "Features_set                       \n",
       "perimeter_mean_f2          2.091423\n",
       "radius_mean_f2             1.185536\n",
       "texture_mean_f2            0.706501\n",
       "Intercept_f2              -0.350679"
      ]
     },
     "execution_count": 797,
     "metadata": {},
     "output_type": "execute_result"
    }
   ],
   "source": [
    "lr_fitted_set_2 = logreg_set_2.fit(train_x_2_ss, train_y_2_ss)\n",
    "df_curr_lr_2 = func_feature_rank_logit(x_2, lr_fitted_set_2, '_f2', 'set_2', 'logit')\n",
    "df_curr_lr_2.columns.name = 'Feature Set 2'\n",
    "df_curr_lr_2"
   ]
  },
  {
   "cell_type": "code",
   "execution_count": 798,
   "metadata": {
    "collapsed": false
   },
   "outputs": [
    {
     "name": "stdout",
     "output_type": "stream",
     "text": [
      "Feature set_3 Ranking logit\n"
     ]
    },
    {
     "data": {
      "text/html": [
       "<div>\n",
       "<style>\n",
       "    .dataframe thead tr:only-child th {\n",
       "        text-align: right;\n",
       "    }\n",
       "\n",
       "    .dataframe thead th {\n",
       "        text-align: left;\n",
       "    }\n",
       "\n",
       "    .dataframe tbody tr th {\n",
       "        vertical-align: top;\n",
       "    }\n",
       "</style>\n",
       "<table border=\"1\" class=\"dataframe\">\n",
       "  <thead>\n",
       "    <tr style=\"text-align: right;\">\n",
       "      <th>Feature Set 3</th>\n",
       "      <th>Importance Score</th>\n",
       "    </tr>\n",
       "    <tr>\n",
       "      <th>Features_set</th>\n",
       "      <th></th>\n",
       "    </tr>\n",
       "  </thead>\n",
       "  <tbody>\n",
       "    <tr>\n",
       "      <th>area_worst_f3</th>\n",
       "      <td>6.310962</td>\n",
       "    </tr>\n",
       "    <tr>\n",
       "      <th>smoothness_worst_f3</th>\n",
       "      <td>1.595157</td>\n",
       "    </tr>\n",
       "    <tr>\n",
       "      <th>texture_mean_f3</th>\n",
       "      <td>1.058426</td>\n",
       "    </tr>\n",
       "    <tr>\n",
       "      <th>Intercept_f3</th>\n",
       "      <td>0.000000</td>\n",
       "    </tr>\n",
       "  </tbody>\n",
       "</table>\n",
       "</div>"
      ],
      "text/plain": [
       "Feature Set 3        Importance Score\n",
       "Features_set                         \n",
       "area_worst_f3                6.310962\n",
       "smoothness_worst_f3          1.595157\n",
       "texture_mean_f3              1.058426\n",
       "Intercept_f3                 0.000000"
      ]
     },
     "execution_count": 798,
     "metadata": {},
     "output_type": "execute_result"
    }
   ],
   "source": [
    "lr_fitted_set_3 = logreg_set_3.fit(train_x_3_ss, train_y_3_ss)\n",
    "df_curr_lr_3 = func_feature_rank_logit(x_3, lr_fitted_set_3, '_f3', 'set_3', 'logit')\n",
    "df_curr_lr_3.columns.name = 'Feature Set 3'\n",
    "df_curr_lr_3"
   ]
  },
  {
   "cell_type": "code",
   "execution_count": 479,
   "metadata": {
    "collapsed": true
   },
   "outputs": [],
   "source": [
    "#Using the training and test data, score the prediction (this will be passed to the confusion matrix)\n",
    "def func_model_pred_conf(model, x_train, y_train, x_test):\n",
    "    model_fit = model.fit(x_train, y_train)\n",
    "    model_pred = model_fit.predict(x_test)\n",
    "    return model_pred"
   ]
  },
  {
   "cell_type": "code",
   "execution_count": 835,
   "metadata": {
    "collapsed": true
   },
   "outputs": [],
   "source": [
    "#Put confusion matrix values into dictionary and return a series\n",
    "#Pass in a pre-calculated confusion matrix\n",
    "def func_cm_to_series(c_matrix):\n",
    "    dct_c_matrix = {}\n",
    "    dct_c_matrix['true_positive'] = c_matrix[0,0]\n",
    "    dct_c_matrix['false_positive'] = c_matrix[0,1]\n",
    "    dct_c_matrix['false_negative'] = c_matrix[1,0]\n",
    "    dct_c_matrix['true_negative'] = c_matrix[1,1]\n",
    "    ser_conf = pd.Series(dct_c_matrix, index=dct_c_matrix.keys())\n",
    "    ser_conf = ser_conf.reindex(['true_positive', 'false_positive', 'false_negative', 'true_negative'])\n",
    "    return ser_conf"
   ]
  },
  {
   "cell_type": "code",
   "execution_count": 841,
   "metadata": {
    "collapsed": true
   },
   "outputs": [],
   "source": [
    "#Put confusion matrix calculations into dictionary and convert to series for plotting\n",
    "#Pass in target set (for length calculation) and pre-calculated confusion matrix\n",
    "def func_c_matrix_calc(test_y, c_matrix):\n",
    "    dct_c_matrix_calc = {}\n",
    "    num_test = len(test_y)\n",
    "    t_pos = float(c_matrix[0,0])\n",
    "    f_pos = float(c_matrix[0,1])\n",
    "    f_neg = float(c_matrix[1,0])\n",
    "    t_neg = float(c_matrix[1,1])\n",
    "    dct_c_matrix_calc['accuracy'] = ((t_pos + t_neg)/num_test)\n",
    "    dct_c_matrix_calc['misclass'] = ((f_pos + f_neg)/num_test)\n",
    "    dct_c_matrix_calc['precision'] = (t_pos / (t_pos + f_pos))\n",
    "    dct_c_matrix_calc['recall'] = (t_pos / (t_pos + f_neg))\n",
    "    ser_c_matrix_calc = pd.Series(dct_c_matrix_calc, index=dct_c_matrix_calc.keys())\n",
    "    ser_c_matrix_calc = ser_c_matrix_calc.reindex(['accuracy', 'misclass', 'precision', 'recall'])\n",
    "    return ser_c_matrix_calc"
   ]
  },
  {
   "cell_type": "code",
   "execution_count": 886,
   "metadata": {
    "collapsed": true
   },
   "outputs": [],
   "source": [
    "#Two functions to handle the confusion matirx calculations- one to make a cm, the other to calculate and return a df\n",
    "def mini_cm(c_matrix):\n",
    "    t_pos = float(c_matrix[0,0])\n",
    "    f_pos = float(c_matrix[0,1])\n",
    "    f_neg = float(c_matrix[1,0])\n",
    "    t_neg = float(c_matrix[1,1])\n",
    "    lst_out = [t_pos, f_pos, f_neg, t_neg]\n",
    "    return lst_out\n",
    "\n",
    "def mini_cm_calc(test_y, cm_list):\n",
    "    num_test = len(test_y)\n",
    "    t_pos = cm_list[0]\n",
    "    f_pos = cm_list[1]\n",
    "    f_neg = cm_list[2]\n",
    "    t_neg = cm_list[3]\n",
    "    accuracy = ((t_pos + t_neg)/num_test)\n",
    "    misclass = ((f_pos + f_neg)/num_test)\n",
    "    precision = (t_pos / (t_pos + f_pos))\n",
    "    recall = (t_pos / (t_pos + f_neg))\n",
    "    lst_out = [accuracy, misclass, precision, recall]\n",
    "    return lst_out\n",
    "\n",
    "def func_cm_calc_to_df(test_y_1, c_matrix_1, test_y_2, c_matrix_2, test_y_3, c_matrix_3, lst_index, lst_cols):\n",
    "    lst_cm_1 = mini_cm(c_matrix_1)\n",
    "    lst_cm_calc_1 = mini_cm_calc(test_y_1, lst_cm_1)\n",
    "    lst_cm_2 = mini_cm(c_matrix_2)\n",
    "    lst_cm_calc_2 = mini_cm_calc(test_y_2, lst_cm_2)\n",
    "    lst_cm_3 = mini_cm(c_matrix_3)\n",
    "    lst_cm_calc_3 = mini_cm_calc(test_y_3, lst_cm_3)\n",
    "    dct_for_df_out = {lst_cols[0]:lst_cm_calc_1, lst_cols[1]:lst_cm_calc_2, lst_cols[2]:lst_cm_calc_3}\n",
    "    df_out = pd.DataFrame(dct_for_df_out, index=lst_index)\n",
    "    df_out.columns.name = 'Confusion Matrix Calculations'\n",
    "    return df_out"
   ]
  },
  {
   "cell_type": "code",
   "execution_count": 882,
   "metadata": {
    "collapsed": true
   },
   "outputs": [],
   "source": [
    "#Function out puts a dataframe built from three different confusion matrices and a list of column names\n",
    "def func_cm_to_df(c_matrix_1, c_matrix_2, c_matrix_3, lst_index, lst_cols):\n",
    "    lst_for_df_1 = [c_matrix_1[0,0], c_matrix_1[0,1], c_matrix_1[1,0], c_matrix_1[1,1]]\n",
    "    lst_for_df_2 = [c_matrix_2[0,0], c_matrix_2[0,1], c_matrix_2[1,0], c_matrix_2[1,1]]\n",
    "    lst_for_df_3 = [c_matrix_3[0,0], c_matrix_3[0,1], c_matrix_3[1,0], c_matrix_3[1,1]]\n",
    "    dct_for_df = {lst_cols[0]:lst_for_df_1, lst_cols[1]:lst_for_df_2, lst_cols[2]:lst_for_df_3}\n",
    "    df_out = pd.DataFrame(dct_for_df, index=lst_index)\n",
    "    df_out.columns.name = 'Confusion Matirx'\n",
    "    return df_out"
   ]
  },
  {
   "cell_type": "code",
   "execution_count": 883,
   "metadata": {
    "collapsed": false
   },
   "outputs": [],
   "source": [
    "#Logistic Regression Confusion Matrix Results\n",
    "#Critical to pass labels to the confusion matrix so that it gives the right results\n",
    "#feature set 1\n",
    "lr_model_pred_set_1 = func_model_pred_conf(logreg_set_1, train_x_1_ss, train_y_1_ss, test_x_1_ss)\n",
    "conf_mat_lr_1 = confusion_matrix(test_y_1_ss, lr_model_pred_set_1, labels=[1,0])\n",
    "#feature set 2\n",
    "lr_model_pred_set_2 = func_model_pred_conf(logreg_set_2, train_x_2_ss, train_y_2_ss, test_x_2_ss)\n",
    "conf_mat_lr_2 = confusion_matrix(test_y_2_ss, lr_model_pred_set_2, labels=[1,0])\n",
    "#feature set 3\n",
    "lr_model_pred_set_3 = func_model_pred_conf(logreg_set_3, train_x_3_ss, train_y_3_ss, test_x_3_ss)\n",
    "conf_mat_lr_3 = confusion_matrix(test_y_3_ss, lr_model_pred_set_3, labels=[1,0])\n",
    "#Build the df\n",
    "lst_index = ['true_positive', 'false_positive', 'false_negative', 'true_negative']\n",
    "lst_index_calc = ['accuracy', 'misclass', 'precision', 'recall']\n",
    "lst_cols = ['Feature Set 1', 'Feature Set 2', 'Feature Set 3']\n",
    "df_for_lr_cm_plot = func_cm_to_df(conf_mat_lr_1, conf_mat_lr_2, conf_mat_lr_3, lst_index, lst_cols)\n",
    "df_for_lr_cm_calc_plot = func_cm_calc_to_df(test_y_1, conf_mat_lr_1, test_y_2, conf_mat_lr_2, test_y_3, conf_mat_lr_3, lst_index_calc, lst_cols)\n"
   ]
  },
  {
   "cell_type": "code",
   "execution_count": 884,
   "metadata": {
    "collapsed": false
   },
   "outputs": [
    {
     "data": {
      "text/html": [
       "<div>\n",
       "<style>\n",
       "    .dataframe thead tr:only-child th {\n",
       "        text-align: right;\n",
       "    }\n",
       "\n",
       "    .dataframe thead th {\n",
       "        text-align: left;\n",
       "    }\n",
       "\n",
       "    .dataframe tbody tr th {\n",
       "        vertical-align: top;\n",
       "    }\n",
       "</style>\n",
       "<table border=\"1\" class=\"dataframe\">\n",
       "  <thead>\n",
       "    <tr style=\"text-align: right;\">\n",
       "      <th>Confusion Matirx</th>\n",
       "      <th>Feature Set 1</th>\n",
       "      <th>Feature Set 2</th>\n",
       "      <th>Feature Set 3</th>\n",
       "    </tr>\n",
       "  </thead>\n",
       "  <tbody>\n",
       "    <tr>\n",
       "      <th>true_positive</th>\n",
       "      <td>47</td>\n",
       "      <td>53</td>\n",
       "      <td>52</td>\n",
       "    </tr>\n",
       "    <tr>\n",
       "      <th>false_positive</th>\n",
       "      <td>6</td>\n",
       "      <td>12</td>\n",
       "      <td>4</td>\n",
       "    </tr>\n",
       "    <tr>\n",
       "      <th>false_negative</th>\n",
       "      <td>6</td>\n",
       "      <td>4</td>\n",
       "      <td>1</td>\n",
       "    </tr>\n",
       "    <tr>\n",
       "      <th>true_negative</th>\n",
       "      <td>84</td>\n",
       "      <td>74</td>\n",
       "      <td>86</td>\n",
       "    </tr>\n",
       "  </tbody>\n",
       "</table>\n",
       "</div>"
      ],
      "text/plain": [
       "Confusion Matirx  Feature Set 1  Feature Set 2  Feature Set 3\n",
       "true_positive                47             53             52\n",
       "false_positive                6             12              4\n",
       "false_negative                6              4              1\n",
       "true_negative                84             74             86"
      ]
     },
     "execution_count": 884,
     "metadata": {},
     "output_type": "execute_result"
    }
   ],
   "source": [
    "df_for_cm_plot"
   ]
  },
  {
   "cell_type": "code",
   "execution_count": 885,
   "metadata": {
    "collapsed": false
   },
   "outputs": [
    {
     "data": {
      "text/html": [
       "<div>\n",
       "<style>\n",
       "    .dataframe thead tr:only-child th {\n",
       "        text-align: right;\n",
       "    }\n",
       "\n",
       "    .dataframe thead th {\n",
       "        text-align: left;\n",
       "    }\n",
       "\n",
       "    .dataframe tbody tr th {\n",
       "        vertical-align: top;\n",
       "    }\n",
       "</style>\n",
       "<table border=\"1\" class=\"dataframe\">\n",
       "  <thead>\n",
       "    <tr style=\"text-align: right;\">\n",
       "      <th>Confusion Matrix Calculcaitons</th>\n",
       "      <th>Feature Set 1</th>\n",
       "      <th>Feature Set 2</th>\n",
       "      <th>Feature Set 3</th>\n",
       "    </tr>\n",
       "  </thead>\n",
       "  <tbody>\n",
       "    <tr>\n",
       "      <th>accuracy</th>\n",
       "      <td>0.916084</td>\n",
       "      <td>0.888112</td>\n",
       "      <td>0.965035</td>\n",
       "    </tr>\n",
       "    <tr>\n",
       "      <th>misclass</th>\n",
       "      <td>0.083916</td>\n",
       "      <td>0.111888</td>\n",
       "      <td>0.034965</td>\n",
       "    </tr>\n",
       "    <tr>\n",
       "      <th>precision</th>\n",
       "      <td>0.886792</td>\n",
       "      <td>0.815385</td>\n",
       "      <td>0.928571</td>\n",
       "    </tr>\n",
       "    <tr>\n",
       "      <th>recall</th>\n",
       "      <td>0.886792</td>\n",
       "      <td>0.929825</td>\n",
       "      <td>0.981132</td>\n",
       "    </tr>\n",
       "  </tbody>\n",
       "</table>\n",
       "</div>"
      ],
      "text/plain": [
       "Confusion Matrix Calculcaitons  Feature Set 1  Feature Set 2  Feature Set 3\n",
       "accuracy                             0.916084       0.888112       0.965035\n",
       "misclass                             0.083916       0.111888       0.034965\n",
       "precision                            0.886792       0.815385       0.928571\n",
       "recall                               0.886792       0.929825       0.981132"
      ]
     },
     "execution_count": 885,
     "metadata": {},
     "output_type": "execute_result"
    }
   ],
   "source": [
    "df_for_cm_calc_plot"
   ]
  },
  {
   "cell_type": "code",
   "execution_count": 489,
   "metadata": {
    "collapsed": true
   },
   "outputs": [],
   "source": [
    "#KNN Model Exploration\n",
    "kn_model_gs = KNeighborsClassifier()\n",
    "kn_params = {\"n_neighbors\":[2,3,4,5,6], \"weights\":['uniform', 'distance'], \"metric\":['euclidean','minkowski']}"
   ]
  },
  {
   "cell_type": "code",
   "execution_count": 490,
   "metadata": {
    "collapsed": false
   },
   "outputs": [
    {
     "name": "stdout",
     "output_type": "stream",
     "text": [
      "K-Nearest Neighbors Model Exploration\n",
      "best gs params:\n",
      "0.948627020156\n",
      "\n",
      "best gs params:\n",
      "{'n_neighbors': 6, 'metric': 'euclidean', 'weights': 'uniform'}\n"
     ]
    }
   ],
   "source": [
    "#K-Nearest Neighbors Model Exploration: feature set 1\n",
    "knn_explore_1 = explore_model(kn_params, kn_model_gs, x_1, y_1)\n",
    "print \"K-Nearest Neighbors Model Exploration\"\n",
    "print \"best gs params:\"\n",
    "print knn_explore_1.best_score_\n",
    "print \"\"\n",
    "print \"best gs params:\"\n",
    "print knn_explore_1.best_params_"
   ]
  },
  {
   "cell_type": "code",
   "execution_count": 491,
   "metadata": {
    "collapsed": false
   },
   "outputs": [
    {
     "name": "stdout",
     "output_type": "stream",
     "text": [
      "K-Nearest Neighbors Model Exploration\n",
      "best gs params:\n",
      "0.952121418447\n",
      "\n",
      "best gs params:\n",
      "{'n_neighbors': 5, 'metric': 'euclidean', 'weights': 'uniform'}\n"
     ]
    }
   ],
   "source": [
    "#K-Nearest Neighbors Model Exploration: feature set 2\n",
    "knn_explore_2 = explore_model(kn_params, kn_model_gs, x_2, y_2)\n",
    "print \"K-Nearest Neighbors Model Exploration\"\n",
    "print \"best gs params:\"\n",
    "print knn_explore_2.best_score_\n",
    "print \"\"\n",
    "print \"best gs params:\"\n",
    "print knn_explore_2.best_params_"
   ]
  },
  {
   "cell_type": "code",
   "execution_count": 492,
   "metadata": {
    "collapsed": false
   },
   "outputs": [
    {
     "name": "stdout",
     "output_type": "stream",
     "text": [
      "K-Nearest Neighbors Model Exploration\n",
      "best gs params:\n",
      "0.953475475291\n",
      "\n",
      "best gs params:\n",
      "{'n_neighbors': 6, 'metric': 'euclidean', 'weights': 'distance'}\n"
     ]
    }
   ],
   "source": [
    "#K-Nearest Neighbors Model Exploration: feature set 3\n",
    "knn_explore_3 = explore_model(kn_params, kn_model_gs, x_3, y_3)\n",
    "print \"K-Nearest Neighbors Model Exploration\"\n",
    "print \"best gs params:\"\n",
    "print knn_explore_3.best_score_\n",
    "print \"\"\n",
    "print \"best gs params:\"\n",
    "print knn_explore_3.best_params_"
   ]
  },
  {
   "cell_type": "code",
   "execution_count": 810,
   "metadata": {
    "collapsed": false
   },
   "outputs": [
    {
     "name": "stdout",
     "output_type": "stream",
     "text": [
      "K-Nearest Neighbors results:\n",
      "score of fit: 0.924882629108\n",
      "score of prediction: 0.909090909091\n",
      "\n",
      "K-Nearest Neighbors Cross validation results:\n",
      "CV AUC_1 [ 0.9880491   0.97771318  0.99731724  0.98306506  0.99765258], Average AUC_1 0.948789832015\n"
     ]
    }
   ],
   "source": [
    "#Algorithm uses hyperparameters determined in GridSearch\n",
    "#KNN for feature set 1 (uses train set fot fit and test set for predict)\n",
    "knn_set_1 = KNeighborsClassifier(n_neighbors=6, metric='euclidean', weights='uniform')\n",
    "\n",
    "print \"K-Nearest Neighbors results:\"\n",
    "print \"score of fit: \" + str(func_model_fit(knn_set_1, train_x_1, train_y_1))\n",
    "print \"score of prediction: \" + str(func_model_pred(knn_set_1, train_x_1, train_y_1, test_x_1, test_y_1))\n",
    "#Cross Validation of the K-Nearest Neighbors (uses entire feature and training set)\n",
    "print \"\"\n",
    "print \"K-Nearest Neighbors Cross validation results:\"\n",
    "cv_check_results_knn_1 = func_cv_check(knn_set_1, train_x_1, train_y_1, x_1, y_1)\n",
    "print('CV AUC_1 {}, Average AUC_1 {}'.format(cv_check_results, cv_check_results_knn_1.mean()))"
   ]
  },
  {
   "cell_type": "code",
   "execution_count": 494,
   "metadata": {
    "collapsed": false
   },
   "outputs": [
    {
     "name": "stdout",
     "output_type": "stream",
     "text": [
      "K-Nearest Neighbors results:\n",
      "score of fit: 0.908450704225\n",
      "score of prediction: 0.951048951049\n",
      "\n",
      "K-Nearest Neighbors Cross validation results:\n",
      "CV AUC_1 [ 0.90891473  0.94234496  0.95657277  0.96763917  0.96847753], Average AUC_1 0.948789832015\n"
     ]
    }
   ],
   "source": [
    "#Algorithm uses hyperparameters determined in GridSearch\n",
    "#KNN for feature set 1 (uses train set fot fit and test set for predict)\n",
    "knn_set_1 = KNeighborsClassifier(n_neighbors=6, metric='euclidean', weights='uniform')\n",
    "\n",
    "print \"K-Nearest Neighbors results:\"\n",
    "print \"score of fit: \" + str(func_model_fit(knn_set_1, train_x_1, train_y_1))\n",
    "print \"score of prediction: \" + str(func_model_pred(knn_set_1, train_x_1, train_y_1, test_x_1, test_y_1))\n",
    "#Cross Validation of the K-Nearest Neighbors (uses entire feature and training set)\n",
    "print \"\"\n",
    "print \"K-Nearest Neighbors Cross validation results:\"\n",
    "cv_check_results_knn_1 = func_cv_check(knn_set_1, train_x_1, train_y_1, x_1, y_1)\n",
    "print('CV AUC_1 {}, Average AUC_1 {}'.format(cv_check_results_knn_1, cv_check_results_knn_1.mean()))"
   ]
  },
  {
   "cell_type": "code",
   "execution_count": 495,
   "metadata": {
    "collapsed": false
   },
   "outputs": [
    {
     "name": "stdout",
     "output_type": "stream",
     "text": [
      "K-Nearest Neighbors results:\n",
      "score of fit: 0.93896713615\n",
      "score of prediction: 0.846153846154\n",
      "\n",
      "K-Nearest Neighbors Cross validation results:\n",
      "CV AUC_2 [ 0.92070413  0.93104005  0.97904091  0.95472837  0.9760228 ], Average AUC_2 0.952307254379\n"
     ]
    }
   ],
   "source": [
    "#Algorithm uses hyperparameters determined in GridSearch\n",
    "#KNN for feature set 2 (uses train set fot fit and test set for predict)\n",
    "knn_set_2 = KNeighborsClassifier(n_neighbors=5, metric='euclidean', weights='uniform')\n",
    "\n",
    "print \"K-Nearest Neighbors results:\"\n",
    "print \"score of fit: \" + str(func_model_fit(knn_set_2, train_x_2, train_y_2))\n",
    "print \"score of prediction: \" + str(func_model_pred(knn_set_2, train_x_2, train_y_2, test_x_2, test_y_2))\n",
    "#Cross Validation of the K-Nearest Neighbors (uses entire feature and training set)\n",
    "print \"\"\n",
    "print \"K-Nearest Neighbors Cross validation results:\"\n",
    "cv_check_results_knn_2 = func_cv_check(knn_set_2, train_x_2, train_y_2, x_2, y_2)\n",
    "print('CV AUC_2 {}, Average AUC_2 {}'.format(cv_check_results_knn_2, cv_check_results_knn_2.mean()))"
   ]
  },
  {
   "cell_type": "code",
   "execution_count": 496,
   "metadata": {
    "collapsed": false
   },
   "outputs": [
    {
     "name": "stdout",
     "output_type": "stream",
     "text": [
      "K-Nearest Neighbors results:\n",
      "score of fit: 1.0\n",
      "score of prediction: 0.923076923077\n",
      "\n",
      "K-Nearest Neighbors Cross validation results:\n",
      "CV AUC_3 [ 0.90487726  0.9496124   0.97954393  0.96227364  0.97199866], Average AUC_3 0.95366117896\n"
     ]
    }
   ],
   "source": [
    "#Algorithm uses hyperparameters determined in GridSearch\n",
    "#KNN for feature set 3 (uses train set fot fit and test set for predict)\n",
    "knn_set_3 = KNeighborsClassifier(n_neighbors=6, metric='euclidean', weights='distance')\n",
    "\n",
    "print \"K-Nearest Neighbors results:\"\n",
    "print \"score of fit: \" + str(func_model_fit(knn_set_3, train_x_3, train_y_3))\n",
    "print \"score of prediction: \" + str(func_model_pred(knn_set_3, train_x_3, train_y_3, test_x_3, test_y_3))\n",
    "#Cross Validation of the K-Nearest Neighbors (uses entire feature and training set)\n",
    "print \"\"\n",
    "print \"K-Nearest Neighbors Cross validation results:\"\n",
    "cv_check_results_knn_3 = func_cv_check(knn_set_3, train_x_3, train_y_3, x_3, y_3)\n",
    "print('CV AUC_3 {}, Average AUC_3 {}'.format(cv_check_results_knn_3, cv_check_results_knn_3.mean()))"
   ]
  },
  {
   "cell_type": "code",
   "execution_count": 799,
   "metadata": {
    "collapsed": false
   },
   "outputs": [],
   "source": [
    "#Dictionary for Dataframe that will be used for the chart for KNN on feature set 1\n",
    "#makes use of the score functions from above\n",
    "dct_plot_knn_1 = {}\n",
    "dct_plot_knn_1['best_knn_1'] = knn_explore_1.best_score_\n",
    "score_knn_m1 = func_model_fit(knn_set_1, train_x_1, train_y_1)\n",
    "dct_plot_knn_1['knn_fit_1'] = score_knn_m1\n",
    "score_knn_m1_pred = func_model_pred(knn_set_1, train_x_1, train_y_1, test_x_1, test_y_1)\n",
    "dct_plot_knn_1['knn_pred_1'] = score_knn_m1_pred\n",
    "dct_plot_knn_1['knn_cross_val_1'] = cv_check_results_knn_1.mean()\n",
    "\n",
    "ser_for_plot_knn_1 = pd.Series(dct_plot_knn_1, index=dct_plot_knn_1.keys())\n",
    "ser_for_plot_knn_1 = ser_for_plot_knn_1.reindex(['best_knn_1', 'knn_fit_1', 'knn_pred_1', 'knn_cross_val_1'])\n",
    "#ser_for_plot_lr_1.plot(kind= 'bar')\n",
    "\n",
    "#Dictionary for Dataframe that will be used for the chart for KNN on feature set 2\n",
    "dct_plot_knn_2 = {}\n",
    "dct_plot_knn_2['best_knn_2'] = knn_explore_2.best_score_\n",
    "score_knn_m2 = func_model_fit(knn_set_2, train_x_2, train_y_2)\n",
    "dct_plot_knn_2['knn_fit_2'] = score_knn_m2\n",
    "score_knn_m2_pred = func_model_pred(knn_set_2, train_x_2, train_y_2, test_x_2, test_y_2)\n",
    "dct_plot_knn_2['knn_pred_2'] = score_knn_m2_pred\n",
    "dct_plot_knn_2['knn_cross_val_2'] = cv_check_results_knn_2.mean()\n",
    "\n",
    "ser_for_plot_knn_2 = pd.Series(dct_plot_knn_2, index=dct_plot_knn_2.keys())\n",
    "ser_for_plot_knn_2 = ser_for_plot_knn_2.reindex(['best_knn_2', 'knn_fit_2', 'knn_pred_2', 'knn_cross_val_2'])\n",
    "#ser_for_plot_lr_2.plot(kind= 'bar')\n",
    "\n",
    "#Dictionary for Dataframe that will be used for the chart for KNN on feature set 3\n",
    "dct_plot_knn_3 = {}\n",
    "dct_plot_knn_3['best_knn_3'] = knn_explore_3.best_score_\n",
    "score_knn_m3 = func_model_fit(knn_set_3, train_x_3, train_y_3)\n",
    "dct_plot_knn_3['knn_fit_3'] = score_knn_m3\n",
    "score_knn_m3_pred = func_model_pred(knn_set_3, train_x_3, train_y_3, test_x_3, test_y_3)\n",
    "dct_plot_knn_3['knn_pred_3'] = score_knn_m3_pred\n",
    "dct_plot_knn_3['knn_cross_val_3'] = cv_check_results_knn_3.mean()\n",
    "\n",
    "ser_for_plot_knn_3 = pd.Series(dct_plot_knn_3, index=dct_plot_knn_3.keys())\n",
    "ser_for_plot_knn_3 = ser_for_plot_knn_3.reindex(['best_knn_3', 'knn_fit_3', 'knn_pred_3', 'knn_cross_val_3'])\n",
    "#ser_for_plot_lr_3.plot(kind= 'bar')"
   ]
  },
  {
   "cell_type": "code",
   "execution_count": 803,
   "metadata": {
    "collapsed": false
   },
   "outputs": [
    {
     "data": {
      "text/plain": [
       "<matplotlib.legend.Legend at 0xf83a630>"
      ]
     },
     "execution_count": 803,
     "metadata": {},
     "output_type": "execute_result"
    },
    {
     "data": {
      "image/png": "[encoded data removed]",
      "text/plain": [
       "<matplotlib.figure.Figure at 0x105c3ac8>"
      ]
     },
     "metadata": {},
     "output_type": "display_data"
    }
   ],
   "source": [
    "#build list for DataFrame for plot; feature set 1\n",
    "lst_df_kn_set_1 =[]\n",
    "lst_df_kn_set_1.append(knn_explore_1.best_score_)\n",
    "lst_df_kn_set_1.append(score_knn_m1)\n",
    "lst_df_kn_set_1.append(score_knn_m1_pred)\n",
    "lst_df_kn_set_1.append(cv_check_results_knn_1.mean())\n",
    "#build list for DataFrame for plot; feature set 2\n",
    "lst_df_kn_set_2 =[]\n",
    "lst_df_kn_set_2.append(knn_explore_2.best_score_)\n",
    "lst_df_kn_set_2.append(score_knn_m2)\n",
    "lst_df_kn_set_2.append(score_knn_m2_pred)\n",
    "lst_df_kn_set_2.append(cv_check_results_knn_2.mean())\n",
    "#build list for DataFrame for plot; feature set 2\n",
    "lst_df_kn_set_3 =[]\n",
    "lst_df_kn_set_3.append(logit_explore_3.best_score_)\n",
    "lst_df_kn_set_3.append(score_knn_m3)\n",
    "lst_df_kn_set_3.append(score_knn_m3_pred)\n",
    "lst_df_kn_set_3.append(cv_check_results_knn_3.mean())\n",
    "#Build df for plot\n",
    "dct_for_kn_df = {'feature set 1: Random Forest Feature Selection': lst_df_kn_set_1,'feature set 2: Chosen at Random': lst_df_kn_set_2, 'feature set 3: Author Chosen Features': lst_df_kn_set_3}\n",
    "df_for_kn_plot = pd.DataFrame(dct_for_kn_df, index=['Grid Search', 'Training Fit', 'Test Prediction', 'Mean of Cross Val'])\n",
    "df_for_kn_plot.columns.name = 'modeling results'\n",
    "#Plot the Data Frame for Logistic Regression\n",
    "fig, axes = plt.subplots(1,1)\n",
    "df_for_kn_plot.plot(kind='bar', ax=axes, alpha=0.7, title='K-Nearest Neighbors Results', ylim=[0.85, 1.05], rot=45)\n",
    "plt.legend(bbox_to_anchor=(0,1), loc=2, borderaxespad=0.)"
   ]
  },
  {
   "cell_type": "code",
   "execution_count": 857,
   "metadata": {
    "collapsed": true
   },
   "outputs": [],
   "source": [
    "#K-Nearest Neighbors Confusion Matrix Results\n",
    "#Critical to pass labels to the confusion matrix so that it gives the right results\n",
    "#feature set 1\n",
    "knn_model_pred_set_1 = func_model_pred_conf(knn_set_1, train_x_1, train_y_1, test_x_1)\n",
    "conf_mat_knn_1 = confusion_matrix(test_y_1, knn_model_pred_set_1, labels=[1,0])\n",
    "#feature set 2\n",
    "knn_model_pred_set_2 = func_model_pred_conf(knn_set_2, train_x_2, train_y_2, test_x_2)\n",
    "conf_mat_knn_2 = confusion_matrix(test_y_2, knn_model_pred_set_2, labels=[1,0])\n",
    "#feature set 3\n",
    "knn_model_pred_set_3 = func_model_pred_conf(knn_set_3, train_x_3, train_y_3, test_x_3)\n",
    "conf_mat_knn_3 = confusion_matrix(test_y_3, knn_model_pred_set_3, labels=[1,0])"
   ]
  },
  {
   "cell_type": "code",
   "execution_count": 862,
   "metadata": {
    "collapsed": true
   },
   "outputs": [],
   "source": [
    "#Logistic Regression Confusion Matrix Results\n",
    "#Critical to pass labels to the confusion matrix so that it gives the right results\n",
    "#feature set 1\n",
    "knn_model_pred_set_1 = func_model_pred_conf(knn_set_1, train_x_1, train_y_1, test_x_1)\n",
    "conf_mat_knn_1 = confusion_matrix(test_y_1, knn_model_pred_set_1, labels=[1,0])\n",
    "#feature set 2\n",
    "knn_model_pred_set_2 = func_model_pred_conf(knn_set_2, train_x_2, train_y_2, test_x_2)\n",
    "conf_mat_knn_2 = confusion_matrix(test_y_2, knn_model_pred_set_2, labels=[1,0])\n",
    "#feature set 3\n",
    "knn_model_pred_set_3 = func_model_pred_conf(knn_set_3, train_x_3, train_y_3, test_x_3)\n",
    "conf_mat_knn_3 = confusion_matrix(test_y_3, knn_model_pred_set_3, labels=[1,0])\n",
    "#Build the df\n",
    "lst_index = ['true_positive', 'false_positive', 'false_negative', 'true_negative']\n",
    "lst_index_calc = ['accuracy', 'misclass', 'precision', 'recall']\n",
    "lst_cols = ['Feature Set 1', 'Feature Set 2', 'Feature Set 3']\n",
    "df_for_knn_cm_plot = func_cm_to_df(conf_mat_knn_1, conf_mat_knn_2, conf_mat_knn_3, lst_index, lst_cols)\n",
    "df_for_knn_cm_calc_plot = func_cm_calc_to_df(test_y_1, conf_mat_knn_1, test_y_2, conf_mat_knn_2, test_y_3, conf_mat_knn_3, lst_index_calc, lst_cols)\n"
   ]
  },
  {
   "cell_type": "code",
   "execution_count": 863,
   "metadata": {
    "collapsed": false
   },
   "outputs": [
    {
     "data": {
      "text/html": [
       "<div>\n",
       "<style>\n",
       "    .dataframe thead tr:only-child th {\n",
       "        text-align: right;\n",
       "    }\n",
       "\n",
       "    .dataframe thead th {\n",
       "        text-align: left;\n",
       "    }\n",
       "\n",
       "    .dataframe tbody tr th {\n",
       "        vertical-align: top;\n",
       "    }\n",
       "</style>\n",
       "<table border=\"1\" class=\"dataframe\">\n",
       "  <thead>\n",
       "    <tr style=\"text-align: right;\">\n",
       "      <th>Confusion Matirx</th>\n",
       "      <th>Feature Set 1</th>\n",
       "      <th>Feature Set 2</th>\n",
       "      <th>Feature Set 3</th>\n",
       "    </tr>\n",
       "  </thead>\n",
       "  <tbody>\n",
       "    <tr>\n",
       "      <th>true_positive</th>\n",
       "      <td>49</td>\n",
       "      <td>46</td>\n",
       "      <td>34</td>\n",
       "    </tr>\n",
       "    <tr>\n",
       "      <th>false_positive</th>\n",
       "      <td>10</td>\n",
       "      <td>13</td>\n",
       "      <td>11</td>\n",
       "    </tr>\n",
       "    <tr>\n",
       "      <th>false_negative</th>\n",
       "      <td>3</td>\n",
       "      <td>4</td>\n",
       "      <td>7</td>\n",
       "    </tr>\n",
       "    <tr>\n",
       "      <th>true_negative</th>\n",
       "      <td>81</td>\n",
       "      <td>80</td>\n",
       "      <td>91</td>\n",
       "    </tr>\n",
       "  </tbody>\n",
       "</table>\n",
       "</div>"
      ],
      "text/plain": [
       "Confusion Matirx  Feature Set 1  Feature Set 2  Feature Set 3\n",
       "true_positive                49             46             34\n",
       "false_positive               10             13             11\n",
       "false_negative                3              4              7\n",
       "true_negative                81             80             91"
      ]
     },
     "execution_count": 863,
     "metadata": {},
     "output_type": "execute_result"
    }
   ],
   "source": [
    "df_for_knn_cm_plot"
   ]
  },
  {
   "cell_type": "code",
   "execution_count": 865,
   "metadata": {
    "collapsed": false
   },
   "outputs": [
    {
     "data": {
      "text/html": [
       "<div>\n",
       "<style>\n",
       "    .dataframe thead tr:only-child th {\n",
       "        text-align: right;\n",
       "    }\n",
       "\n",
       "    .dataframe thead th {\n",
       "        text-align: left;\n",
       "    }\n",
       "\n",
       "    .dataframe tbody tr th {\n",
       "        vertical-align: top;\n",
       "    }\n",
       "</style>\n",
       "<table border=\"1\" class=\"dataframe\">\n",
       "  <thead>\n",
       "    <tr style=\"text-align: right;\">\n",
       "      <th>Confusion Matrix Calculcaitons</th>\n",
       "      <th>Feature Set 1</th>\n",
       "      <th>Feature Set 2</th>\n",
       "      <th>Feature Set 3</th>\n",
       "    </tr>\n",
       "  </thead>\n",
       "  <tbody>\n",
       "    <tr>\n",
       "      <th>accuracy</th>\n",
       "      <td>0.909091</td>\n",
       "      <td>0.881119</td>\n",
       "      <td>0.874126</td>\n",
       "    </tr>\n",
       "    <tr>\n",
       "      <th>misclass</th>\n",
       "      <td>0.090909</td>\n",
       "      <td>0.118881</td>\n",
       "      <td>0.125874</td>\n",
       "    </tr>\n",
       "    <tr>\n",
       "      <th>precision</th>\n",
       "      <td>0.830508</td>\n",
       "      <td>0.779661</td>\n",
       "      <td>0.755556</td>\n",
       "    </tr>\n",
       "    <tr>\n",
       "      <th>recall</th>\n",
       "      <td>0.942308</td>\n",
       "      <td>0.920000</td>\n",
       "      <td>0.829268</td>\n",
       "    </tr>\n",
       "  </tbody>\n",
       "</table>\n",
       "</div>"
      ],
      "text/plain": [
       "Confusion Matrix Calculcaitons  Feature Set 1  Feature Set 2  Feature Set 3\n",
       "accuracy                             0.909091       0.881119       0.874126\n",
       "misclass                             0.090909       0.118881       0.125874\n",
       "precision                            0.830508       0.779661       0.755556\n",
       "recall                               0.942308       0.920000       0.829268"
      ]
     },
     "execution_count": 865,
     "metadata": {},
     "output_type": "execute_result"
    }
   ],
   "source": [
    "df_for_knn_cm_calc_plot"
   ]
  },
  {
   "cell_type": "code",
   "execution_count": 508,
   "metadata": {
    "collapsed": true
   },
   "outputs": [],
   "source": [
    "#Random Forrest Model Exploration\n",
    "rf_model_gs = RandomForestClassifier()\n",
    "rf_params = {\"n_estimators\":[10,50,100,500], 'max_depth':[3,4,5,6,7,8]}"
   ]
  },
  {
   "cell_type": "code",
   "execution_count": 509,
   "metadata": {
    "collapsed": false
   },
   "outputs": [
    {
     "name": "stdout",
     "output_type": "stream",
     "text": [
      "Random ForrestNeighbors Model Exploration\n",
      "best gs params:\n",
      "0.986457363089\n",
      "\n",
      "best gs params: \n",
      "{'n_estimators': 500, 'max_depth': 4}\n"
     ]
    }
   ],
   "source": [
    "#Random Forrest Model Exploration: feature set 1\n",
    "rnd_frst_explore_1 = explore_model(rf_params, rf_model_gs, x_1, y_1)\n",
    "print \"Random ForrestNeighbors Model Exploration\"\n",
    "print \"best gs params:\"\n",
    "print rnd_frst_explore_1.best_score_\n",
    "print \"\"\n",
    "print \"best gs params: \"\n",
    "print rnd_frst_explore_1.best_params_"
   ]
  },
  {
   "cell_type": "code",
   "execution_count": 510,
   "metadata": {
    "collapsed": false
   },
   "outputs": [
    {
     "name": "stdout",
     "output_type": "stream",
     "text": [
      "Random ForrestNeighbors Model Exploration\n",
      "best gs params:\n",
      "0.964277358177\n",
      "\n",
      "best gs params: \n",
      "{'n_estimators': 500, 'max_depth': 6}\n"
     ]
    }
   ],
   "source": [
    "#Random Forrest Model Exploration: feature set 2\n",
    "rnd_frst_explore_2 = explore_model(rf_params, rf_model_gs, x_2, y_2)\n",
    "print \"Random ForrestNeighbors Model Exploration\"\n",
    "print \"best gs params:\"\n",
    "print rnd_frst_explore_2.best_score_\n",
    "print \"\"\n",
    "print \"best gs params: \"\n",
    "print rnd_frst_explore_2.best_params_"
   ]
  },
  {
   "cell_type": "code",
   "execution_count": 511,
   "metadata": {
    "collapsed": false
   },
   "outputs": [
    {
     "name": "stdout",
     "output_type": "stream",
     "text": [
      "Random ForrestNeighbors Model Exploration\n",
      "best gs params:\n",
      "0.98991855567\n",
      "\n",
      "best gs params: \n",
      "{'n_estimators': 10, 'max_depth': 4}\n"
     ]
    }
   ],
   "source": [
    "#Random Forrest Model Exploration: feature set 3\n",
    "rnd_frst_explore_3 = explore_model(rf_params, rf_model_gs, x_3, y_3)\n",
    "print \"Random ForrestNeighbors Model Exploration\"\n",
    "print \"best gs params:\"\n",
    "print rnd_frst_explore_3.best_score_\n",
    "print \"\"\n",
    "print \"best gs params: \"\n",
    "print rnd_frst_explore_3.best_params_"
   ]
  },
  {
   "cell_type": "code",
   "execution_count": 512,
   "metadata": {
    "collapsed": false
   },
   "outputs": [
    {
     "name": "stdout",
     "output_type": "stream",
     "text": [
      "Random Forrest results:\n",
      "score of fit: 0.962441314554\n",
      "score of prediction: 0.972027972028\n",
      "\n",
      "Random Forres Cross validation results:\n",
      "CV AUC_1 [ 0.9751292   0.98320413  0.99698189  0.98490946  0.99530516], Average AUC_1 0.987105969148\n"
     ]
    }
   ],
   "source": [
    "#Algorithm uses hyperparameters determined in GridSearch\n",
    "#Random Forrest for feature set 1 (uses train set fot fit and test set for predict)\n",
    "rnd_frst_set_1 = RandomForestClassifier(n_estimators=100, max_depth=3)\n",
    "\n",
    "print \"Random Forrest results:\"\n",
    "print \"score of fit: \" + str(func_model_fit(rnd_frst_set_1, train_x_1, train_y_1))\n",
    "print \"score of prediction: \" + str(func_model_pred(rnd_frst_set_1, train_x_1, train_y_1, test_x_1, test_y_1))\n",
    "#Cross Validation of the Random Forres (uses entire feature and training set)\n",
    "print \"\"\n",
    "print \"Random Forres Cross validation results:\"\n",
    "cv_check_results_rf_1 = func_cv_check(rnd_frst_set_1, train_x_1, train_y_1, x_1, y_1)\n",
    "print('CV AUC_1 {}, Average AUC_1 {}'.format(cv_check_results_rf_1, cv_check_results_rf_1.mean()))"
   ]
  },
  {
   "cell_type": "code",
   "execution_count": 513,
   "metadata": {
    "collapsed": false
   },
   "outputs": [
    {
     "name": "stdout",
     "output_type": "stream",
     "text": [
      "Random Forrest results:\n",
      "score of fit: 0.981220657277\n",
      "score of prediction: 0.853146853147\n",
      "\n",
      "Random Forres Cross validation results:\n",
      "CV AUC_2 [ 0.93281654  0.95833333  0.98021462  0.96579477  0.98356808], Average AUC_2 0.964145467118\n"
     ]
    }
   ],
   "source": [
    "#Algorithm uses hyperparameters determined in GridSearch\n",
    "#Random Forrest for feature set 2 (uses train set fot fit and test set for predict)\n",
    "rnd_frst_set_2 = RandomForestClassifier(n_estimators=500, max_depth=7)\n",
    "\n",
    "print \"Random Forrest results:\"\n",
    "print \"score of fit: \" + str(func_model_fit(rnd_frst_set_2, train_x_2, train_y_2))\n",
    "print \"score of prediction: \" + str(func_model_pred(rnd_frst_set_2, train_x_2, train_y_2, test_x_2, test_y_2))\n",
    "#Cross Validation of the Random Forres (uses entire feature and training set)\n",
    "print \"\"\n",
    "print \"Random Forres Cross validation results:\"\n",
    "cv_check_results_rf_2 = func_cv_check(rnd_frst_set_2, train_x_2, train_y_2, x_2, y_2)\n",
    "print('CV AUC_2 {}, Average AUC_2 {}'.format(cv_check_results_rf_2, cv_check_results_rf_2.mean()))"
   ]
  },
  {
   "cell_type": "code",
   "execution_count": 514,
   "metadata": {
    "collapsed": false
   },
   "outputs": [
    {
     "name": "stdout",
     "output_type": "stream",
     "text": [
      "Random Forrest results:\n",
      "score of fit: 0.990610328638\n",
      "score of prediction: 0.965034965035\n",
      "\n",
      "Random Forres Cross validation results:\n",
      "CV AUC_3 [ 0.98126615  0.97739018  0.99765258  0.98021462  0.99698189], Average AUC_3 0.986701085063\n"
     ]
    }
   ],
   "source": [
    "#Algorithm uses hyperparameters determined in GridSearch\n",
    "#Random Forrest for feature set 3 (uses train set fot fit and test set for predict)\n",
    "rnd_frst_set_3 = RandomForestClassifier(n_estimators=50, max_depth=5)\n",
    "\n",
    "print \"Random Forrest results:\"\n",
    "print \"score of fit: \" + str(func_model_fit(rnd_frst_set_3, train_x_3, train_y_3))\n",
    "print \"score of prediction: \" + str(func_model_pred(rnd_frst_set_3, train_x_3, train_y_3, test_x_3, test_y_3))\n",
    "#Cross Validation of the Random Forres (uses entire feature and training set)\n",
    "print \"\"\n",
    "print \"Random Forres Cross validation results:\"\n",
    "cv_check_results_rf_3 = func_cv_check(rnd_frst_set_3, train_x_3, train_y_3, x_3, y_3)\n",
    "print('CV AUC_3 {}, Average AUC_3 {}'.format(cv_check_results_rf_3, cv_check_results_rf_3.mean()))"
   ]
  },
  {
   "cell_type": "code",
   "execution_count": 804,
   "metadata": {
    "collapsed": false
   },
   "outputs": [],
   "source": [
    "#Dictionary for Dataframe that will be used for the chart for Random Forrest on feature set 1\n",
    "#makes use of the score functions from above\n",
    "dct_plot_rnd_frst_1 = {}\n",
    "dct_plot_rnd_frst_1['best_rnd_frst_1'] = rnd_frst_explore_1.best_score_\n",
    "score_rnd_frst_m1 = func_model_fit(rnd_frst_set_1, train_x_1, train_y_1)\n",
    "dct_plot_rnd_frst_1['rnd_frst_fit_1'] = score_rnd_frst_m1\n",
    "score_rnd_frst_m1_pred = func_model_pred(rnd_frst_set_1, train_x_1, train_y_1, test_x_1, test_y_1)\n",
    "dct_plot_rnd_frst_1['rnd_frst_pred_1'] = score_rnd_frst_m1_pred\n",
    "dct_plot_rnd_frst_1['rnd_frst_cross_val_1'] = cv_check_results_rf_1.mean()\n",
    "\n",
    "ser_for_plot_rnd_frst_1 = pd.Series(dct_plot_rnd_frst_1, index=dct_plot_rnd_frst_1.keys())\n",
    "ser_for_plot_rnd_frst_1 = ser_for_plot_rnd_frst_1.reindex(['best_rnd_frst_1', 'rnd_frst_fit_1', 'rnd_frst_pred_1', 'rnd_frst_cross_val_1'])\n",
    "#ser_for_plot_lr_1.plot(kind= 'bar')\n",
    "\n",
    "#Dictionary for Dataframe that will be used for the chart for Random Forrest on feature set 2\n",
    "dct_plot_rnd_frst_2 = {}\n",
    "dct_plot_rnd_frst_2['best_rnd_frst_2'] = rnd_frst_explore_2.best_score_\n",
    "score_rnd_frst_m2 = func_model_fit(rnd_frst_set_2, train_x_2, train_y_2)\n",
    "dct_plot_rnd_frst_2['rnd_frst_fit_2'] = score_rnd_frst_m2\n",
    "score_rnd_frst_m2_pred = func_model_pred(rnd_frst_set_2, train_x_2, train_y_2, test_x_2, test_y_2)\n",
    "dct_plot_rnd_frst_2['rnd_frst_pred_2'] = score_rnd_frst_m2_pred\n",
    "dct_plot_rnd_frst_2['rnd_frst_cross_val_2'] = cv_check_results_rf_2.mean()\n",
    "\n",
    "ser_for_plot_rnd_frst_2 = pd.Series(dct_plot_rnd_frst_2, index=dct_plot_rnd_frst_2.keys())\n",
    "ser_for_plot_rnd_frst_2 = ser_for_plot_rnd_frst_2.reindex(['best_rnd_frst_2', 'rnd_frst_fit_2', 'rnd_frst_pred_2', 'rnd_frst_cross_val_2'])\n",
    "#ser_for_plot_lr_1.plot(kind= 'bar')\n",
    "\n",
    "#Dictionary for Dataframe that will be used for the chart for Random Forrest on feature set 3\n",
    "dct_plot_rnd_frst_3 = {}\n",
    "dct_plot_rnd_frst_3['best_rnd_frst_3'] = rnd_frst_explore_3.best_score_\n",
    "score_rnd_frst_m3 = func_model_fit(rnd_frst_set_3, train_x_3, train_y_3)\n",
    "dct_plot_rnd_frst_3['rnd_frst_fit_3'] = score_rnd_frst_m3\n",
    "score_rnd_frst_m3_pred = func_model_pred(rnd_frst_set_3, train_x_3, train_y_3, test_x_3, test_y_3)\n",
    "dct_plot_rnd_frst_3['rnd_frst_pred_3'] = score_rnd_frst_m3_pred\n",
    "dct_plot_rnd_frst_3['rnd_frst_cross_val_3'] = cv_check_results_rf_3.mean()\n",
    "\n",
    "ser_for_plot_rnd_frst_3 = pd.Series(dct_plot_rnd_frst_3, index=dct_plot_rnd_frst_3.keys())\n",
    "ser_for_plot_rnd_frst_3 = ser_for_plot_rnd_frst_3.reindex(['best_rnd_frst_3', 'rnd_frst_fit_3', 'rnd_frst_pred_3', 'rnd_frst_cross_val_3'])\n",
    "#ser_for_plot_lr_3.plot(kind= 'bar')"
   ]
  },
  {
   "cell_type": "code",
   "execution_count": 806,
   "metadata": {
    "collapsed": false
   },
   "outputs": [
    {
     "data": {
      "text/plain": [
       "<matplotlib.legend.Legend at 0x1861f278>"
      ]
     },
     "execution_count": 806,
     "metadata": {},
     "output_type": "execute_result"
    },
    {
     "data": {
      "image/png": "[encoded data removed]",
      "text/plain": [
       "<matplotlib.figure.Figure at 0x18372358>"
      ]
     },
     "metadata": {},
     "output_type": "display_data"
    }
   ],
   "source": [
    "#build list for DataFrame for plot; feature set 1\n",
    "lst_df_rnd_frst_set_1 =[]\n",
    "lst_df_rnd_frst_set_1.append(rnd_frst_explore_1.best_score_)\n",
    "lst_df_rnd_frst_set_1.append(score_rnd_frst_m1)\n",
    "lst_df_rnd_frst_set_1.append(score_rnd_frst_m1_pred)\n",
    "lst_df_rnd_frst_set_1.append(cv_check_results_rf_1.mean())\n",
    "#build list for DataFrame for plot; feature set 2\n",
    "lst_df_rnd_frst_set_2 =[]\n",
    "lst_df_rnd_frst_set_2.append(rnd_frst_explore_2.best_score_)\n",
    "lst_df_rnd_frst_set_2.append(score_rnd_frst_m2)\n",
    "lst_df_rnd_frst_set_2.append(score_rnd_frst_m2_pred)\n",
    "lst_df_rnd_frst_set_2.append(cv_check_results_rf_2.mean())\n",
    "#build list for DataFrame for plot; feature set 2\n",
    "lst_df_rnd_frst_set_3 =[]\n",
    "lst_df_rnd_frst_set_3.append(rnd_frst_explore_3.best_score_)\n",
    "lst_df_rnd_frst_set_3.append(score_rnd_frst_m3)\n",
    "lst_df_rnd_frst_set_3.append(score_rnd_frst_m3_pred)\n",
    "lst_df_rnd_frst_set_3.append(cv_check_results_rf_3.mean())\n",
    "#Build df for plot\n",
    "dct_for_rnd_frst_df = {'feature set 1: Random Forest Feature Selection': lst_df_rnd_frst_set_1,'feature set 2: Chosen at Random': lst_df_rnd_frst_set_2, 'feature set 3: Author Chosen Features': lst_df_rnd_frst_set_3}\n",
    "df_for_rnd_frst_plot = pd.DataFrame(dct_for_rnd_frst_df, index=['Grid Search', 'Training Fit', 'Test Prediction', 'Mean of Cross Val'])\n",
    "df_for_rnd_frst_plot.columns.name = 'modeling results'\n",
    "#Plot the Data Frame for Logistic Regression\n",
    "fig, axes = plt.subplots(1,1)\n",
    "df_for_rnd_frst_plot.plot(kind='bar', ax=axes, alpha=0.7, title='Random Forrest Neighbors Results', ylim=[0.85, 1.05], rot=45)\n",
    "plt.legend(bbox_to_anchor=(0,1), loc=2, borderaxespad=0.)"
   ]
  },
  {
   "cell_type": "code",
   "execution_count": 811,
   "metadata": {
    "collapsed": true
   },
   "outputs": [],
   "source": [
    "#Generalized Feature Ranking function. It is dependent on the type pf algorithm (not all algorithems have coef_)\n",
    "\n",
    "def func_feature_rank_rnd_frst(x_full, model_fit, str_tag, out_tag, str_alg):\n",
    "    rf_cols = []\n",
    "    for col in x_full.columns:\n",
    "        rf_cols.append(col + str_tag)\n",
    "    rf_feature_importances = model_fit.feature_importances_\n",
    "    df_out = pd.DataFrame({'Features_set': rf_cols, 'Importance Score': rf_feature_importances})\n",
    "    df_out.sort_values('Importance Score', inplace=True, ascending=False)\n",
    "    df_out.set_index(['Features_set'], inplace=True)\n",
    "    print \"Feature \" + out_tag + \" Ranking \" + str_alg \n",
    "    return df_out"
   ]
  },
  {
   "cell_type": "code",
   "execution_count": 812,
   "metadata": {
    "collapsed": false
   },
   "outputs": [
    {
     "name": "stdout",
     "output_type": "stream",
     "text": [
      "Feature set 1 Ranking random_forest\n"
     ]
    },
    {
     "data": {
      "text/html": [
       "<div>\n",
       "<style>\n",
       "    .dataframe thead tr:only-child th {\n",
       "        text-align: right;\n",
       "    }\n",
       "\n",
       "    .dataframe thead th {\n",
       "        text-align: left;\n",
       "    }\n",
       "\n",
       "    .dataframe tbody tr th {\n",
       "        vertical-align: top;\n",
       "    }\n",
       "</style>\n",
       "<table border=\"1\" class=\"dataframe\">\n",
       "  <thead>\n",
       "    <tr style=\"text-align: right;\">\n",
       "      <th>Feature Set 1</th>\n",
       "      <th>Importance Score</th>\n",
       "    </tr>\n",
       "    <tr>\n",
       "      <th>Features_set</th>\n",
       "      <th></th>\n",
       "    </tr>\n",
       "  </thead>\n",
       "  <tbody>\n",
       "    <tr>\n",
       "      <th>perimeter_worst_f1</th>\n",
       "      <td>0.311295</td>\n",
       "    </tr>\n",
       "    <tr>\n",
       "      <th>concave_points_mean_f1</th>\n",
       "      <td>0.273451</td>\n",
       "    </tr>\n",
       "    <tr>\n",
       "      <th>concave_points_worst_f1</th>\n",
       "      <td>0.155006</td>\n",
       "    </tr>\n",
       "    <tr>\n",
       "      <th>area_worst_f1</th>\n",
       "      <td>0.154909</td>\n",
       "    </tr>\n",
       "    <tr>\n",
       "      <th>radius_worst_f1</th>\n",
       "      <td>0.105339</td>\n",
       "    </tr>\n",
       "    <tr>\n",
       "      <th>Intercept_f1</th>\n",
       "      <td>0.000000</td>\n",
       "    </tr>\n",
       "  </tbody>\n",
       "</table>\n",
       "</div>"
      ],
      "text/plain": [
       "Feature Set 1            Importance Score\n",
       "Features_set                             \n",
       "perimeter_worst_f1               0.311295\n",
       "concave_points_mean_f1           0.273451\n",
       "concave_points_worst_f1          0.155006\n",
       "area_worst_f1                    0.154909\n",
       "radius_worst_f1                  0.105339\n",
       "Intercept_f1                     0.000000"
      ]
     },
     "execution_count": 812,
     "metadata": {},
     "output_type": "execute_result"
    }
   ],
   "source": [
    "#Feature Set 1 Ranking\n",
    "rf_fitted_set_1 = rnd_frst_set_1.fit(train_x_1, train_y_1)\n",
    "df_curr_rf_1 = func_feature_rank_rnd_frst(x_1, rf_fitted_set_1, '_f1', 'set 1', 'random_forest')\n",
    "df_curr_rf_1.columns.name = 'Feature Set 1'\n",
    "df_curr_rf_1"
   ]
  },
  {
   "cell_type": "code",
   "execution_count": 813,
   "metadata": {
    "collapsed": false
   },
   "outputs": [
    {
     "name": "stdout",
     "output_type": "stream",
     "text": [
      "Feature set 2 Ranking random_forest\n"
     ]
    },
    {
     "data": {
      "text/html": [
       "<div>\n",
       "<style>\n",
       "    .dataframe thead tr:only-child th {\n",
       "        text-align: right;\n",
       "    }\n",
       "\n",
       "    .dataframe thead th {\n",
       "        text-align: left;\n",
       "    }\n",
       "\n",
       "    .dataframe tbody tr th {\n",
       "        vertical-align: top;\n",
       "    }\n",
       "</style>\n",
       "<table border=\"1\" class=\"dataframe\">\n",
       "  <thead>\n",
       "    <tr style=\"text-align: right;\">\n",
       "      <th>Feature Set 2</th>\n",
       "      <th>Importance Score</th>\n",
       "    </tr>\n",
       "    <tr>\n",
       "      <th>Features_set</th>\n",
       "      <th></th>\n",
       "    </tr>\n",
       "  </thead>\n",
       "  <tbody>\n",
       "    <tr>\n",
       "      <th>perimeter_mean_f2</th>\n",
       "      <td>0.446514</td>\n",
       "    </tr>\n",
       "    <tr>\n",
       "      <th>radius_mean_f2</th>\n",
       "      <td>0.391135</td>\n",
       "    </tr>\n",
       "    <tr>\n",
       "      <th>texture_mean_f2</th>\n",
       "      <td>0.162350</td>\n",
       "    </tr>\n",
       "    <tr>\n",
       "      <th>Intercept_f2</th>\n",
       "      <td>0.000000</td>\n",
       "    </tr>\n",
       "  </tbody>\n",
       "</table>\n",
       "</div>"
      ],
      "text/plain": [
       "Feature Set 2      Importance Score\n",
       "Features_set                       \n",
       "perimeter_mean_f2          0.446514\n",
       "radius_mean_f2             0.391135\n",
       "texture_mean_f2            0.162350\n",
       "Intercept_f2               0.000000"
      ]
     },
     "execution_count": 813,
     "metadata": {},
     "output_type": "execute_result"
    }
   ],
   "source": [
    "#Feature Set 2 Ranking\n",
    "rf_fitted_set_2 = rnd_frst_set_2.fit(train_x_2, train_y_2)\n",
    "df_curr_rf_2 = func_feature_rank_rnd_frst(x_2, rf_fitted_set_2, '_f2', 'set 2', 'random_forest')\n",
    "df_curr_rf_2.columns.name = 'Feature Set 2'\n",
    "df_curr_rf_2"
   ]
  },
  {
   "cell_type": "code",
   "execution_count": 814,
   "metadata": {
    "collapsed": false
   },
   "outputs": [
    {
     "name": "stdout",
     "output_type": "stream",
     "text": [
      "Feature set 3 Ranking random_forest\n"
     ]
    },
    {
     "data": {
      "text/html": [
       "<div>\n",
       "<style>\n",
       "    .dataframe thead tr:only-child th {\n",
       "        text-align: right;\n",
       "    }\n",
       "\n",
       "    .dataframe thead th {\n",
       "        text-align: left;\n",
       "    }\n",
       "\n",
       "    .dataframe tbody tr th {\n",
       "        vertical-align: top;\n",
       "    }\n",
       "</style>\n",
       "<table border=\"1\" class=\"dataframe\">\n",
       "  <thead>\n",
       "    <tr style=\"text-align: right;\">\n",
       "      <th>Feature Set 3</th>\n",
       "      <th>Importance Score</th>\n",
       "    </tr>\n",
       "    <tr>\n",
       "      <th>Features_set</th>\n",
       "      <th></th>\n",
       "    </tr>\n",
       "  </thead>\n",
       "  <tbody>\n",
       "    <tr>\n",
       "      <th>area_worst_f3</th>\n",
       "      <td>0.698814</td>\n",
       "    </tr>\n",
       "    <tr>\n",
       "      <th>texture_mean_f3</th>\n",
       "      <td>0.170556</td>\n",
       "    </tr>\n",
       "    <tr>\n",
       "      <th>smoothness_worst_f3</th>\n",
       "      <td>0.130630</td>\n",
       "    </tr>\n",
       "    <tr>\n",
       "      <th>Intercept_f3</th>\n",
       "      <td>0.000000</td>\n",
       "    </tr>\n",
       "  </tbody>\n",
       "</table>\n",
       "</div>"
      ],
      "text/plain": [
       "Feature Set 3        Importance Score\n",
       "Features_set                         \n",
       "area_worst_f3                0.698814\n",
       "texture_mean_f3              0.170556\n",
       "smoothness_worst_f3          0.130630\n",
       "Intercept_f3                 0.000000"
      ]
     },
     "execution_count": 814,
     "metadata": {},
     "output_type": "execute_result"
    }
   ],
   "source": [
    "#Feature Set 3 Ranking\n",
    "rf_fitted_set_3 = rnd_frst_set_3.fit(train_x_3, train_y_3)\n",
    "df_curr_rf_3 = func_feature_rank_rnd_frst(x_3, rf_fitted_set_3, '_f3', 'set 3', 'random_forest')\n",
    "df_curr_rf_3.columns.name = 'Feature Set 3'\n",
    "df_curr_rf_3"
   ]
  },
  {
   "cell_type": "code",
   "execution_count": 887,
   "metadata": {
    "collapsed": true
   },
   "outputs": [],
   "source": [
    "#Random Forrest Confusion Matrix Results\n",
    "#Critical to pass labels to the confusion matrix so that it gives the right results\n",
    "#feature set 1\n",
    "rnd_frst_model_pred_set_1 = func_model_pred_conf(rnd_frst_set_1, train_x_1, train_y_1, test_x_1)\n",
    "conf_mat_rnd_frst_1 = confusion_matrix(test_y_1, rnd_frst_model_pred_set_1, labels=[1,0])\n",
    "#feature set 2\n",
    "rnd_frst_model_pred_set_2 = func_model_pred_conf(rnd_frst_set_2, train_x_2, train_y_2, test_x_2)\n",
    "conf_mat_rnd_frst_2 = confusion_matrix(test_y_2, rnd_frst_model_pred_set_2, labels=[1,0])\n",
    "#feature set 3\n",
    "rnd_frst_model_pred_set_3 = func_model_pred_conf(rnd_frst_set_3, train_x_3, train_y_3, test_x_3)\n",
    "conf_mat_rnd_frst_3 = confusion_matrix(test_y_3, rnd_frst_model_pred_set_3, labels=[1,0])"
   ]
  },
  {
   "cell_type": "code",
   "execution_count": 889,
   "metadata": {
    "collapsed": true
   },
   "outputs": [],
   "source": [
    "#Logistic Regression Confusion Matrix Results\n",
    "#Critical to pass labels to the confusion matrix so that it gives the right results\n",
    "#feature set 1\n",
    "rnd_frst_model_pred_set_1 = func_model_pred_conf(rnd_frst_set_1, train_x_1, train_y_1, test_x_1)\n",
    "conf_mat_rnd_frst_1 = confusion_matrix(test_y_1, rnd_frst_model_pred_set_1, labels=[1,0])\n",
    "#feature set 2\n",
    "rnd_frst_model_pred_set_2 = func_model_pred_conf(rnd_frst_set_2, train_x_2, train_y_2, test_x_2)\n",
    "conf_mat_rnd_frst_2 = confusion_matrix(test_y_2, rnd_frst_model_pred_set_2, labels=[1,0])\n",
    "#feature set 3\n",
    "rnd_frst_model_pred_set_3 = func_model_pred_conf(rnd_frst_set_3, train_x_3, train_y_3, test_x_3)\n",
    "conf_mat_rnd_frst_3 = confusion_matrix(test_y_3, rnd_frst_model_pred_set_3, labels=[1,0])\n",
    "#Build the df\n",
    "lst_index = ['true_positive', 'false_positive', 'false_negative', 'true_negative']\n",
    "lst_index_calc = ['accuracy', 'misclass', 'precision', 'recall']\n",
    "lst_cols = ['Feature Set 1', 'Feature Set 2', 'Feature Set 3']\n",
    "df_for_rnd_frst_cm_plot = func_cm_to_df(conf_mat_rnd_frst_1, conf_mat_rnd_frst_2, conf_mat_rnd_frst_3, lst_index, lst_cols)\n",
    "df_for_rnd_frst_cm_calc_plot = func_cm_calc_to_df(test_y_1, conf_mat_rnd_frst_1, test_y_2, conf_mat_rnd_frst_2, test_y_3, conf_mat_rnd_frst_3, lst_index_calc, lst_cols)\n"
   ]
  },
  {
   "cell_type": "code",
   "execution_count": 896,
   "metadata": {
    "collapsed": false
   },
   "outputs": [
    {
     "data": {
      "text/html": [
       "<div>\n",
       "<style>\n",
       "    .dataframe thead tr:only-child th {\n",
       "        text-align: right;\n",
       "    }\n",
       "\n",
       "    .dataframe thead th {\n",
       "        text-align: left;\n",
       "    }\n",
       "\n",
       "    .dataframe tbody tr th {\n",
       "        vertical-align: top;\n",
       "    }\n",
       "</style>\n",
       "<table border=\"1\" class=\"dataframe\">\n",
       "  <thead>\n",
       "    <tr style=\"text-align: right;\">\n",
       "      <th>Confusion Matirx</th>\n",
       "      <th>Feature Set 1</th>\n",
       "      <th>Feature Set 2</th>\n",
       "      <th>Feature Set 3</th>\n",
       "    </tr>\n",
       "  </thead>\n",
       "  <tbody>\n",
       "    <tr>\n",
       "      <th>true_positive</th>\n",
       "      <td>55</td>\n",
       "      <td>47</td>\n",
       "      <td>44</td>\n",
       "    </tr>\n",
       "    <tr>\n",
       "      <th>false_positive</th>\n",
       "      <td>4</td>\n",
       "      <td>12</td>\n",
       "      <td>1</td>\n",
       "    </tr>\n",
       "    <tr>\n",
       "      <th>false_negative</th>\n",
       "      <td>3</td>\n",
       "      <td>1</td>\n",
       "      <td>3</td>\n",
       "    </tr>\n",
       "    <tr>\n",
       "      <th>true_negative</th>\n",
       "      <td>81</td>\n",
       "      <td>83</td>\n",
       "      <td>95</td>\n",
       "    </tr>\n",
       "  </tbody>\n",
       "</table>\n",
       "</div>"
      ],
      "text/plain": [
       "Confusion Matirx  Feature Set 1  Feature Set 2  Feature Set 3\n",
       "true_positive                55             47             44\n",
       "false_positive                4             12              1\n",
       "false_negative                3              1              3\n",
       "true_negative                81             83             95"
      ]
     },
     "execution_count": 896,
     "metadata": {},
     "output_type": "execute_result"
    }
   ],
   "source": [
    "df_for_rnd_frst_cm_plot "
   ]
  },
  {
   "cell_type": "code",
   "execution_count": 897,
   "metadata": {
    "collapsed": false
   },
   "outputs": [
    {
     "data": {
      "text/html": [
       "<div>\n",
       "<style>\n",
       "    .dataframe thead tr:only-child th {\n",
       "        text-align: right;\n",
       "    }\n",
       "\n",
       "    .dataframe thead th {\n",
       "        text-align: left;\n",
       "    }\n",
       "\n",
       "    .dataframe tbody tr th {\n",
       "        vertical-align: top;\n",
       "    }\n",
       "</style>\n",
       "<table border=\"1\" class=\"dataframe\">\n",
       "  <thead>\n",
       "    <tr style=\"text-align: right;\">\n",
       "      <th>Confusion Matrix Calculations</th>\n",
       "      <th>Feature Set 1</th>\n",
       "      <th>Feature Set 2</th>\n",
       "      <th>Feature Set 3</th>\n",
       "    </tr>\n",
       "  </thead>\n",
       "  <tbody>\n",
       "    <tr>\n",
       "      <th>accuracy</th>\n",
       "      <td>0.951049</td>\n",
       "      <td>0.909091</td>\n",
       "      <td>0.972028</td>\n",
       "    </tr>\n",
       "    <tr>\n",
       "      <th>misclass</th>\n",
       "      <td>0.048951</td>\n",
       "      <td>0.090909</td>\n",
       "      <td>0.027972</td>\n",
       "    </tr>\n",
       "    <tr>\n",
       "      <th>precision</th>\n",
       "      <td>0.932203</td>\n",
       "      <td>0.796610</td>\n",
       "      <td>0.977778</td>\n",
       "    </tr>\n",
       "    <tr>\n",
       "      <th>recall</th>\n",
       "      <td>0.948276</td>\n",
       "      <td>0.979167</td>\n",
       "      <td>0.936170</td>\n",
       "    </tr>\n",
       "  </tbody>\n",
       "</table>\n",
       "</div>"
      ],
      "text/plain": [
       "Confusion Matrix Calculations  Feature Set 1  Feature Set 2  Feature Set 3\n",
       "accuracy                            0.951049       0.909091       0.972028\n",
       "misclass                            0.048951       0.090909       0.027972\n",
       "precision                           0.932203       0.796610       0.977778\n",
       "recall                              0.948276       0.979167       0.936170"
      ]
     },
     "execution_count": 897,
     "metadata": {},
     "output_type": "execute_result"
    }
   ],
   "source": [
    "df_for_rnd_frst_cm_calc_plot"
   ]
  },
  {
   "cell_type": "code",
   "execution_count": 890,
   "metadata": {
    "collapsed": false
   },
   "outputs": [
    {
     "name": "stdout",
     "output_type": "stream",
     "text": [
      "Confusion Matrix for Random Forest feature set 1\n"
     ]
    },
    {
     "data": {
      "text/plain": [
       "true_positive     55\n",
       "false_positive     4\n",
       "false_negative     3\n",
       "true_negative     81\n",
       "dtype: int64"
      ]
     },
     "execution_count": 890,
     "metadata": {},
     "output_type": "execute_result"
    }
   ],
   "source": [
    "ser_conf_rnd_frst_1 = func_cm_to_series(conf_mat_rnd_frst_1)\n",
    "print \"Confusion Matrix for Random Forest feature set 1\"\n",
    "ser_conf_rnd_frst_1"
   ]
  },
  {
   "cell_type": "code",
   "execution_count": 891,
   "metadata": {
    "collapsed": false
   },
   "outputs": [
    {
     "name": "stdout",
     "output_type": "stream",
     "text": [
      "Confusion Matrix calculations for Random Forest feature set 1\n"
     ]
    },
    {
     "data": {
      "text/plain": [
       "accuracy     0.951049\n",
       "misclass     0.048951\n",
       "precision    0.932203\n",
       "recall       0.948276\n",
       "dtype: float64"
      ]
     },
     "execution_count": 891,
     "metadata": {},
     "output_type": "execute_result"
    }
   ],
   "source": [
    "ser_conf_calc_rnd_frst_1 = func_c_matrix_calc(test_y_1, conf_mat_rnd_frst_1)\n",
    "print \"Confusion Matrix calculations for Random Forest feature set 1\"\n",
    "ser_conf_calc_rnd_frst_1"
   ]
  },
  {
   "cell_type": "code",
   "execution_count": 892,
   "metadata": {
    "collapsed": false
   },
   "outputs": [
    {
     "name": "stdout",
     "output_type": "stream",
     "text": [
      "Confusion Matrix for Random Forest feature set 2\n"
     ]
    },
    {
     "data": {
      "text/plain": [
       "true_positive     47\n",
       "false_positive    12\n",
       "false_negative     1\n",
       "true_negative     83\n",
       "dtype: int64"
      ]
     },
     "execution_count": 892,
     "metadata": {},
     "output_type": "execute_result"
    }
   ],
   "source": [
    "ser_conf_rnd_frst_2 = func_cm_to_series(conf_mat_rnd_frst_2)\n",
    "print \"Confusion Matrix for Random Forest feature set 2\"\n",
    "ser_conf_rnd_frst_2"
   ]
  },
  {
   "cell_type": "code",
   "execution_count": 893,
   "metadata": {
    "collapsed": false
   },
   "outputs": [
    {
     "name": "stdout",
     "output_type": "stream",
     "text": [
      "Confusion Matrix calculations for Random Forest feature set 2\n"
     ]
    },
    {
     "data": {
      "text/plain": [
       "accuracy     0.909091\n",
       "misclass     0.090909\n",
       "precision    0.796610\n",
       "recall       0.979167\n",
       "dtype: float64"
      ]
     },
     "execution_count": 893,
     "metadata": {},
     "output_type": "execute_result"
    }
   ],
   "source": [
    "ser_conf_calc_rnd_frst_2 = func_c_matrix_calc(test_y_2, conf_mat_rnd_frst_2)\n",
    "print \"Confusion Matrix calculations for Random Forest feature set 2\"\n",
    "ser_conf_calc_rnd_frst_2"
   ]
  },
  {
   "cell_type": "code",
   "execution_count": 894,
   "metadata": {
    "collapsed": false
   },
   "outputs": [
    {
     "name": "stdout",
     "output_type": "stream",
     "text": [
      "Confusion Matrix for Random Forest feature set 3\n"
     ]
    },
    {
     "data": {
      "text/plain": [
       "true_positive     44\n",
       "false_positive     1\n",
       "false_negative     3\n",
       "true_negative     95\n",
       "dtype: int64"
      ]
     },
     "execution_count": 894,
     "metadata": {},
     "output_type": "execute_result"
    }
   ],
   "source": [
    "ser_conf_rnd_frst_3 = func_cm_to_series(conf_mat_rnd_frst_3)\n",
    "print \"Confusion Matrix for Random Forest feature set 3\"\n",
    "ser_conf_rnd_frst_3"
   ]
  },
  {
   "cell_type": "code",
   "execution_count": 895,
   "metadata": {
    "collapsed": false
   },
   "outputs": [
    {
     "name": "stdout",
     "output_type": "stream",
     "text": [
      "Confusion Matrix calculations for Random Forest feature set 3\n"
     ]
    },
    {
     "data": {
      "text/plain": [
       "accuracy     0.972028\n",
       "misclass     0.027972\n",
       "precision    0.977778\n",
       "recall       0.936170\n",
       "dtype: float64"
      ]
     },
     "execution_count": 895,
     "metadata": {},
     "output_type": "execute_result"
    }
   ],
   "source": [
    "ser_conf_calc_rnd_frst_3 = func_c_matrix_calc(test_y_3, conf_mat_rnd_frst_3)\n",
    "print \"Confusion Matrix calculations for Random Forest feature set 3\"\n",
    "ser_conf_calc_rnd_frst_3"
   ]
  },
  {
   "cell_type": "code",
   "execution_count": null,
   "metadata": {
    "collapsed": true
   },
   "outputs": [],
   "source": []
  }
 ],
 "metadata": {
  "anaconda-cloud": {},
  "kernelspec": {
   "display_name": "Python [conda env:py2]",
   "language": "python",
   "name": "conda-env-py2-py"
  },
  "language_info": {
   "codemirror_mode": {
    "name": "ipython",
    "version": 2
   },
   "file_extension": ".py",
   "mimetype": "text/x-python",
   "name": "python",
   "nbconvert_exporter": "python",
   "pygments_lexer": "ipython2",
   "version": "2.7.13"
  }
 },
 "nbformat": 4,
 "nbformat_minor": 1
}
