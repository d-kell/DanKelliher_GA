{
 "cells": [
  {
   "cell_type": "markdown",
   "metadata": {
    "nbpresent": {
     "id": "df46c112-fe31-465f-9573-034b0af3dbbc"
    }
   },
   "source": [
    "__Final Project, Part 3: Exploration__"
   ]
  },
  {
   "cell_type": "markdown",
   "metadata": {
    "nbpresent": {
     "id": "21f7d27b-393e-4125-983c-f77da453e789"
    }
   },
   "source": [
    ">Problem Statement: \n",
    "Use the breast cancer data set to derive a model that will predict if a sample ID is a malignant or benign tumor."
   ]
  },
  {
   "cell_type": "markdown",
   "metadata": {
    "nbpresent": {
     "id": "25a7d4e1-73c2-4461-8d51-183c75fdcc78"
    }
   },
   "source": [
    ">Potential Models: \n",
    "Categorical techniques such as logistic regression or CART will be used since the target is categorical. \n",
    "I have only gotten so far as to generate some training sets using Patsy. Will use these to next run logistic regression and also will explore if a RandomForest will yield anything useful."
   ]
  },
  {
   "cell_type": "markdown",
   "metadata": {
    "nbpresent": {
     "id": "8e7d8bc2-bc10-4b49-b0f1-5cec194d5b4a"
    }
   },
   "source": [
    ">Explanation of extant data: \n",
    "The data set describes visual attributes of patient breast cancer cells, such as radius of cell nucleus, texture of nucleus, compactness, smoothness, and texture. More work is needed to understand the meaning of these attributes and how they relate to the problem. However, the focus is on constructing a model, even at the expense of understanding the problem. This is not ideal, but it is better to prioritize the techniques we are learning. "
   ]
  },
  {
   "cell_type": "markdown",
   "metadata": {
    "nbpresent": {
     "id": "193c2464-628f-4aae-8d5f-691ab5445d76"
    }
   },
   "source": [
    ">Outstanding questions, assumptions, risks, caveats:\n",
    "The assumption is that the data is real, useable, and that the goal of constructing a model can be met. \n",
    "Still need to determine some of the characteristics of the data, such as if the features are normally distributed."
   ]
  },
  {
   "cell_type": "markdown",
   "metadata": {
    "nbpresent": {
     "id": "953a6b88-f476-41cb-b868-bf952997220e"
    }
   },
   "source": [
    ">Relevant Domain knowledge:\n",
    "Biology background, basic understandning of cancer, biotechnology professional. "
   ]
  },
  {
   "cell_type": "markdown",
   "metadata": {
    "nbpresent": {
     "id": "89e685e5-8b04-45b9-b83f-d17e9bced3db"
    }
   },
   "source": [
    ">Success is a working model that can predict if a tumor is malignant or benign.\n",
    "Even if the model doesn't work well, it will be worth it to have learned some techniques. "
   ]
  },
  {
   "cell_type": "code",
   "execution_count": 1,
   "metadata": {
    "collapsed": false,
    "nbpresent": {
     "id": "ee108c4e-ff8e-42ac-8891-98d12f997b49"
    }
   },
   "outputs": [
    {
     "name": "stderr",
     "output_type": "stream",
     "text": [
      "C:\\Users\\danke_000\\Anaconda3\\envs\\py2\\lib\\site-packages\\sklearn\\cross_validation.py:44: DeprecationWarning: This module was deprecated in version 0.18 in favor of the model_selection module into which all the refactored classes and functions are moved. Also note that the interface of the new CV iterators are different from that of this module. This module will be removed in 0.20.\n",
      "  \"This module will be removed in 0.20.\", DeprecationWarning)\n",
      "C:\\Users\\danke_000\\Anaconda3\\envs\\py2\\lib\\site-packages\\sklearn\\grid_search.py:43: DeprecationWarning: This module was deprecated in version 0.18 in favor of the model_selection module into which all the refactored classes and functions are moved. This module will be removed in 0.20.\n",
      "  DeprecationWarning)\n"
     ]
    }
   ],
   "source": [
    "import pandas as pd\n",
    "import matplotlib.pyplot as plt\n",
    "import numpy as np\n",
    "import seaborn as sns\n",
    "from sklearn.metrics import confusion_matrix\n",
    "from sklearn.metrics import classification_report\n",
    "import math\n",
    "from sklearn.linear_model import LogisticRegression\n",
    "from sklearn.neighbors import KNeighborsClassifier\n",
    "from sklearn.tree import DecisionTreeClassifier\n",
    "from sklearn.cross_validation import cross_val_score\n",
    "from sklearn.ensemble import RandomForestClassifier\n",
    "from sklearn.ensemble import RandomForestRegressor\n",
    "from sklearn import grid_search\n",
    "import patsy\n",
    "from sklearn.linear_model import SGDRegressor\n",
    "from sklearn.preprocessing import StandardScaler\n",
    "from sklearn.cross_validation import train_test_split\n",
    "%matplotlib inline"
   ]
  },
  {
   "cell_type": "code",
   "execution_count": 2,
   "metadata": {
    "collapsed": false,
    "nbpresent": {
     "id": "4385549c-5ba3-43d8-b6b1-7044348cf87d"
    },
    "scrolled": true
   },
   "outputs": [
    {
     "data": {
      "text/html": [
       "<div>\n",
       "<style>\n",
       "    .dataframe thead tr:only-child th {\n",
       "        text-align: right;\n",
       "    }\n",
       "\n",
       "    .dataframe thead th {\n",
       "        text-align: left;\n",
       "    }\n",
       "\n",
       "    .dataframe tbody tr th {\n",
       "        vertical-align: top;\n",
       "    }\n",
       "</style>\n",
       "<table border=\"1\" class=\"dataframe\">\n",
       "  <thead>\n",
       "    <tr style=\"text-align: right;\">\n",
       "      <th></th>\n",
       "      <th>id</th>\n",
       "      <th>diagnosis</th>\n",
       "      <th>radius_mean</th>\n",
       "      <th>texture_mean</th>\n",
       "      <th>perimeter_mean</th>\n",
       "      <th>area_mean</th>\n",
       "      <th>smoothness_mean</th>\n",
       "      <th>compactness_mean</th>\n",
       "      <th>concavity_mean</th>\n",
       "      <th>concave_points_mean</th>\n",
       "      <th>...</th>\n",
       "      <th>texture_worst</th>\n",
       "      <th>perimeter_worst</th>\n",
       "      <th>area_worst</th>\n",
       "      <th>smoothness_worst</th>\n",
       "      <th>compactness_worst</th>\n",
       "      <th>concavity_worst</th>\n",
       "      <th>concave_points_worst</th>\n",
       "      <th>symmetry_worst</th>\n",
       "      <th>fractal_dimension_worst</th>\n",
       "      <th>Unnamed: 32</th>\n",
       "    </tr>\n",
       "  </thead>\n",
       "  <tbody>\n",
       "    <tr>\n",
       "      <th>0</th>\n",
       "      <td>842302</td>\n",
       "      <td>1</td>\n",
       "      <td>17.99</td>\n",
       "      <td>10.38</td>\n",
       "      <td>122.80</td>\n",
       "      <td>1001.0</td>\n",
       "      <td>0.11840</td>\n",
       "      <td>0.27760</td>\n",
       "      <td>0.3001</td>\n",
       "      <td>0.14710</td>\n",
       "      <td>...</td>\n",
       "      <td>17.33</td>\n",
       "      <td>184.60</td>\n",
       "      <td>2019.0</td>\n",
       "      <td>0.1622</td>\n",
       "      <td>0.6656</td>\n",
       "      <td>0.7119</td>\n",
       "      <td>0.2654</td>\n",
       "      <td>0.4601</td>\n",
       "      <td>0.11890</td>\n",
       "      <td>NaN</td>\n",
       "    </tr>\n",
       "    <tr>\n",
       "      <th>1</th>\n",
       "      <td>842517</td>\n",
       "      <td>1</td>\n",
       "      <td>20.57</td>\n",
       "      <td>17.77</td>\n",
       "      <td>132.90</td>\n",
       "      <td>1326.0</td>\n",
       "      <td>0.08474</td>\n",
       "      <td>0.07864</td>\n",
       "      <td>0.0869</td>\n",
       "      <td>0.07017</td>\n",
       "      <td>...</td>\n",
       "      <td>23.41</td>\n",
       "      <td>158.80</td>\n",
       "      <td>1956.0</td>\n",
       "      <td>0.1238</td>\n",
       "      <td>0.1866</td>\n",
       "      <td>0.2416</td>\n",
       "      <td>0.1860</td>\n",
       "      <td>0.2750</td>\n",
       "      <td>0.08902</td>\n",
       "      <td>NaN</td>\n",
       "    </tr>\n",
       "    <tr>\n",
       "      <th>2</th>\n",
       "      <td>84300903</td>\n",
       "      <td>1</td>\n",
       "      <td>19.69</td>\n",
       "      <td>21.25</td>\n",
       "      <td>130.00</td>\n",
       "      <td>1203.0</td>\n",
       "      <td>0.10960</td>\n",
       "      <td>0.15990</td>\n",
       "      <td>0.1974</td>\n",
       "      <td>0.12790</td>\n",
       "      <td>...</td>\n",
       "      <td>25.53</td>\n",
       "      <td>152.50</td>\n",
       "      <td>1709.0</td>\n",
       "      <td>0.1444</td>\n",
       "      <td>0.4245</td>\n",
       "      <td>0.4504</td>\n",
       "      <td>0.2430</td>\n",
       "      <td>0.3613</td>\n",
       "      <td>0.08758</td>\n",
       "      <td>NaN</td>\n",
       "    </tr>\n",
       "    <tr>\n",
       "      <th>3</th>\n",
       "      <td>84348301</td>\n",
       "      <td>1</td>\n",
       "      <td>11.42</td>\n",
       "      <td>20.38</td>\n",
       "      <td>77.58</td>\n",
       "      <td>386.1</td>\n",
       "      <td>0.14250</td>\n",
       "      <td>0.28390</td>\n",
       "      <td>0.2414</td>\n",
       "      <td>0.10520</td>\n",
       "      <td>...</td>\n",
       "      <td>26.50</td>\n",
       "      <td>98.87</td>\n",
       "      <td>567.7</td>\n",
       "      <td>0.2098</td>\n",
       "      <td>0.8663</td>\n",
       "      <td>0.6869</td>\n",
       "      <td>0.2575</td>\n",
       "      <td>0.6638</td>\n",
       "      <td>0.17300</td>\n",
       "      <td>NaN</td>\n",
       "    </tr>\n",
       "    <tr>\n",
       "      <th>4</th>\n",
       "      <td>84358402</td>\n",
       "      <td>1</td>\n",
       "      <td>20.29</td>\n",
       "      <td>14.34</td>\n",
       "      <td>135.10</td>\n",
       "      <td>1297.0</td>\n",
       "      <td>0.10030</td>\n",
       "      <td>0.13280</td>\n",
       "      <td>0.1980</td>\n",
       "      <td>0.10430</td>\n",
       "      <td>...</td>\n",
       "      <td>16.67</td>\n",
       "      <td>152.20</td>\n",
       "      <td>1575.0</td>\n",
       "      <td>0.1374</td>\n",
       "      <td>0.2050</td>\n",
       "      <td>0.4000</td>\n",
       "      <td>0.1625</td>\n",
       "      <td>0.2364</td>\n",
       "      <td>0.07678</td>\n",
       "      <td>NaN</td>\n",
       "    </tr>\n",
       "  </tbody>\n",
       "</table>\n",
       "<p>5 rows × 33 columns</p>\n",
       "</div>"
      ],
      "text/plain": [
       "         id  diagnosis  radius_mean  texture_mean  perimeter_mean  area_mean  \\\n",
       "0    842302          1        17.99         10.38          122.80     1001.0   \n",
       "1    842517          1        20.57         17.77          132.90     1326.0   \n",
       "2  84300903          1        19.69         21.25          130.00     1203.0   \n",
       "3  84348301          1        11.42         20.38           77.58      386.1   \n",
       "4  84358402          1        20.29         14.34          135.10     1297.0   \n",
       "\n",
       "   smoothness_mean  compactness_mean  concavity_mean  concave_points_mean  \\\n",
       "0          0.11840           0.27760          0.3001              0.14710   \n",
       "1          0.08474           0.07864          0.0869              0.07017   \n",
       "2          0.10960           0.15990          0.1974              0.12790   \n",
       "3          0.14250           0.28390          0.2414              0.10520   \n",
       "4          0.10030           0.13280          0.1980              0.10430   \n",
       "\n",
       "      ...       texture_worst  perimeter_worst  area_worst  smoothness_worst  \\\n",
       "0     ...               17.33           184.60      2019.0            0.1622   \n",
       "1     ...               23.41           158.80      1956.0            0.1238   \n",
       "2     ...               25.53           152.50      1709.0            0.1444   \n",
       "3     ...               26.50            98.87       567.7            0.2098   \n",
       "4     ...               16.67           152.20      1575.0            0.1374   \n",
       "\n",
       "   compactness_worst  concavity_worst  concave_points_worst  symmetry_worst  \\\n",
       "0             0.6656           0.7119                0.2654          0.4601   \n",
       "1             0.1866           0.2416                0.1860          0.2750   \n",
       "2             0.4245           0.4504                0.2430          0.3613   \n",
       "3             0.8663           0.6869                0.2575          0.6638   \n",
       "4             0.2050           0.4000                0.1625          0.2364   \n",
       "\n",
       "   fractal_dimension_worst  Unnamed: 32  \n",
       "0                  0.11890          NaN  \n",
       "1                  0.08902          NaN  \n",
       "2                  0.08758          NaN  \n",
       "3                  0.17300          NaN  \n",
       "4                  0.07678          NaN  \n",
       "\n",
       "[5 rows x 33 columns]"
      ]
     },
     "execution_count": 2,
     "metadata": {},
     "output_type": "execute_result"
    }
   ],
   "source": [
    "df = pd.read_csv('data_breast_cancer.csv')\n",
    "df.rename(columns={'concave points_mean': 'concave_points_mean', 'concave points_se': 'concave_points_se',\n",
    "                'concave points_worst': 'concave_points_worst'}, inplace=True)\n",
    "df.diagnosis.replace(('M', 'B'), (1, 0), inplace=True)\n",
    "df.head()"
   ]
  },
  {
   "cell_type": "code",
   "execution_count": 3,
   "metadata": {
    "collapsed": false,
    "nbpresent": {
     "id": "9125ca41-3df4-4032-96eb-688f17737a28"
    }
   },
   "outputs": [],
   "source": [
    "#This is for feature extraction for Random Forest Feature Extraction\n",
    "col_names = df.columns\n",
    "end_col = col_names[-2]\n",
    "col_names = col_names[2:-2]\n",
    "formula_huge = 'diagnosis ~ '\n",
    "for name in col_names:\n",
    "    formula_huge += name + ' + '\n",
    "formula_huge += end_col\n",
    "\n",
    "y_6, x_6 = patsy.dmatrices(formula_huge, df, return_type='dataframe')\n",
    "y_6 = df['diagnosis']\n",
    "train_x_6, test_x_6, train_y_6, test_y_6 = train_test_split(x_6, y_6, train_size=0.75)"
   ]
  },
  {
   "cell_type": "code",
   "execution_count": 4,
   "metadata": {
    "collapsed": false,
    "nbpresent": {
     "id": "8cac9a1a-584c-43e8-bd79-297ed4653d77"
    }
   },
   "outputs": [
    {
     "name": "stdout",
     "output_type": "stream",
     "text": [
      "Random Forrest results:\n",
      "score of fit: 1.0\n",
      "score of prediction: 0.965034965035\n"
     ]
    }
   ],
   "source": [
    "#Random Forrest (uses train set fot fit and test set for predict) - Feature Selection\n",
    "print \"Random Forrest results:\"\n",
    "rnd_frst_big = RandomForestClassifier(n_estimators = 500)\n",
    "rf_model_big = rnd_frst_big.fit(train_x_6, train_y_6)\n",
    "score_rf_big = rf_model_big.score(train_x_6, train_y_6)\n",
    "rf_pred_big = rf_model_big.predict(test_x_6)\n",
    "score_rf_big_pred = rf_model_big.score(test_x_6, test_y_6)\n",
    "print \"score of fit: \" + str(score_rf_big)\n",
    "print \"score of prediction: \" + str(score_rf_big_pred)"
   ]
  },
  {
   "cell_type": "code",
   "execution_count": 5,
   "metadata": {
    "collapsed": false,
    "nbpresent": {
     "id": "4515df15-feff-42d3-b5bb-3f1edc7283b5"
    },
    "scrolled": true
   },
   "outputs": [
    {
     "name": "stdout",
     "output_type": "stream",
     "text": [
      "Feature Importance:\n"
     ]
    },
    {
     "data": {
      "text/html": [
       "<div>\n",
       "<style>\n",
       "    .dataframe thead tr:only-child th {\n",
       "        text-align: right;\n",
       "    }\n",
       "\n",
       "    .dataframe thead th {\n",
       "        text-align: left;\n",
       "    }\n",
       "\n",
       "    .dataframe tbody tr th {\n",
       "        vertical-align: top;\n",
       "    }\n",
       "</style>\n",
       "<table border=\"1\" class=\"dataframe\">\n",
       "  <thead>\n",
       "    <tr style=\"text-align: right;\">\n",
       "      <th></th>\n",
       "      <th>Features_set_6</th>\n",
       "      <th>rf_big_Importance Score</th>\n",
       "    </tr>\n",
       "  </thead>\n",
       "  <tbody>\n",
       "    <tr>\n",
       "      <th>28</th>\n",
       "      <td>concave_points_worst_rf_big</td>\n",
       "      <td>0.121356</td>\n",
       "    </tr>\n",
       "    <tr>\n",
       "      <th>23</th>\n",
       "      <td>perimeter_worst_rf_big</td>\n",
       "      <td>0.120285</td>\n",
       "    </tr>\n",
       "    <tr>\n",
       "      <th>21</th>\n",
       "      <td>radius_worst_rf_big</td>\n",
       "      <td>0.116563</td>\n",
       "    </tr>\n",
       "    <tr>\n",
       "      <th>24</th>\n",
       "      <td>area_worst_rf_big</td>\n",
       "      <td>0.111327</td>\n",
       "    </tr>\n",
       "    <tr>\n",
       "      <th>8</th>\n",
       "      <td>concave_points_mean_rf_big</td>\n",
       "      <td>0.093195</td>\n",
       "    </tr>\n",
       "  </tbody>\n",
       "</table>\n",
       "</div>"
      ],
      "text/plain": [
       "                 Features_set_6  rf_big_Importance Score\n",
       "28  concave_points_worst_rf_big                 0.121356\n",
       "23       perimeter_worst_rf_big                 0.120285\n",
       "21          radius_worst_rf_big                 0.116563\n",
       "24            area_worst_rf_big                 0.111327\n",
       "8    concave_points_mean_rf_big                 0.093195"
      ]
     },
     "execution_count": 5,
     "metadata": {},
     "output_type": "execute_result"
    }
   ],
   "source": [
    "#Feature importance random forest\n",
    "rf_cols_big = []\n",
    "for col in x_6.columns:\n",
    "    rf_cols_big.append(col + '_rf_big')\n",
    "#rf_cols = rf_cols[1:]\n",
    "\n",
    "rf_big_feature_importances = rf_model_big.feature_importances_\n",
    "features_df_big = pd.DataFrame({'Features_set_6': rf_cols_big, 'rf_big_Importance Score': rf_big_feature_importances})\n",
    "features_df_big.sort_values('rf_big_Importance Score', inplace=True, ascending=False)\n",
    "print \"Feature Importance:\"\n",
    "features_df_big.head()"
   ]
  },
  {
   "cell_type": "code",
   "execution_count": 6,
   "metadata": {
    "collapsed": false,
    "nbpresent": {
     "id": "9b941ca0-1147-4e2a-96e5-f11779c1cfa8"
    }
   },
   "outputs": [
    {
     "name": "stderr",
     "output_type": "stream",
     "text": [
      "C:\\Users\\danke_000\\Anaconda3\\envs\\py2\\lib\\site-packages\\ipykernel\\__main__.py:33: SettingWithCopyWarning: \n",
      "A value is trying to be set on a copy of a slice from a DataFrame.\n",
      "Try using .loc[row_indexer,col_indexer] = value instead\n",
      "\n",
      "See the caveats in the documentation: http://pandas.pydata.org/pandas-docs/stable/indexing.html#indexing-view-versus-copy\n",
      "C:\\Users\\danke_000\\Anaconda3\\envs\\py2\\lib\\site-packages\\pandas\\core\\frame.py:2454: SettingWithCopyWarning: \n",
      "A value is trying to be set on a copy of a slice from a DataFrame\n",
      "\n",
      "See the caveats in the documentation: http://pandas.pydata.org/pandas-docs/stable/indexing.html#indexing-view-versus-copy\n",
      "  self.loc._setitem_with_indexer((slice(None), indexer), value)\n",
      "C:\\Users\\danke_000\\Anaconda3\\envs\\py2\\lib\\site-packages\\pandas\\core\\frame.py:2424: SettingWithCopyWarning: \n",
      "A value is trying to be set on a copy of a slice from a DataFrame\n",
      "\n",
      "See the caveats in the documentation: http://pandas.pydata.org/pandas-docs/stable/indexing.html#indexing-view-versus-copy\n",
      "  self._setitem_array(key, value)\n",
      "C:\\Users\\danke_000\\Anaconda3\\envs\\py2\\lib\\site-packages\\ipykernel\\__main__.py:35: SettingWithCopyWarning: \n",
      "A value is trying to be set on a copy of a slice from a DataFrame.\n",
      "Try using .loc[row_indexer,col_indexer] = value instead\n",
      "\n",
      "See the caveats in the documentation: http://pandas.pydata.org/pandas-docs/stable/indexing.html#indexing-view-versus-copy\n",
      "C:\\Users\\danke_000\\Anaconda3\\envs\\py2\\lib\\site-packages\\ipykernel\\__main__.py:48: SettingWithCopyWarning: \n",
      "A value is trying to be set on a copy of a slice from a DataFrame.\n",
      "Try using .loc[row_indexer,col_indexer] = value instead\n",
      "\n",
      "See the caveats in the documentation: http://pandas.pydata.org/pandas-docs/stable/indexing.html#indexing-view-versus-copy\n",
      "C:\\Users\\danke_000\\Anaconda3\\envs\\py2\\lib\\site-packages\\ipykernel\\__main__.py:50: SettingWithCopyWarning: \n",
      "A value is trying to be set on a copy of a slice from a DataFrame.\n",
      "Try using .loc[row_indexer,col_indexer] = value instead\n",
      "\n",
      "See the caveats in the documentation: http://pandas.pydata.org/pandas-docs/stable/indexing.html#indexing-view-versus-copy\n",
      "C:\\Users\\danke_000\\Anaconda3\\envs\\py2\\lib\\site-packages\\ipykernel\\__main__.py:63: SettingWithCopyWarning: \n",
      "A value is trying to be set on a copy of a slice from a DataFrame.\n",
      "Try using .loc[row_indexer,col_indexer] = value instead\n",
      "\n",
      "See the caveats in the documentation: http://pandas.pydata.org/pandas-docs/stable/indexing.html#indexing-view-versus-copy\n",
      "C:\\Users\\danke_000\\Anaconda3\\envs\\py2\\lib\\site-packages\\ipykernel\\__main__.py:65: SettingWithCopyWarning: \n",
      "A value is trying to be set on a copy of a slice from a DataFrame.\n",
      "Try using .loc[row_indexer,col_indexer] = value instead\n",
      "\n",
      "See the caveats in the documentation: http://pandas.pydata.org/pandas-docs/stable/indexing.html#indexing-view-versus-copy\n"
     ]
    }
   ],
   "source": [
    "#Create verious patsy formulas and set up some train/test sets based 1 from the feature selection phase,\n",
    "# 1 chosen at random, and one set the authors found to work well.\n",
    "\n",
    "\n",
    "#Feature set 1 - These are the top 5 from the random forrest that was run on the entire feature set\n",
    "formula_1 = 'diagnosis ~ perimeter_worst + concave_points_mean + concave_points_worst + area_worst + radius_worst'\n",
    "y_1, x_1 = patsy.dmatrices(formula_1, df, return_type='dataframe')\n",
    "y_1 = y_1.values.ravel()\n",
    "train_x_1, test_x_1, train_y_1, test_y_1 = train_test_split(x_1, y_1, train_size=0.75)\n",
    "\n",
    "#Feature set 2 - Chosen at random \n",
    "formula_2 = 'diagnosis ~ radius_mean + texture_mean + perimeter_mean'\n",
    "y_2, x_2 = patsy.dmatrices(formula_2, df, return_type='dataframe')\n",
    "y_2 = y_2.values.ravel()\n",
    "train_x_2, test_x_2, train_y_2, test_y_2 = train_test_split(x_2, y_2, train_size=0.75)\n",
    "\n",
    "#Feature set 3 - This is the feature combination found by the authors to work the best\n",
    "formula_gold = 'diagnosis ~ area_worst + smoothness_worst + texture_mean'\n",
    "y_3, x_3 = patsy.dmatrices(formula_gold, df, return_type='dataframe')\n",
    "y_3 = df['diagnosis']\n",
    "train_x_3, test_x_3, train_y_3, test_y_3 = train_test_split(x_3, y_3, train_size=0.75)\n",
    "\n",
    "#--------------------------------------------------------------------------------------------#\n",
    "#Feature set 1 - These are the top 5 from the random forrest that was run on the entire feature set\n",
    "#Features need to be scaled for logistic regression. Below are the same 3 feature sets but scalled prior to splitting.\n",
    "ss = StandardScaler()\n",
    "#Create temp df to hold target values\n",
    "df_y_temp = df['diagnosis']\n",
    "#Created a dataframe for the patsy. First it only has the features, which will be scaled.\n",
    "col_list_x1_ss = ['perimeter_worst','concave_points_mean', 'concave_points_worst', 'area_worst', 'radius_worst']\n",
    "df_ss_set_1 = df[col_list_x1_ss]\n",
    "#Scaling performed at the dataframe level. Numpy, scikit, and pandas all trying to work together\n",
    "df_ss_set_1[col_list_x1_ss] = ss.fit_transform(df_ss_set_1[col_list_x1_ss])\n",
    "#add the target variables to the dataframe for the patsy.\n",
    "df_ss_set_1['diagnosis'] = df_y_temp\n",
    "formula_1 = 'diagnosis ~ perimeter_worst + concave_points_mean + concave_points_worst + area_worst + radius_worst'\n",
    "y_1_ss, x_1_ss = patsy.dmatrices(formula_1, df_ss_set_1, return_type='dataframe')\n",
    "y_1_ss = y_1_ss.values.ravel()\n",
    "train_x_1_ss, test_x_1_ss, train_y_1_ss, test_y_1_ss = train_test_split(x_1_ss, y_1_ss, train_size=0.75)\n",
    "\n",
    "\n",
    "#Feature set 2 - Chosen at random \n",
    "#Create temp df to hold target values\n",
    "df_y_temp = df['diagnosis']\n",
    "col_list_x2_ss = ['radius_mean', 'texture_mean', 'perimeter_mean']\n",
    "df_ss_set_2 = df[col_list_x2_ss]\n",
    "#Scaling performed at the dataframe level. Numpy, scikit, and pandas all trying to work together\n",
    "df_ss_set_2[col_list_x2_ss] = ss.fit_transform(df_ss_set_2[col_list_x2_ss])\n",
    "#add the target variables to the dataframe for the patsy.\n",
    "df_ss_set_2['diagnosis'] = df_y_temp\n",
    "formula_2 = 'diagnosis ~ radius_mean + texture_mean + perimeter_mean'\n",
    "y_2_ss, x_2_ss = patsy.dmatrices(formula_2, df_ss_set_2, return_type='dataframe')\n",
    "y_2_ss = y_2_ss.values.ravel()\n",
    "train_x_2_ss, test_x_2_ss, train_y_2_ss, test_y_2_ss = train_test_split(x_2_ss, y_2_ss, train_size=0.75)\n",
    "\n",
    "\n",
    "#Feature set 3 - This is the feature combination found by the authors to work the best\n",
    "#Create temp df to hold target values\n",
    "df_y_temp = df['diagnosis']\n",
    "col_list_x3_ss = ['area_worst', 'smoothness_worst', 'texture_mean']\n",
    "df_ss_set_3 = df[col_list_x3_ss]\n",
    "#Scaling performed at the dataframe level. Numpy, scikit, and pandas all trying to work together\n",
    "df_ss_set_3[col_list_x3_ss] = ss.fit_transform(df_ss_set_3[col_list_x3_ss])\n",
    "#add the target variables to the dataframe for the patsy.\n",
    "df_ss_set_3['diagnosis'] = df_y_temp\n",
    "formula_gold = 'diagnosis ~ area_worst + smoothness_worst + texture_mean'\n",
    "y_3_ss, x_3_ss = patsy.dmatrices(formula_gold, df_ss_set_3, return_type='dataframe')\n",
    "y_3_ss = y_3_ss.values.ravel()\n",
    "train_x_3_ss, test_x_3_ss, train_y_3_ss, test_y_3_ss = train_test_split(x_3_ss, y_3_ss, train_size=0.75)\n"
   ]
  },
  {
   "cell_type": "code",
   "execution_count": 7,
   "metadata": {
    "collapsed": false,
    "nbpresent": {
     "id": "251ba40a-83b6-484f-b7ef-2fc079e427e9"
    },
    "scrolled": true
   },
   "outputs": [
    {
     "data": {
      "image/png": "[encoded data removed]",
      "text/plain": [
       "<matplotlib.figure.Figure at 0xef642e8>"
      ]
     },
     "metadata": {},
     "output_type": "display_data"
    }
   ],
   "source": [
    "#Histograms, boxplots, amd violin plots: Feature set 1\n",
    "fig = plt.figure()\n",
    "fig.set_figheight(15)\n",
    "fig.set_figwidth(13)\n",
    "ax1 = fig.add_subplot(5,3,1)\n",
    "_ = ax1.hist(df['perimeter_worst'], bins=50)\n",
    "ax1.set_title('Feature Set 1: perimeter_worst')\n",
    "\n",
    "ax2 = fig.add_subplot(5,3,2)\n",
    "_ = ax2.boxplot(df['perimeter_worst'])\n",
    "ax2.set_title('Feature Set 1: perimeter_worst')\n",
    "\n",
    "ax3 = fig.add_subplot(5,3,3)\n",
    "_ = ax3.violinplot(df['perimeter_worst'], showmeans=False, showmedians=True)\n",
    "ax3.set_title('Feature Set 1: perimeter_worst')\n",
    "\n",
    "ax4 = fig.add_subplot(5,3,4)\n",
    "_ = ax4.hist(df['concave_points_mean'], bins=50)\n",
    "ax4.set_title('Feature Set 1: concave_points_mean')\n",
    "\n",
    "ax5 = fig.add_subplot(5,3,5)\n",
    "_ = ax5.boxplot(df['concave_points_mean'])\n",
    "ax5.set_title('Feature Set 1: concave_points_mean')\n",
    "\n",
    "ax6 = fig.add_subplot(5,3,6)\n",
    "_ = ax6.violinplot(df['concave_points_mean'], showmeans=False, showmedians=True)\n",
    "ax6.set_title('Feature Set 1: concave_points_mean')\n",
    "\n",
    "ax7 = fig.add_subplot(5,3,7)\n",
    "_ = ax7.hist(df['concave_points_worst'], bins=50)\n",
    "ax7.set_title('Feature Set 1: concave_points_worst')\n",
    "\n",
    "ax8 = fig.add_subplot(5,3,8)\n",
    "_ = ax8.boxplot(df['concave_points_worst'])\n",
    "ax8.set_title('Feature Set 1: concave_points_worst')\n",
    "\n",
    "ax9 = fig.add_subplot(5,3,9)\n",
    "_ = ax9.violinplot(df['concave_points_worst'], showmeans=False, showmedians=True)\n",
    "ax9.set_title('Feature Set 1: concave_points_worst')\n",
    "\n",
    "ax10 = fig.add_subplot(5,3,10)\n",
    "_ = ax10.hist(df['area_worst'], bins=50)\n",
    "ax10.set_title('Feature Set 1: area_worst')\n",
    "\n",
    "ax11 = fig.add_subplot(5,3,11)\n",
    "_ = ax11.boxplot(df['area_worst'])\n",
    "ax11.set_title('Feature Set 1: area_worst')\n",
    "\n",
    "ax12 = fig.add_subplot(5,3,12)\n",
    "_ = ax12.violinplot(df['area_worst'], showmeans=False, showmedians=True)\n",
    "ax12.set_title('Feature Set 1: area_worst')\n",
    "\n",
    "ax13 = fig.add_subplot(5,3,13)\n",
    "_ = ax13.hist(df['radius_worst'], bins=50)\n",
    "ax13.set_title('Feature Set 1: radius_worst')\n",
    "\n",
    "ax14 = fig.add_subplot(5,3,14)\n",
    "_ = ax14.boxplot(df['radius_worst'])\n",
    "ax14.set_title('Feature Set 1: radius_worst')\n",
    "\n",
    "ax15 = fig.add_subplot(5,3,15)\n",
    "_ = ax15.boxplot(df['radius_worst'])\n",
    "ax15.set_title('Feature Set 1: radius_worst')\n",
    "\n",
    "plt.tight_layout()"
   ]
  },
  {
   "cell_type": "code",
   "execution_count": 8,
   "metadata": {
    "collapsed": false,
    "nbpresent": {
     "id": "767e0a94-890b-4646-bad8-2bc6f8f3451f"
    },
    "scrolled": false
   },
   "outputs": [
    {
     "data": {
      "image/png": "[encoded data removed]",
      "text/plain": [
       "<matplotlib.figure.Figure at 0xe49d2b0>"
      ]
     },
     "metadata": {},
     "output_type": "display_data"
    }
   ],
   "source": [
    "#Histograms, boxplots, amd violin plots: Feature set 1 (scaled for logit)\n",
    "fig = plt.figure()\n",
    "fig.set_figheight(15)\n",
    "fig.set_figwidth(13)\n",
    "ax1 = fig.add_subplot(5,3,1)\n",
    "_ = ax1.hist(df_ss_set_1['perimeter_worst'], bins=50)\n",
    "ax1.set_title('Feature Set 1 (scaled for logit): perimeter_worst')\n",
    "\n",
    "ax2 = fig.add_subplot(5,3,2)\n",
    "_ = ax2.boxplot(df_ss_set_1['perimeter_worst'])\n",
    "ax2.set_title('Feature Set 1 (scaled for logit): perimeter_worst')\n",
    "\n",
    "ax3 = fig.add_subplot(5,3,3)\n",
    "_ = ax3.violinplot(df_ss_set_1['perimeter_worst'], showmeans=False, showmedians=True)\n",
    "ax3.set_title('Feature Set 1 (scaled for logit): perimeter_worst')\n",
    "\n",
    "ax4 = fig.add_subplot(5,3,4)\n",
    "_ = ax4.hist(df_ss_set_1['concave_points_mean'], bins=50)\n",
    "ax4.set_title('Feature Set 1 (scaled for logit): concave_points_mean')\n",
    "\n",
    "ax5 = fig.add_subplot(5,3,5)\n",
    "_ = ax5.boxplot(df_ss_set_1['concave_points_mean'])\n",
    "ax5.set_title('Feature Set 1 (scaled for logit): concave_points_mean')\n",
    "\n",
    "ax6 = fig.add_subplot(5,3,6)\n",
    "_ = ax6.violinplot(df_ss_set_1['concave_points_mean'], showmeans=False, showmedians=True)\n",
    "ax6.set_title('Feature Set 1 (scaled for logit): concave_points_mean')\n",
    "\n",
    "ax7 = fig.add_subplot(5,3,7)\n",
    "_ = ax7.hist(df_ss_set_1['concave_points_worst'], bins=50)\n",
    "ax7.set_title('Feature Set 1 (scaled for logit): concave_points_worst')\n",
    "\n",
    "ax8 = fig.add_subplot(5,3,8)\n",
    "_ = ax8.boxplot(df_ss_set_1['concave_points_worst'])\n",
    "ax8.set_title('Feature Set 1 (scaled for logit): concave_points_worst')\n",
    "\n",
    "ax9 = fig.add_subplot(5,3,9)\n",
    "_ = ax9.violinplot(df_ss_set_1['concave_points_worst'], showmeans=False, showmedians=True)\n",
    "ax9.set_title('Feature Set 1 (scaled for logit): concave_points_worst')\n",
    "\n",
    "ax10 = fig.add_subplot(5,3,10)\n",
    "_ = ax10.hist(df_ss_set_1['area_worst'], bins=50)\n",
    "ax10.set_title('Feature Set 1 (scaled for logit): area_worst')\n",
    "\n",
    "ax11 = fig.add_subplot(5,3,11)\n",
    "_ = ax11.boxplot(df_ss_set_1['area_worst'])\n",
    "ax11.set_title('Feature Set 1 (scaled for logit): area_worst')\n",
    "\n",
    "ax12 = fig.add_subplot(5,3,12)\n",
    "_ = ax12.violinplot(df_ss_set_1['area_worst'], showmeans=False, showmedians=True)\n",
    "ax12.set_title('Feature Set 1 (scaled for logit): area_worst')\n",
    "\n",
    "ax13 = fig.add_subplot(5,3,13)\n",
    "_ = ax13.hist(df_ss_set_1['radius_worst'], bins=50)\n",
    "ax13.set_title('Feature Set 1 (scaled for logit): radius_worst')\n",
    "\n",
    "ax14 = fig.add_subplot(5,3,14)\n",
    "_ = ax14.boxplot(df_ss_set_1['radius_worst'])\n",
    "ax14.set_title('Feature Set 1 (scaled for logit): radius_worst')\n",
    "\n",
    "ax15 = fig.add_subplot(5,3,15)\n",
    "_ = ax15.boxplot(df_ss_set_1['radius_worst'])\n",
    "ax15.set_title('Feature Set 1 (scaled for logit): radius_worst')\n",
    "\n",
    "plt.tight_layout()"
   ]
  },
  {
   "cell_type": "code",
   "execution_count": 9,
   "metadata": {
    "collapsed": false,
    "nbpresent": {
     "id": "07c4b0c3-3f9e-43c5-b38e-da726d31fb42"
    },
    "scrolled": false
   },
   "outputs": [
    {
     "data": {
      "image/png": "[encoded data removed]",
      "text/plain": [
       "<matplotlib.figure.Figure at 0xe7896a0>"
      ]
     },
     "metadata": {},
     "output_type": "display_data"
    }
   ],
   "source": [
    "#Histograms, boxplots, amd violin plots: Feature set 2\n",
    "fig = plt.figure()\n",
    "fig.set_figheight(10)\n",
    "fig.set_figwidth(15)\n",
    "ax1 = fig.add_subplot(3,3,1)\n",
    "_ = ax1.hist(df['radius_mean'], bins=50)\n",
    "ax1.set_title('Feature Set 2: radius_mean')\n",
    "\n",
    "ax2 = fig.add_subplot(3,3,2)\n",
    "_ = ax2.boxplot(df['radius_mean'])\n",
    "ax2.set_title('Feature Set 2: radius_mean')\n",
    "\n",
    "ax3 = fig.add_subplot(3,3,3)\n",
    "_ = ax3.violinplot(df['radius_mean'], showmeans=False, showmedians=True)\n",
    "ax3.set_title('Feature Set 2: radius_mean')\n",
    "\n",
    "ax4 = fig.add_subplot(3,3,4)\n",
    "_ = ax4.hist(df['texture_mean'], bins=50)\n",
    "ax4.set_title('Feature Set 2: texture_mean')\n",
    "\n",
    "ax5 = fig.add_subplot(3,3,5)\n",
    "_ = ax5.boxplot(df['texture_mean'])\n",
    "ax5.set_title('Feature Set 2: texture_mean')\n",
    "\n",
    "ax6 = fig.add_subplot(3,3,6)\n",
    "_ = ax6.violinplot(df['texture_mean'], showmeans=False, showmedians=True)\n",
    "ax6.set_title('Feature Set 2: texture_mean')\n",
    "\n",
    "ax7 = fig.add_subplot(3,3,7)\n",
    "_ = ax7.hist(df['perimeter_mean'], bins=50)\n",
    "ax7.set_title('Feature Set 2: perimeter_mean')\n",
    "\n",
    "ax8 = fig.add_subplot(3,3,8)\n",
    "_ = ax8.boxplot(df['perimeter_mean'])\n",
    "ax8.set_title('Feature Set 2: perimeter_mean')\n",
    "\n",
    "ax9 = fig.add_subplot(3,3,9)\n",
    "_ = ax9.violinplot(df['perimeter_mean'], showmeans=False, showmedians=True)\n",
    "ax9.set_title('Feature Set 2: perimeter_mean')\n",
    "\n",
    "plt.tight_layout()\n"
   ]
  },
  {
   "cell_type": "code",
   "execution_count": 10,
   "metadata": {
    "collapsed": false,
    "nbpresent": {
     "id": "67691112-991f-4926-92a1-4c375507f93b"
    }
   },
   "outputs": [
    {
     "data": {
      "image/png": "[encoded data removed]",
      "text/plain": [
       "<matplotlib.figure.Figure at 0xe789e80>"
      ]
     },
     "metadata": {},
     "output_type": "display_data"
    }
   ],
   "source": [
    "#Histograms, boxplots, amd violin plots: Feature set 2 (scaled for logit)\n",
    "fig = plt.figure()\n",
    "fig.set_figheight(10)\n",
    "fig.set_figwidth(15)\n",
    "ax1 = fig.add_subplot(3,3,1)\n",
    "_ = ax1.hist(df_ss_set_2['radius_mean'], bins=50)\n",
    "ax1.set_title('Feature Set 2 (scaled for logit): radius_mean')\n",
    "\n",
    "ax2 = fig.add_subplot(3,3,2)\n",
    "_ = ax2.boxplot(df_ss_set_2['radius_mean'])\n",
    "ax2.set_title('Feature Set 2 (scaled for logit): radius_mean')\n",
    "\n",
    "ax3 = fig.add_subplot(3,3,3)\n",
    "_ = ax3.violinplot(df_ss_set_2['radius_mean'], showmeans=False, showmedians=True)\n",
    "ax3.set_title('Feature Set 2 (scaled for logit): radius_mean')\n",
    "\n",
    "ax4 = fig.add_subplot(3,3,4)\n",
    "_ = ax4.hist(df_ss_set_2['texture_mean'], bins=50)\n",
    "ax4.set_title('Feature Set 2 (scaled for logit): texture_mean')\n",
    "\n",
    "ax5 = fig.add_subplot(3,3,5)\n",
    "_ = ax5.boxplot(df_ss_set_2['texture_mean'])\n",
    "ax5.set_title('Feature Set 2 (scaled for logit): texture_mean')\n",
    "\n",
    "ax6 = fig.add_subplot(3,3,6)\n",
    "_ = ax6.violinplot(df_ss_set_2['texture_mean'], showmeans=False, showmedians=True)\n",
    "ax6.set_title('Feature Set 2 (scaled for logit): texture_mean')\n",
    "\n",
    "ax7 = fig.add_subplot(3,3,7)\n",
    "_ = ax7.hist(df_ss_set_2['perimeter_mean'], bins=50)\n",
    "ax7.set_title('Feature Set 2 (scaled for logit): perimeter_mean')\n",
    "\n",
    "ax8 = fig.add_subplot(3,3,8)\n",
    "_ = ax8.boxplot(df_ss_set_2['perimeter_mean'])\n",
    "ax8.set_title('Feature Set 2 (scaled for logit): perimeter_mean')\n",
    "\n",
    "ax9 = fig.add_subplot(3,3,9)\n",
    "_ = ax9.violinplot(df_ss_set_2['perimeter_mean'], showmeans=False, showmedians=True)\n",
    "ax9.set_title('Feature Set 2 (scaled for logit): perimeter_mean')\n",
    "\n",
    "plt.tight_layout()\n"
   ]
  },
  {
   "cell_type": "code",
   "execution_count": 11,
   "metadata": {
    "collapsed": false,
    "nbpresent": {
     "id": "07f1f715-3f8b-4cd5-a772-e0cffe4e77d2"
    },
    "scrolled": false
   },
   "outputs": [
    {
     "data": {
      "image/png": "[encoded data removed]",
      "text/plain": [
       "<matplotlib.figure.Figure at 0x1033a5c0>"
      ]
     },
     "metadata": {},
     "output_type": "display_data"
    }
   ],
   "source": [
    "#Histograms, boxplots, amd violin plots: Feature set 3\n",
    "fig = plt.figure()\n",
    "fig.set_figheight(10)\n",
    "fig.set_figwidth(15)\n",
    "ax1 = fig.add_subplot(3,3,1)\n",
    "_ = ax1.hist(df['area_worst'], bins=50)\n",
    "ax1.set_title('Feature Set 3: area_worst')\n",
    "\n",
    "ax2 = fig.add_subplot(3,3,2)\n",
    "_ = ax2.boxplot(df['area_worst'])\n",
    "ax2.set_title('Feature Set 3: area_worst')\n",
    "\n",
    "ax3 = fig.add_subplot(3,3,3)\n",
    "_ = ax3.violinplot(df['area_worst'], showmeans=False, showmedians=True)\n",
    "ax3.set_title('Feature Set 3: area_worst')\n",
    "\n",
    "ax4 = fig.add_subplot(3,3,4)\n",
    "_ = ax4.hist(df['smoothness_worst'], bins=50)\n",
    "ax4.set_title('Feature Set 3: smoothness_worst')\n",
    "\n",
    "ax5 = fig.add_subplot(3,3,5)\n",
    "_ = ax5.boxplot(df['smoothness_worst'])\n",
    "ax5.set_title('Feature Set 3: smoothness_worst')\n",
    "\n",
    "ax6 = fig.add_subplot(3,3,6)\n",
    "_ = ax6.violinplot(df['smoothness_worst'], showmeans=False, showmedians=True)\n",
    "ax6.set_title('Feature Set 3: smoothness_worst')\n",
    "\n",
    "ax7 = fig.add_subplot(3,3,7)\n",
    "_ = ax7.hist(df['texture_mean'], bins=50)\n",
    "ax7.set_title('Feature Set 3: texture_mean')\n",
    "\n",
    "ax8 = fig.add_subplot(3,3,8)\n",
    "_ = ax8.boxplot(df['texture_mean'])\n",
    "ax8.set_title('Feature Set 3: texture_mean')\n",
    "\n",
    "ax9 = fig.add_subplot(3,3,9)\n",
    "_ = ax9.violinplot(df['texture_mean'], showmeans=False, showmedians=True)\n",
    "ax9.set_title('Feature Set 3: texture_mean')\n",
    "\n",
    "plt.tight_layout()"
   ]
  },
  {
   "cell_type": "code",
   "execution_count": 12,
   "metadata": {
    "collapsed": false,
    "nbpresent": {
     "id": "dc8f4c44-42d1-4694-a03e-8e62a62f7ae1"
    }
   },
   "outputs": [
    {
     "data": {
      "image/png": "[encoded data removed]",
      "text/plain": [
       "<matplotlib.figure.Figure at 0x14853ba8>"
      ]
     },
     "metadata": {},
     "output_type": "display_data"
    }
   ],
   "source": [
    "#Histograms, boxplots, amd violin plots: Feature set 3 (scaled for logit)\n",
    "fig = plt.figure()\n",
    "fig.set_figheight(10)\n",
    "fig.set_figwidth(15)\n",
    "ax1 = fig.add_subplot(3,3,1)\n",
    "_ = ax1.hist(df_ss_set_3['area_worst'], bins=50)\n",
    "ax1.set_title('Feature Set 3 (scaled for logit): area_worst')\n",
    "\n",
    "ax2 = fig.add_subplot(3,3,2)\n",
    "_ = ax2.boxplot(df_ss_set_3['area_worst'])\n",
    "ax2.set_title('Feature Set 3 (scaled for logit): area_worst')\n",
    "\n",
    "ax3 = fig.add_subplot(3,3,3)\n",
    "_ = ax3.violinplot(df_ss_set_3['area_worst'], showmeans=False, showmedians=True)\n",
    "ax3.set_title('Feature Set 3 (scaled for logit): area_worst')\n",
    "\n",
    "ax4 = fig.add_subplot(3,3,4)\n",
    "_ = ax4.hist(df_ss_set_3['smoothness_worst'], bins=50)\n",
    "ax4.set_title('Feature Set 3 (scaled for logit): smoothness_worst')\n",
    "\n",
    "ax5 = fig.add_subplot(3,3,5)\n",
    "_ = ax5.boxplot(df_ss_set_3['smoothness_worst'])\n",
    "ax5.set_title('Feature Set 3 (scaled for logit): smoothness_worst')\n",
    "\n",
    "ax6 = fig.add_subplot(3,3,6)\n",
    "_ = ax6.violinplot(df_ss_set_3['smoothness_worst'], showmeans=False, showmedians=True)\n",
    "ax6.set_title('Feature Set 3 (scaled for logit): smoothness_worst')\n",
    "\n",
    "ax7 = fig.add_subplot(3,3,7)\n",
    "_ = ax7.hist(df_ss_set_3['texture_mean'], bins=50)\n",
    "ax7.set_title('Feature Set 3 (scaled for logit): texture_mean')\n",
    "\n",
    "ax8 = fig.add_subplot(3,3,8)\n",
    "_ = ax8.boxplot(df_ss_set_3['texture_mean'])\n",
    "ax8.set_title('Feature Set 3 (scaled for logit): texture_mean')\n",
    "\n",
    "ax9 = fig.add_subplot(3,3,9)\n",
    "_ = ax9.violinplot(df_ss_set_3['texture_mean'], showmeans=False, showmedians=True)\n",
    "ax9.set_title('Feature Set 3 (scaled for logit): texture_mean')\n",
    "\n",
    "plt.tight_layout()"
   ]
  },
  {
   "cell_type": "code",
   "execution_count": 13,
   "metadata": {
    "collapsed": false,
    "nbpresent": {
     "id": "aaf19f7a-7dca-4826-8500-fac96dd6fb35"
    }
   },
   "outputs": [],
   "source": [
    "#This function runs a grid search. The function parameters are the algorithm, features, target, and hyperparameters.\n",
    "def explore_model(params, model, X, y):\n",
    "    gs = grid_search.GridSearchCV(\n",
    "        estimator=model,\n",
    "        cv=5,\n",
    "        param_grid=params,\n",
    "        scoring='roc_auc',\n",
    "        )\n",
    "    gs.fit(X,y)\n",
    "    return gs"
   ]
  },
  {
   "cell_type": "code",
   "execution_count": 14,
   "metadata": {
    "collapsed": false,
    "nbpresent": {
     "id": "20b08124-4bd4-4ab3-9a25-b4382733d8f2"
    }
   },
   "outputs": [],
   "source": [
    "#These functions run the model fit, model prediction, and cross-validaiton check.\n",
    "#Functions used in order to reduce typing and errors.\n",
    "\n",
    "#Using the training data, score the model fit\n",
    "def func_model_fit(model, x_train, y_train):\n",
    "    model_fit = model.fit(x_train, y_train)\n",
    "    fit_score = model_fit.score(x_train, y_train)\n",
    "    return fit_score\n",
    "\n",
    "#Using the training and test data, score the prediction\n",
    "def func_model_pred(model, x_train, y_train, x_test, y_test):\n",
    "    model_fit = model.fit(x_train, y_train)\n",
    "    model_pred = model_fit.predict(x_test)\n",
    "    pred_score = model_fit.score(x_test, y_test)\n",
    "    return pred_score\n",
    "\n",
    "#Using the training data and full set of data, run a cross validation    \n",
    "def func_cv_check(model, x_train, y_train, x_full, y_full):\n",
    "    model_fit = model.fit(x_train, y_train)\n",
    "    mod_scores = cross_val_score(model_fit, x_full, y_full, scoring='roc_auc', cv=5)\n",
    "    return mod_scores\n"
   ]
  },
  {
   "cell_type": "markdown",
   "metadata": {
    "nbpresent": {
     "id": "4ab80aa2-750e-4cfd-b6da-9d48ec86e5f1"
    }
   },
   "source": [
    "Run a logistic regression, knn, and random forrest, with the hope of demonstrating the best algorithm. For each algorithm, 1) run a grid search 2) run fit, predict, and cross validaiton on the algorithm with the hyperparameters determined from the grid search, 3) classification report 4) feature importance evaluation. "
   ]
  },
  {
   "cell_type": "code",
   "execution_count": 15,
   "metadata": {
    "collapsed": true,
    "nbpresent": {
     "id": "e316842a-e159-4882-aefb-0f09d816666f"
    }
   },
   "outputs": [],
   "source": [
    "#Logistic Regression Model Exploration\n",
    "lr_model_gs = LogisticRegression()\n",
    "lr_params = {\"C\":[0.1, 0.2, 0.4], 'penalty':['l1','l2']} "
   ]
  },
  {
   "cell_type": "code",
   "execution_count": 16,
   "metadata": {
    "collapsed": false,
    "nbpresent": {
     "id": "466e8f42-4128-4807-adf1-c71d228d2e93"
    }
   },
   "outputs": [
    {
     "name": "stdout",
     "output_type": "stream",
     "text": [
      "Logistic Regression Model Exploration\n",
      "best gs score:\n",
      "0.988342601076\n",
      "\n",
      "best gs params:\n",
      "{'penalty': 'l1', 'C': 0.4}\n"
     ]
    }
   ],
   "source": [
    "#Feature Set 1\n",
    "#Logistic Regression Model Exploration for feature set 1\n",
    "logit_explore_1 = explore_model(lr_params, lr_model_gs, x_1_ss, y_1_ss)\n",
    "\n",
    "print \"Logistic Regression Model Exploration\"\n",
    "print \"best gs score:\"\n",
    "print logit_explore_1.best_score_\n",
    "print \"\"\n",
    "print \"best gs params:\"\n",
    "print logit_explore_1.best_params_\n"
   ]
  },
  {
   "cell_type": "code",
   "execution_count": 17,
   "metadata": {
    "collapsed": false,
    "nbpresent": {
     "id": "490e5cd1-1c63-4bdc-bec7-e20570cbde95"
    }
   },
   "outputs": [
    {
     "name": "stdout",
     "output_type": "stream",
     "text": [
      "Logistic Regression Model Exploration\n",
      "best gs score:\n",
      "0.962207565086\n",
      "\n",
      "best gs params:\n",
      "{'penalty': 'l1', 'C': 0.1}\n"
     ]
    }
   ],
   "source": [
    "#Logistic Regression Model Exploration for feature set 2\n",
    "logit_explore_2 = explore_model(lr_params, lr_model_gs, x_2_ss, y_2_ss)\n",
    "print \"Logistic Regression Model Exploration\"\n",
    "print \"best gs score:\"\n",
    "print logit_explore_2.best_score_\n",
    "print \"\"\n",
    "print \"best gs params:\"\n",
    "print logit_explore_2.best_params_"
   ]
  },
  {
   "cell_type": "code",
   "execution_count": 18,
   "metadata": {
    "collapsed": false,
    "nbpresent": {
     "id": "39edb0d9-ff5d-4505-8f1d-fe6a9253f866"
    }
   },
   "outputs": [
    {
     "name": "stdout",
     "output_type": "stream",
     "text": [
      "Logistic Regression Model Exploration\n",
      "best gs score:\n",
      "0.991882243539\n",
      "\n",
      "best gs params:\n",
      "{'penalty': 'l1', 'C': 0.4}\n"
     ]
    }
   ],
   "source": [
    "#Logistic Regression Model Exploration for feature set 3\n",
    "logit_explore_3 = explore_model(lr_params, lr_model_gs, x_3_ss, y_3_ss)\n",
    "print \"Logistic Regression Model Exploration\"\n",
    "print \"best gs score:\"\n",
    "print logit_explore_3.best_score_\n",
    "print \"\"\n",
    "print \"best gs params:\"\n",
    "print logit_explore_3.best_params_"
   ]
  },
  {
   "cell_type": "code",
   "execution_count": 19,
   "metadata": {
    "collapsed": false,
    "nbpresent": {
     "id": "c740503b-8c9a-4852-a562-94cf527b08e3"
    }
   },
   "outputs": [
    {
     "name": "stdout",
     "output_type": "stream",
     "text": [
      "Logistic Regression results:\n",
      "score of fit: 0.953051643192\n",
      "score of prediction: 0.937062937063\n",
      "\n",
      "Logistic Regression Cross validation results:\n",
      "CV AUC_1 [ 0.9751292   0.99257106  0.9963112   0.9852448   0.99027498], Average AUC_1 0.987906248863\n"
     ]
    }
   ],
   "source": [
    "#Algorithm uses hyperparameters determined in GridSearch\n",
    "#Logistic Regression for feature set 1 (uses train set fot fit and test set for predict)\n",
    "logreg_set_1 = LogisticRegression(penalty='l2', C=0.4)\n",
    "\n",
    "print \"Logistic Regression results:\"\n",
    "print \"score of fit: \" + str(func_model_fit(logreg_set_1, train_x_1_ss, train_y_1_ss))\n",
    "print \"score of prediction: \" + str(func_model_pred(logreg_set_1, train_x_1_ss, train_y_1_ss, test_x_1_ss, test_y_1_ss))\n",
    "#Cross Validation of the Logistic Regression (uses entire feature and training set)\n",
    "print \"\"\n",
    "print \"Logistic Regression Cross validation results:\"\n",
    "cv_check_results_lr_1 = func_cv_check(logreg_set_1, train_x_1_ss, train_y_1_ss, x_1_ss, y_1_ss)\n",
    "print('CV AUC_1 {}, Average AUC_1 {}'.format(cv_check_results_lr_1, cv_check_results_lr_1.mean()))"
   ]
  },
  {
   "cell_type": "code",
   "execution_count": 20,
   "metadata": {
    "collapsed": false,
    "nbpresent": {
     "id": "2c40d36f-d1ac-4798-a9b6-d4de697fa5db"
    }
   },
   "outputs": [
    {
     "name": "stdout",
     "output_type": "stream",
     "text": [
      "Logistic Regression results:\n",
      "score of fit: 0.899061032864\n",
      "score of prediction: 0.881118881119\n",
      "\n",
      "Logistic Regression Cross validation results:\n",
      "CV AUC_1 [ 0.93184755  0.95445736  0.97551979  0.95841717  0.98122066], Average AUC_1 0.96029250438\n"
     ]
    }
   ],
   "source": [
    "#Algorithm uses hyperparameters determined in GridSearch\n",
    "#Logistic Regression for feature set 2 (uses train set fot fit and test set for predict)\n",
    "logreg_set_2 = LogisticRegression(penalty='l2', C=0.4)\n",
    "\n",
    "print \"Logistic Regression results:\"\n",
    "print \"score of fit: \" + str(func_model_fit(logreg_set_2, train_x_2_ss, train_y_2_ss))\n",
    "print \"score of prediction: \" + str(func_model_pred(logreg_set_2, train_x_2_ss, train_y_2_ss, test_x_2_ss, test_y_2_ss))\n",
    "#Cross Validation of the Logistic Regression (uses entire feature set and training set)\n",
    "print \"\"\n",
    "print \"Logistic Regression Cross validation results:\"\n",
    "cv_check_results_lr_2 = func_cv_check(logreg_set_2, train_x_2_ss, train_y_2_ss, x_2_ss, y_2_ss)\n",
    "print('CV AUC_1 {}, Average AUC_1 {}'.format(cv_check_results_lr_2, cv_check_results_lr_2.mean()))"
   ]
  },
  {
   "cell_type": "code",
   "execution_count": 21,
   "metadata": {
    "collapsed": false,
    "nbpresent": {
     "id": "3a0ec111-9767-4ae7-adf8-12894663a4d0"
    },
    "scrolled": true
   },
   "outputs": [
    {
     "name": "stdout",
     "output_type": "stream",
     "text": [
      "Logistic Regression results:\n",
      "score of fit: 0.964788732394\n",
      "score of prediction: 0.986013986014\n",
      "\n",
      "Logistic Regression Cross validation results:\n",
      "CV AUC_3 [ 0.98869509  0.99321705  0.99832327  0.98256204  0.99664655], Average AUC_3 0.991888800503\n"
     ]
    }
   ],
   "source": [
    "#Algorithm uses hyperparameters determined in GridSearch\n",
    "#Logistic Regression for feature set 3 (uses train set fot fit and test set for predict)\n",
    "logreg_set_3 = LogisticRegression(penalty='l1', C=0.4)\n",
    "\n",
    "print \"Logistic Regression results:\"\n",
    "print \"score of fit: \" + str(func_model_fit(logreg_set_3, train_x_3_ss, train_y_3_ss))\n",
    "print \"score of prediction: \" + str(func_model_pred(logreg_set_3, train_x_3_ss, train_y_3_ss, test_x_3_ss, test_y_3_ss))\n",
    "#Cross Validation of the Logistic Regression (uses entire feature set and training set)\n",
    "print \"\"\n",
    "print \"Logistic Regression Cross validation results:\"\n",
    "cv_check_results_lr_3 = func_cv_check(logreg_set_3, train_x_3_ss, train_y_3_ss, x_3_ss, y_3_ss)\n",
    "print('CV AUC_3 {}, Average AUC_3 {}'.format(cv_check_results_lr_3, cv_check_results_lr_3.mean()))"
   ]
  },
  {
   "cell_type": "code",
   "execution_count": 22,
   "metadata": {
    "collapsed": false,
    "nbpresent": {
     "id": "bd43af43-ce68-4616-b689-ec742c9ac2d7"
    },
    "scrolled": false
   },
   "outputs": [
    {
     "data": {
      "text/plain": [
       "<matplotlib.legend.Legend at 0xf95db38>"
      ]
     },
     "execution_count": 22,
     "metadata": {},
     "output_type": "execute_result"
    },
    {
     "data": {
      "image/png": "[encoded data removed]",
      "text/plain": [
       "<matplotlib.figure.Figure at 0x1125c208>"
      ]
     },
     "metadata": {},
     "output_type": "display_data"
    }
   ],
   "source": [
    "#Get scores set 1\n",
    "score_lr_m1 = func_model_fit(logreg_set_1, train_x_1_ss, train_y_1_ss)\n",
    "score_lr_m1_pred = func_model_pred(logreg_set_1, train_x_1_ss, train_y_1_ss, test_x_1_ss, test_y_1_ss)\n",
    "cv_check_results_lr_1 = func_cv_check(logreg_set_1, train_x_1_ss, train_y_1_ss, x_1_ss, y_1_ss)\n",
    "#build list for DataFrame for plot; feature set 1\n",
    "lst_df_lr_set_1 =[]\n",
    "lst_df_lr_set_1.append(logit_explore_1.best_score_)\n",
    "lst_df_lr_set_1.append(score_lr_m1)\n",
    "lst_df_lr_set_1.append(score_lr_m1_pred)\n",
    "lst_df_lr_set_1.append(cv_check_results_lr_1.mean())\n",
    "#Get scores set 2\n",
    "score_lr_m2 = func_model_fit(logreg_set_2, train_x_2_ss, train_y_2_ss)\n",
    "score_lr_m2_pred = func_model_pred(logreg_set_2, train_x_2_ss, train_y_2_ss, test_x_2_ss, test_y_2_ss)\n",
    "cv_check_results_lr_2 = func_cv_check(logreg_set_2, train_x_2_ss, train_y_2_ss, x_2_ss, y_2_ss)\n",
    "#build list for DataFrame for plot; feature set 2\n",
    "lst_df_lr_set_2 =[]\n",
    "lst_df_lr_set_2.append(logit_explore_2.best_score_)\n",
    "lst_df_lr_set_2.append(score_lr_m2)\n",
    "lst_df_lr_set_2.append(score_lr_m2_pred)\n",
    "lst_df_lr_set_2.append(cv_check_results_lr_2.mean())\n",
    "#Get scores set 3\n",
    "score_lr_m3 = func_model_fit(logreg_set_3, train_x_3_ss, train_y_3_ss)\n",
    "score_lr_m3_pred = func_model_pred(logreg_set_3, train_x_3_ss, train_y_3_ss, test_x_3_ss, test_y_3_ss)\n",
    "cv_check_results_lr_3 = func_cv_check(logreg_set_3, train_x_3_ss, train_y_3_ss, x_3_ss, y_3_ss)\n",
    "#build list for DataFrame for plot; feature set 3\n",
    "lst_df_lr_set_3 =[]\n",
    "lst_df_lr_set_3.append(logit_explore_3.best_score_)\n",
    "lst_df_lr_set_3.append(score_lr_m3)\n",
    "lst_df_lr_set_3.append(score_lr_m3_pred)\n",
    "lst_df_lr_set_3.append(cv_check_results_lr_3.mean())\n",
    "#Build df for plot\n",
    "dct_for_lr_df = {'feature set 1: Randorm Forest Feature Selection': lst_df_lr_set_1,'feature set 2: Chosen at Random': lst_df_lr_set_2, 'feature set 3: Author Chosen Features': lst_df_lr_set_3}\n",
    "df_for_lr_plot = pd.DataFrame(dct_for_lr_df, index=['Grid Search', 'Training Fit', 'Test Prediction', 'Mean of Cross Val'])\n",
    "df_for_lr_plot.columns.name = 'modeling results'\n",
    "#Plot the Data Frame for Logistic Regression\n",
    "fig, axes = plt.subplots(1,1)\n",
    "df_for_lr_plot.plot(kind='bar', ax=axes, alpha=0.7, title='Logistic Regression Results', ylim=[0.85, 1.05], rot=45)\n",
    "plt.legend(bbox_to_anchor=(0,1), loc=2, borderaxespad=0.)"
   ]
  },
  {
   "cell_type": "code",
   "execution_count": 23,
   "metadata": {
    "collapsed": false,
    "scrolled": false
   },
   "outputs": [
    {
     "data": {
      "text/html": [
       "<div>\n",
       "<style>\n",
       "    .dataframe thead tr:only-child th {\n",
       "        text-align: right;\n",
       "    }\n",
       "\n",
       "    .dataframe thead th {\n",
       "        text-align: left;\n",
       "    }\n",
       "\n",
       "    .dataframe tbody tr th {\n",
       "        vertical-align: top;\n",
       "    }\n",
       "</style>\n",
       "<table border=\"1\" class=\"dataframe\">\n",
       "  <thead>\n",
       "    <tr style=\"text-align: right;\">\n",
       "      <th>modeling results</th>\n",
       "      <th>feature set 1: Randorm Forest Feature Selection</th>\n",
       "      <th>feature set 2: Chosen at Random</th>\n",
       "      <th>feature set 3: Author Chosen Features</th>\n",
       "    </tr>\n",
       "  </thead>\n",
       "  <tbody>\n",
       "    <tr>\n",
       "      <th>Grid Search</th>\n",
       "      <td>0.988343</td>\n",
       "      <td>0.962208</td>\n",
       "      <td>0.991882</td>\n",
       "    </tr>\n",
       "    <tr>\n",
       "      <th>Training Fit</th>\n",
       "      <td>0.953052</td>\n",
       "      <td>0.899061</td>\n",
       "      <td>0.964789</td>\n",
       "    </tr>\n",
       "    <tr>\n",
       "      <th>Test Prediction</th>\n",
       "      <td>0.937063</td>\n",
       "      <td>0.881119</td>\n",
       "      <td>0.986014</td>\n",
       "    </tr>\n",
       "    <tr>\n",
       "      <th>Mean of Cross Val</th>\n",
       "      <td>0.987906</td>\n",
       "      <td>0.960293</td>\n",
       "      <td>0.991889</td>\n",
       "    </tr>\n",
       "  </tbody>\n",
       "</table>\n",
       "</div>"
      ],
      "text/plain": [
       "modeling results   feature set 1: Randorm Forest Feature Selection  \\\n",
       "Grid Search                                               0.988343   \n",
       "Training Fit                                              0.953052   \n",
       "Test Prediction                                           0.937063   \n",
       "Mean of Cross Val                                         0.987906   \n",
       "\n",
       "modeling results   feature set 2: Chosen at Random  \\\n",
       "Grid Search                               0.962208   \n",
       "Training Fit                              0.899061   \n",
       "Test Prediction                           0.881119   \n",
       "Mean of Cross Val                         0.960293   \n",
       "\n",
       "modeling results   feature set 3: Author Chosen Features  \n",
       "Grid Search                                     0.991882  \n",
       "Training Fit                                    0.964789  \n",
       "Test Prediction                                 0.986014  \n",
       "Mean of Cross Val                               0.991889  "
      ]
     },
     "execution_count": 23,
     "metadata": {},
     "output_type": "execute_result"
    }
   ],
   "source": [
    "df_for_lr_plot"
   ]
  },
  {
   "cell_type": "code",
   "execution_count": 24,
   "metadata": {
    "collapsed": false,
    "nbpresent": {
     "id": "c1b9acf1-996f-4103-b806-fa11f9973fe9"
    }
   },
   "outputs": [],
   "source": [
    "#Generalized Feature Ranking function. It is dependent on the type pf algorithm (not all algorithems have coef_)\n",
    "\n",
    "def func_feature_rank_logit(x_full, model_fit, str_tag, out_tag, str_alg):\n",
    "    lr_cols = []\n",
    "    for col in x_full.columns:\n",
    "        lr_cols.append(col + str_tag)\n",
    "    lr_feature_importances = model_fit.coef_\n",
    "    elem_1 = lr_feature_importances[0]\n",
    "    df_out = pd.DataFrame({'Features_set': lr_cols, 'Importance Score': elem_1})\n",
    "    df_out.sort_values('Importance Score', inplace=True, ascending=False)\n",
    "    df_out.set_index(['Features_set'], inplace=True)\n",
    "    print \"Feature \" + out_tag + \" Ranking \" + str_alg \n",
    "    return df_out"
   ]
  },
  {
   "cell_type": "code",
   "execution_count": 25,
   "metadata": {
    "collapsed": false,
    "nbpresent": {
     "id": "1c6dc4a8-d270-40f1-bcce-ecfed560aa52"
    },
    "scrolled": true
   },
   "outputs": [
    {
     "name": "stdout",
     "output_type": "stream",
     "text": [
      "Feature set 1 Ranking logit\n"
     ]
    },
    {
     "data": {
      "text/html": [
       "<div>\n",
       "<style>\n",
       "    .dataframe thead tr:only-child th {\n",
       "        text-align: right;\n",
       "    }\n",
       "\n",
       "    .dataframe thead th {\n",
       "        text-align: left;\n",
       "    }\n",
       "\n",
       "    .dataframe tbody tr th {\n",
       "        vertical-align: top;\n",
       "    }\n",
       "</style>\n",
       "<table border=\"1\" class=\"dataframe\">\n",
       "  <thead>\n",
       "    <tr style=\"text-align: right;\">\n",
       "      <th>Feature Set 1</th>\n",
       "      <th>Importance Score</th>\n",
       "    </tr>\n",
       "    <tr>\n",
       "      <th>Features_set</th>\n",
       "      <th></th>\n",
       "    </tr>\n",
       "  </thead>\n",
       "  <tbody>\n",
       "    <tr>\n",
       "      <th>concave_points_worst_f1</th>\n",
       "      <td>1.554991</td>\n",
       "    </tr>\n",
       "    <tr>\n",
       "      <th>radius_worst_f1</th>\n",
       "      <td>1.279706</td>\n",
       "    </tr>\n",
       "    <tr>\n",
       "      <th>area_worst_f1</th>\n",
       "      <td>1.237059</td>\n",
       "    </tr>\n",
       "    <tr>\n",
       "      <th>perimeter_worst_f1</th>\n",
       "      <td>1.204763</td>\n",
       "    </tr>\n",
       "    <tr>\n",
       "      <th>concave_points_mean_f1</th>\n",
       "      <td>0.970860</td>\n",
       "    </tr>\n",
       "    <tr>\n",
       "      <th>Intercept_f1</th>\n",
       "      <td>-0.256987</td>\n",
       "    </tr>\n",
       "  </tbody>\n",
       "</table>\n",
       "</div>"
      ],
      "text/plain": [
       "Feature Set 1            Importance Score\n",
       "Features_set                             \n",
       "concave_points_worst_f1          1.554991\n",
       "radius_worst_f1                  1.279706\n",
       "area_worst_f1                    1.237059\n",
       "perimeter_worst_f1               1.204763\n",
       "concave_points_mean_f1           0.970860\n",
       "Intercept_f1                    -0.256987"
      ]
     },
     "execution_count": 25,
     "metadata": {},
     "output_type": "execute_result"
    }
   ],
   "source": [
    "#Feature Set 1 Ranking\n",
    "lr_fitted_set_1 = logreg_set_1.fit(train_x_1_ss, train_y_1_ss)\n",
    "df_curr_lr_1 = func_feature_rank_logit(x_1, lr_fitted_set_1, '_f1', 'set 1', 'logit')\n",
    "df_curr_lr_1.columns.name = 'Feature Set 1'\n",
    "df_curr_lr_1"
   ]
  },
  {
   "cell_type": "code",
   "execution_count": 26,
   "metadata": {
    "collapsed": false,
    "nbpresent": {
     "id": "b281f4d3-afef-4326-8435-8d81d287bac3"
    },
    "scrolled": true
   },
   "outputs": [
    {
     "name": "stdout",
     "output_type": "stream",
     "text": [
      "Feature set_2 Ranking logit\n"
     ]
    },
    {
     "data": {
      "text/html": [
       "<div>\n",
       "<style>\n",
       "    .dataframe thead tr:only-child th {\n",
       "        text-align: right;\n",
       "    }\n",
       "\n",
       "    .dataframe thead th {\n",
       "        text-align: left;\n",
       "    }\n",
       "\n",
       "    .dataframe tbody tr th {\n",
       "        vertical-align: top;\n",
       "    }\n",
       "</style>\n",
       "<table border=\"1\" class=\"dataframe\">\n",
       "  <thead>\n",
       "    <tr style=\"text-align: right;\">\n",
       "      <th>Feature Set 2</th>\n",
       "      <th>Importance Score</th>\n",
       "    </tr>\n",
       "    <tr>\n",
       "      <th>Features_set</th>\n",
       "      <th></th>\n",
       "    </tr>\n",
       "  </thead>\n",
       "  <tbody>\n",
       "    <tr>\n",
       "      <th>perimeter_mean_f2</th>\n",
       "      <td>2.098835</td>\n",
       "    </tr>\n",
       "    <tr>\n",
       "      <th>radius_mean_f2</th>\n",
       "      <td>1.200497</td>\n",
       "    </tr>\n",
       "    <tr>\n",
       "      <th>texture_mean_f2</th>\n",
       "      <td>0.831720</td>\n",
       "    </tr>\n",
       "    <tr>\n",
       "      <th>Intercept_f2</th>\n",
       "      <td>-0.333354</td>\n",
       "    </tr>\n",
       "  </tbody>\n",
       "</table>\n",
       "</div>"
      ],
      "text/plain": [
       "Feature Set 2      Importance Score\n",
       "Features_set                       \n",
       "perimeter_mean_f2          2.098835\n",
       "radius_mean_f2             1.200497\n",
       "texture_mean_f2            0.831720\n",
       "Intercept_f2              -0.333354"
      ]
     },
     "execution_count": 26,
     "metadata": {},
     "output_type": "execute_result"
    }
   ],
   "source": [
    "lr_fitted_set_2 = logreg_set_2.fit(train_x_2_ss, train_y_2_ss)\n",
    "df_curr_lr_2 = func_feature_rank_logit(x_2, lr_fitted_set_2, '_f2', 'set_2', 'logit')\n",
    "df_curr_lr_2.columns.name = 'Feature Set 2'\n",
    "df_curr_lr_2"
   ]
  },
  {
   "cell_type": "code",
   "execution_count": 27,
   "metadata": {
    "collapsed": false,
    "nbpresent": {
     "id": "1609c1ab-fc39-4eac-bd61-6757588ec4ab"
    },
    "scrolled": true
   },
   "outputs": [
    {
     "name": "stdout",
     "output_type": "stream",
     "text": [
      "Feature set_3 Ranking logit\n"
     ]
    },
    {
     "data": {
      "text/html": [
       "<div>\n",
       "<style>\n",
       "    .dataframe thead tr:only-child th {\n",
       "        text-align: right;\n",
       "    }\n",
       "\n",
       "    .dataframe thead th {\n",
       "        text-align: left;\n",
       "    }\n",
       "\n",
       "    .dataframe tbody tr th {\n",
       "        vertical-align: top;\n",
       "    }\n",
       "</style>\n",
       "<table border=\"1\" class=\"dataframe\">\n",
       "  <thead>\n",
       "    <tr style=\"text-align: right;\">\n",
       "      <th>Feature Set 3</th>\n",
       "      <th>Importance Score</th>\n",
       "    </tr>\n",
       "    <tr>\n",
       "      <th>Features_set</th>\n",
       "      <th></th>\n",
       "    </tr>\n",
       "  </thead>\n",
       "  <tbody>\n",
       "    <tr>\n",
       "      <th>area_worst_f3</th>\n",
       "      <td>6.074101</td>\n",
       "    </tr>\n",
       "    <tr>\n",
       "      <th>smoothness_worst_f3</th>\n",
       "      <td>1.378102</td>\n",
       "    </tr>\n",
       "    <tr>\n",
       "      <th>texture_mean_f3</th>\n",
       "      <td>0.956035</td>\n",
       "    </tr>\n",
       "    <tr>\n",
       "      <th>Intercept_f3</th>\n",
       "      <td>0.000000</td>\n",
       "    </tr>\n",
       "  </tbody>\n",
       "</table>\n",
       "</div>"
      ],
      "text/plain": [
       "Feature Set 3        Importance Score\n",
       "Features_set                         \n",
       "area_worst_f3                6.074101\n",
       "smoothness_worst_f3          1.378102\n",
       "texture_mean_f3              0.956035\n",
       "Intercept_f3                 0.000000"
      ]
     },
     "execution_count": 27,
     "metadata": {},
     "output_type": "execute_result"
    }
   ],
   "source": [
    "lr_fitted_set_3 = logreg_set_3.fit(train_x_3_ss, train_y_3_ss)\n",
    "df_curr_lr_3 = func_feature_rank_logit(x_3, lr_fitted_set_3, '_f3', 'set_3', 'logit')\n",
    "df_curr_lr_3.columns.name = 'Feature Set 3'\n",
    "df_curr_lr_3"
   ]
  },
  {
   "cell_type": "code",
   "execution_count": 28,
   "metadata": {
    "collapsed": true,
    "nbpresent": {
     "id": "0ea4c439-9246-4f11-bc2e-fb48c9822085"
    }
   },
   "outputs": [],
   "source": [
    "#Using the training and test data, score the prediction (this will be passed to the confusion matrix)\n",
    "def func_model_pred_conf(model, x_train, y_train, x_test):\n",
    "    model_fit = model.fit(x_train, y_train)\n",
    "    model_pred = model_fit.predict(x_test)\n",
    "    return model_pred"
   ]
  },
  {
   "cell_type": "code",
   "execution_count": 29,
   "metadata": {
    "collapsed": false,
    "nbpresent": {
     "id": "b5efc95e-1321-4262-9c81-fa359a0148ff"
    }
   },
   "outputs": [],
   "source": [
    "#Two functions to handle the confusion matirx calculations- one to make a cm, the other to calculate and return a df\n",
    "def mini_cm(c_matrix):\n",
    "    t_pos = float(c_matrix[0,0])\n",
    "    f_pos = float(c_matrix[0,1])\n",
    "    f_neg = float(c_matrix[1,0])\n",
    "    t_neg = float(c_matrix[1,1])\n",
    "    lst_out = [t_pos, f_pos, f_neg, t_neg]\n",
    "    return lst_out\n",
    "\n",
    "def mini_cm_calc(test_y, cm_list):\n",
    "    num_test = len(test_y)\n",
    "    t_pos = cm_list[0]\n",
    "    f_pos = cm_list[1]\n",
    "    f_neg = cm_list[2]\n",
    "    t_neg = cm_list[3]\n",
    "    accuracy = ((t_pos + t_neg)/num_test)\n",
    "    misclass = ((f_pos + f_neg)/num_test)\n",
    "    precision = (t_pos / (t_pos + f_pos))\n",
    "    recall = (t_pos / (t_pos + f_neg))\n",
    "    lst_out = [accuracy, misclass, precision, recall]\n",
    "    return lst_out\n",
    "\n",
    "def func_cm_calc_to_df(test_y_1, c_matrix_1, test_y_2, c_matrix_2, test_y_3, c_matrix_3, lst_index, lst_cols):\n",
    "    lst_cm_1 = mini_cm(c_matrix_1)\n",
    "    lst_cm_calc_1 = mini_cm_calc(test_y_1, lst_cm_1)\n",
    "    lst_cm_2 = mini_cm(c_matrix_2)\n",
    "    lst_cm_calc_2 = mini_cm_calc(test_y_2, lst_cm_2)\n",
    "    lst_cm_3 = mini_cm(c_matrix_3)\n",
    "    lst_cm_calc_3 = mini_cm_calc(test_y_3, lst_cm_3)\n",
    "    dct_for_df_out = {lst_cols[0]:lst_cm_calc_1, lst_cols[1]:lst_cm_calc_2, lst_cols[2]:lst_cm_calc_3}\n",
    "    df_out = pd.DataFrame(dct_for_df_out, index=lst_index)\n",
    "    df_out.reindex(columns=[lst_cols[0], lst_cols[1], lst_cols[2]])\n",
    "    df_out.columns.name = 'Confusion Matrix Calculations'\n",
    "    return df_out"
   ]
  },
  {
   "cell_type": "code",
   "execution_count": 30,
   "metadata": {
    "collapsed": true,
    "nbpresent": {
     "id": "386fb31e-7a20-41ea-a1bd-7ffdd89a6e60"
    }
   },
   "outputs": [],
   "source": [
    "#Function out puts a dataframe built from three different confusion matrices and a list of column names\n",
    "def func_cm_to_df(c_matrix_1, c_matrix_2, c_matrix_3, lst_index, lst_cols):\n",
    "    lst_for_df_1 = [c_matrix_1[0,0], c_matrix_1[0,1], c_matrix_1[1,0], c_matrix_1[1,1]]\n",
    "    lst_for_df_2 = [c_matrix_2[0,0], c_matrix_2[0,1], c_matrix_2[1,0], c_matrix_2[1,1]]\n",
    "    lst_for_df_3 = [c_matrix_3[0,0], c_matrix_3[0,1], c_matrix_3[1,0], c_matrix_3[1,1]]\n",
    "    dct_for_df = {lst_cols[0]:lst_for_df_1, lst_cols[1]:lst_for_df_2, lst_cols[2]:lst_for_df_3}\n",
    "    df_out = pd.DataFrame(dct_for_df, index=lst_index)\n",
    "    df_out.columns.name = 'Confusion Matirx'\n",
    "    return df_out"
   ]
  },
  {
   "cell_type": "code",
   "execution_count": 31,
   "metadata": {
    "collapsed": false,
    "nbpresent": {
     "id": "46fc08c6-2c32-43e2-9cad-60e98d9fc2d3"
    }
   },
   "outputs": [],
   "source": [
    "#Logistic Regression Confusion Matrix Results\n",
    "#Critical to pass labels to the confusion matrix so that it gives the right results\n",
    "#feature set 1\n",
    "lr_model_pred_set_1 = func_model_pred_conf(logreg_set_1, train_x_1_ss, train_y_1_ss, test_x_1_ss)\n",
    "conf_mat_lr_1 = confusion_matrix(test_y_1_ss, lr_model_pred_set_1, labels=[1,0])\n",
    "#feature set 2\n",
    "lr_model_pred_set_2 = func_model_pred_conf(logreg_set_2, train_x_2_ss, train_y_2_ss, test_x_2_ss)\n",
    "conf_mat_lr_2 = confusion_matrix(test_y_2_ss, lr_model_pred_set_2, labels=[1,0])\n",
    "#feature set 3\n",
    "lr_model_pred_set_3 = func_model_pred_conf(logreg_set_3, train_x_3_ss, train_y_3_ss, test_x_3_ss)\n",
    "conf_mat_lr_3 = confusion_matrix(test_y_3_ss, lr_model_pred_set_3, labels=[1,0])\n",
    "#Build the df\n",
    "lst_index = ['true_positive', 'false_positive', 'false_negative', 'true_negative']\n",
    "lst_index_calc = ['accuracy', 'misclass', 'precision', 'recall']\n",
    "lst_cols = ['Feature Set 1: RF', 'Feature Set 2: Random', 'Feature Set 3: Pre-Select']\n",
    "df_for_lr_cm_plot = func_cm_to_df(conf_mat_lr_1, conf_mat_lr_2, conf_mat_lr_3, lst_index, lst_cols)\n",
    "df_for_lr_cm_calc_plot = func_cm_calc_to_df(test_y_1, conf_mat_lr_1, test_y_2, conf_mat_lr_2, test_y_3, conf_mat_lr_3, lst_index_calc, lst_cols)\n"
   ]
  },
  {
   "cell_type": "code",
   "execution_count": 32,
   "metadata": {
    "collapsed": false,
    "nbpresent": {
     "id": "cfcdb05f-36fa-4d02-8d49-7395e6b6991f"
    },
    "scrolled": true
   },
   "outputs": [
    {
     "data": {
      "text/html": [
       "<div>\n",
       "<style>\n",
       "    .dataframe thead tr:only-child th {\n",
       "        text-align: right;\n",
       "    }\n",
       "\n",
       "    .dataframe thead th {\n",
       "        text-align: left;\n",
       "    }\n",
       "\n",
       "    .dataframe tbody tr th {\n",
       "        vertical-align: top;\n",
       "    }\n",
       "</style>\n",
       "<table border=\"1\" class=\"dataframe\">\n",
       "  <thead>\n",
       "    <tr style=\"text-align: right;\">\n",
       "      <th>Confusion Matirx</th>\n",
       "      <th>Feature Set 1: RF</th>\n",
       "      <th>Feature Set 2: Random</th>\n",
       "      <th>Feature Set 3: Pre-Select</th>\n",
       "    </tr>\n",
       "  </thead>\n",
       "  <tbody>\n",
       "    <tr>\n",
       "      <th>true_positive</th>\n",
       "      <td>39</td>\n",
       "      <td>42</td>\n",
       "      <td>61</td>\n",
       "    </tr>\n",
       "    <tr>\n",
       "      <th>false_positive</th>\n",
       "      <td>4</td>\n",
       "      <td>13</td>\n",
       "      <td>2</td>\n",
       "    </tr>\n",
       "    <tr>\n",
       "      <th>false_negative</th>\n",
       "      <td>5</td>\n",
       "      <td>4</td>\n",
       "      <td>0</td>\n",
       "    </tr>\n",
       "    <tr>\n",
       "      <th>true_negative</th>\n",
       "      <td>95</td>\n",
       "      <td>84</td>\n",
       "      <td>80</td>\n",
       "    </tr>\n",
       "  </tbody>\n",
       "</table>\n",
       "</div>"
      ],
      "text/plain": [
       "Confusion Matirx  Feature Set 1: RF  Feature Set 2: Random  \\\n",
       "true_positive                    39                     42   \n",
       "false_positive                    4                     13   \n",
       "false_negative                    5                      4   \n",
       "true_negative                    95                     84   \n",
       "\n",
       "Confusion Matirx  Feature Set 3: Pre-Select  \n",
       "true_positive                            61  \n",
       "false_positive                            2  \n",
       "false_negative                            0  \n",
       "true_negative                            80  "
      ]
     },
     "execution_count": 32,
     "metadata": {},
     "output_type": "execute_result"
    }
   ],
   "source": [
    "df_for_lr_cm_plot"
   ]
  },
  {
   "cell_type": "code",
   "execution_count": 33,
   "metadata": {
    "collapsed": false,
    "nbpresent": {
     "id": "76b43c0d-ddbb-4736-b505-407c98a5ffcc"
    },
    "scrolled": true
   },
   "outputs": [
    {
     "data": {
      "text/html": [
       "<div>\n",
       "<style>\n",
       "    .dataframe thead tr:only-child th {\n",
       "        text-align: right;\n",
       "    }\n",
       "\n",
       "    .dataframe thead th {\n",
       "        text-align: left;\n",
       "    }\n",
       "\n",
       "    .dataframe tbody tr th {\n",
       "        vertical-align: top;\n",
       "    }\n",
       "</style>\n",
       "<table border=\"1\" class=\"dataframe\">\n",
       "  <thead>\n",
       "    <tr style=\"text-align: right;\">\n",
       "      <th>Confusion Matrix Calculations</th>\n",
       "      <th>Feature Set 1: RF</th>\n",
       "      <th>Feature Set 2: Random</th>\n",
       "      <th>Feature Set 3: Pre-Select</th>\n",
       "    </tr>\n",
       "  </thead>\n",
       "  <tbody>\n",
       "    <tr>\n",
       "      <th>accuracy</th>\n",
       "      <td>0.937063</td>\n",
       "      <td>0.881119</td>\n",
       "      <td>0.986014</td>\n",
       "    </tr>\n",
       "    <tr>\n",
       "      <th>misclass</th>\n",
       "      <td>0.062937</td>\n",
       "      <td>0.118881</td>\n",
       "      <td>0.013986</td>\n",
       "    </tr>\n",
       "    <tr>\n",
       "      <th>precision</th>\n",
       "      <td>0.906977</td>\n",
       "      <td>0.763636</td>\n",
       "      <td>0.968254</td>\n",
       "    </tr>\n",
       "    <tr>\n",
       "      <th>recall</th>\n",
       "      <td>0.886364</td>\n",
       "      <td>0.913043</td>\n",
       "      <td>1.000000</td>\n",
       "    </tr>\n",
       "  </tbody>\n",
       "</table>\n",
       "</div>"
      ],
      "text/plain": [
       "Confusion Matrix Calculations  Feature Set 1: RF  Feature Set 2: Random  \\\n",
       "accuracy                                0.937063               0.881119   \n",
       "misclass                                0.062937               0.118881   \n",
       "precision                               0.906977               0.763636   \n",
       "recall                                  0.886364               0.913043   \n",
       "\n",
       "Confusion Matrix Calculations  Feature Set 3: Pre-Select  \n",
       "accuracy                                        0.986014  \n",
       "misclass                                        0.013986  \n",
       "precision                                       0.968254  \n",
       "recall                                          1.000000  "
      ]
     },
     "execution_count": 33,
     "metadata": {},
     "output_type": "execute_result"
    }
   ],
   "source": [
    "df_for_lr_cm_calc_plot"
   ]
  },
  {
   "cell_type": "code",
   "execution_count": 34,
   "metadata": {
    "collapsed": false,
    "nbpresent": {
     "id": "177bde5b-c834-4676-9513-5990858b8e40"
    },
    "scrolled": true
   },
   "outputs": [
    {
     "data": {
      "text/plain": [
       "<matplotlib.legend.Legend at 0x108fe780>"
      ]
     },
     "execution_count": 34,
     "metadata": {},
     "output_type": "execute_result"
    },
    {
     "data": {
      "image/png": "[encoded data removed]",
      "text/plain": [
       "<matplotlib.figure.Figure at 0x147c3e80>"
      ]
     },
     "metadata": {},
     "output_type": "display_data"
    }
   ],
   "source": [
    "#Plot the Data Frame for Logistic Regression Confusion MAtrix\n",
    "fig, axes = plt.subplots(1,1)\n",
    "df_for_lr_cm_plot.plot(kind='bar', ax=axes, alpha=0.7, title='Logistic Regression Confusion Matrix Results', rot=45)\n",
    "plt.legend(bbox_to_anchor=(0,1), loc=2, borderaxespad=0.)"
   ]
  },
  {
   "cell_type": "code",
   "execution_count": 35,
   "metadata": {
    "collapsed": false,
    "nbpresent": {
     "id": "f9701553-354d-4d09-b2fd-58e0383738d3"
    },
    "scrolled": true
   },
   "outputs": [
    {
     "data": {
      "text/plain": [
       "<matplotlib.legend.Legend at 0x10610198>"
      ]
     },
     "execution_count": 35,
     "metadata": {},
     "output_type": "execute_result"
    },
    {
     "data": {
      "image/png": "[encoded data removed]",
      "text/plain": [
       "<matplotlib.figure.Figure at 0x10cfd2b0>"
      ]
     },
     "metadata": {},
     "output_type": "display_data"
    }
   ],
   "source": [
    "#Plot the Data Frame for Logistic Regression Confusion Matrix Calculation Results\n",
    "fig, axes = plt.subplots(1,1)\n",
    "df_for_lr_cm_calc_plot.plot(kind='bar', ax=axes, alpha=0.7, title='Logistic Regression Confusion Matrix Calculation Results', ylim=[0,1.25], rot=45)\n",
    "plt.legend(bbox_to_anchor=(0,1), loc=2, borderaxespad=0.)"
   ]
  },
  {
   "cell_type": "code",
   "execution_count": 36,
   "metadata": {
    "collapsed": true,
    "nbpresent": {
     "id": "6e19c9b9-9a1b-4afb-b6ce-f1e01661700b"
    }
   },
   "outputs": [],
   "source": [
    "#KNN Model Exploration\n",
    "kn_model_gs = KNeighborsClassifier()\n",
    "kn_params = {\"n_neighbors\":[2,3,4,5,6], \"weights\":['uniform', 'distance'], \"metric\":['euclidean','minkowski']}"
   ]
  },
  {
   "cell_type": "code",
   "execution_count": 37,
   "metadata": {
    "collapsed": false,
    "nbpresent": {
     "id": "430b1e0c-453a-4c89-9962-51a6429f9a7b"
    }
   },
   "outputs": [
    {
     "name": "stdout",
     "output_type": "stream",
     "text": [
      "K-Nearest Neighbors Model Exploration\n",
      "best gs params:\n",
      "0.948627020156\n",
      "\n",
      "best gs params:\n",
      "{'n_neighbors': 6, 'metric': 'euclidean', 'weights': 'uniform'}\n"
     ]
    }
   ],
   "source": [
    "#K-Nearest Neighbors Model Exploration: feature set 1\n",
    "knn_explore_1 = explore_model(kn_params, kn_model_gs, x_1, y_1)\n",
    "print \"K-Nearest Neighbors Model Exploration\"\n",
    "print \"best gs params:\"\n",
    "print knn_explore_1.best_score_\n",
    "print \"\"\n",
    "print \"best gs params:\"\n",
    "print knn_explore_1.best_params_"
   ]
  },
  {
   "cell_type": "code",
   "execution_count": 38,
   "metadata": {
    "collapsed": false,
    "nbpresent": {
     "id": "2fac911d-0ee5-4f4e-bba6-a123724d1b3c"
    }
   },
   "outputs": [
    {
     "name": "stdout",
     "output_type": "stream",
     "text": [
      "K-Nearest Neighbors Model Exploration\n",
      "best gs params:\n",
      "0.952121418447\n",
      "\n",
      "best gs params:\n",
      "{'n_neighbors': 5, 'metric': 'euclidean', 'weights': 'uniform'}\n"
     ]
    }
   ],
   "source": [
    "#K-Nearest Neighbors Model Exploration: feature set 2\n",
    "knn_explore_2 = explore_model(kn_params, kn_model_gs, x_2, y_2)\n",
    "print \"K-Nearest Neighbors Model Exploration\"\n",
    "print \"best gs params:\"\n",
    "print knn_explore_2.best_score_\n",
    "print \"\"\n",
    "print \"best gs params:\"\n",
    "print knn_explore_2.best_params_"
   ]
  },
  {
   "cell_type": "code",
   "execution_count": 39,
   "metadata": {
    "collapsed": false,
    "nbpresent": {
     "id": "a5227af8-21d3-4327-b2f3-234e565faad4"
    }
   },
   "outputs": [
    {
     "name": "stdout",
     "output_type": "stream",
     "text": [
      "K-Nearest Neighbors Model Exploration\n",
      "best gs params:\n",
      "0.953475475291\n",
      "\n",
      "best gs params:\n",
      "{'n_neighbors': 6, 'metric': 'euclidean', 'weights': 'distance'}\n"
     ]
    }
   ],
   "source": [
    "#K-Nearest Neighbors Model Exploration: feature set 3\n",
    "knn_explore_3 = explore_model(kn_params, kn_model_gs, x_3, y_3)\n",
    "print \"K-Nearest Neighbors Model Exploration\"\n",
    "print \"best gs params:\"\n",
    "print knn_explore_3.best_score_\n",
    "print \"\"\n",
    "print \"best gs params:\"\n",
    "print knn_explore_3.best_params_"
   ]
  },
  {
   "cell_type": "code",
   "execution_count": 40,
   "metadata": {
    "collapsed": false,
    "nbpresent": {
     "id": "b99a12c2-28f8-466f-9585-b0178ba64bd7"
    }
   },
   "outputs": [
    {
     "name": "stdout",
     "output_type": "stream",
     "text": [
      "K-Nearest Neighbors results:\n",
      "score of fit: 0.929577464789\n",
      "score of prediction: 0.909090909091\n",
      "\n",
      "K-Nearest Neighbors Cross validation results:\n",
      "CV AUC_1 [ 0.90891473  0.94234496  0.95657277  0.96763917  0.96847753], Average AUC_1 0.948789832015\n"
     ]
    }
   ],
   "source": [
    "#Algorithm uses hyperparameters determined in GridSearch\n",
    "#KNN for feature set 1 (uses train set fot fit and test set for predict)\n",
    "knn_set_1 = KNeighborsClassifier(n_neighbors=6, metric='euclidean', weights='uniform')\n",
    "\n",
    "print \"K-Nearest Neighbors results:\"\n",
    "print \"score of fit: \" + str(func_model_fit(knn_set_1, train_x_1, train_y_1))\n",
    "print \"score of prediction: \" + str(func_model_pred(knn_set_1, train_x_1, train_y_1, test_x_1, test_y_1))\n",
    "#Cross Validation of the K-Nearest Neighbors (uses entire feature and training set)\n",
    "print \"\"\n",
    "print \"K-Nearest Neighbors Cross validation results:\"\n",
    "cv_check_results_knn_1 = func_cv_check(knn_set_1, train_x_1, train_y_1, x_1, y_1)\n",
    "print('CV AUC_1 {}, Average AUC_1 {}'.format(cv_check_results_knn_1, cv_check_results_knn_1.mean()))"
   ]
  },
  {
   "cell_type": "code",
   "execution_count": 41,
   "metadata": {
    "collapsed": false,
    "nbpresent": {
     "id": "422c2fe3-c07f-4b80-b4e9-198090a46c15"
    }
   },
   "outputs": [
    {
     "name": "stdout",
     "output_type": "stream",
     "text": [
      "K-Nearest Neighbors results:\n",
      "score of fit: 0.924882629108\n",
      "score of prediction: 0.909090909091\n",
      "\n",
      "K-Nearest Neighbors Cross validation results:\n",
      "CV AUC_2 [ 0.92070413  0.93104005  0.97904091  0.95472837  0.9760228 ], Average AUC_2 0.952307254379\n"
     ]
    }
   ],
   "source": [
    "#Algorithm uses hyperparameters determined in GridSearch\n",
    "#KNN for feature set 2 (uses train set fot fit and test set for predict)\n",
    "knn_set_2 = KNeighborsClassifier(n_neighbors=5, metric='euclidean', weights='uniform')\n",
    "\n",
    "print \"K-Nearest Neighbors results:\"\n",
    "print \"score of fit: \" + str(func_model_fit(knn_set_2, train_x_2, train_y_2))\n",
    "print \"score of prediction: \" + str(func_model_pred(knn_set_2, train_x_2, train_y_2, test_x_2, test_y_2))\n",
    "#Cross Validation of the K-Nearest Neighbors (uses entire feature and training set)\n",
    "print \"\"\n",
    "print \"K-Nearest Neighbors Cross validation results:\"\n",
    "cv_check_results_knn_2 = func_cv_check(knn_set_2, train_x_2, train_y_2, x_2, y_2)\n",
    "print('CV AUC_2 {}, Average AUC_2 {}'.format(cv_check_results_knn_2, cv_check_results_knn_2.mean()))"
   ]
  },
  {
   "cell_type": "code",
   "execution_count": 42,
   "metadata": {
    "collapsed": false,
    "nbpresent": {
     "id": "92f200f4-fa27-4980-9002-39e654796ec0"
    }
   },
   "outputs": [
    {
     "name": "stdout",
     "output_type": "stream",
     "text": [
      "K-Nearest Neighbors results:\n",
      "score of fit: 1.0\n",
      "score of prediction: 0.937062937063\n",
      "\n",
      "K-Nearest Neighbors Cross validation results:\n",
      "CV AUC_3 [ 0.90487726  0.9496124   0.97954393  0.96227364  0.97199866], Average AUC_3 0.95366117896\n"
     ]
    }
   ],
   "source": [
    "#Algorithm uses hyperparameters determined in GridSearch\n",
    "#KNN for feature set 3 (uses train set fot fit and test set for predict)\n",
    "knn_set_3 = KNeighborsClassifier(n_neighbors=6, metric='euclidean', weights='distance')\n",
    "\n",
    "print \"K-Nearest Neighbors results:\"\n",
    "print \"score of fit: \" + str(func_model_fit(knn_set_3, train_x_3, train_y_3))\n",
    "print \"score of prediction: \" + str(func_model_pred(knn_set_3, train_x_3, train_y_3, test_x_3, test_y_3))\n",
    "#Cross Validation of the K-Nearest Neighbors (uses entire feature and training set)\n",
    "print \"\"\n",
    "print \"K-Nearest Neighbors Cross validation results:\"\n",
    "cv_check_results_knn_3 = func_cv_check(knn_set_3, train_x_3, train_y_3, x_3, y_3)\n",
    "print('CV AUC_3 {}, Average AUC_3 {}'.format(cv_check_results_knn_3, cv_check_results_knn_3.mean()))"
   ]
  },
  {
   "cell_type": "code",
   "execution_count": 43,
   "metadata": {
    "collapsed": false,
    "nbpresent": {
     "id": "4316e735-78df-467a-9650-61f227a65e69"
    },
    "scrolled": true
   },
   "outputs": [
    {
     "data": {
      "text/plain": [
       "<matplotlib.legend.Legend at 0x1488d048>"
      ]
     },
     "execution_count": 43,
     "metadata": {},
     "output_type": "execute_result"
    },
    {
     "data": {
      "image/png": "[encoded data removed]",
      "text/plain": [
       "<matplotlib.figure.Figure at 0x10d14390>"
      ]
     },
     "metadata": {},
     "output_type": "display_data"
    }
   ],
   "source": [
    "#Get scores set 1\n",
    "score_knn_m1 = func_model_fit(knn_set_1, train_x_1, train_y_1)\n",
    "score_knn_m1_pred = func_model_pred(knn_set_1, train_x_1, train_y_1, test_x_1, test_y_1)\n",
    "cv_check_results_knn_1 = func_cv_check(knn_set_1, train_x_1, train_y_1, x_1, y_1)\n",
    "#build list for DataFrame for plot; feature set 1\n",
    "lst_df_kn_set_1 =[]\n",
    "lst_df_kn_set_1.append(knn_explore_1.best_score_)\n",
    "lst_df_kn_set_1.append(score_knn_m1)\n",
    "lst_df_kn_set_1.append(score_knn_m1_pred)\n",
    "lst_df_kn_set_1.append(cv_check_results_knn_1.mean())\n",
    "#Get scores set 2\n",
    "score_knn_m2 = func_model_fit(knn_set_2, train_x_2, train_y_2)\n",
    "score_knn_m2_pred = func_model_pred(knn_set_2, train_x_2, train_y_2, test_x_2, test_y_2)\n",
    "cv_check_results_knn_2 = func_cv_check(knn_set_2, train_x_2, train_y_2, x_2, y_2)\n",
    "#build list for DataFrame for plot; feature set 2\n",
    "lst_df_kn_set_2 =[]\n",
    "lst_df_kn_set_2.append(knn_explore_2.best_score_)\n",
    "lst_df_kn_set_2.append(score_knn_m2)\n",
    "lst_df_kn_set_2.append(score_knn_m2_pred)\n",
    "lst_df_kn_set_2.append(cv_check_results_knn_2.mean())\n",
    "#Get scores set 3\n",
    "score_knn_m3 = func_model_fit(knn_set_3, train_x_3, train_y_3)\n",
    "score_knn_m3_pred = func_model_pred(knn_set_3, train_x_3, train_y_3, test_x_3, test_y_3)\n",
    "cv_check_results_knn_3 = func_cv_check(knn_set_3, train_x_3, train_y_3, x_2, y_3)\n",
    "#build list for DataFrame for plot; feature set 3\n",
    "lst_df_kn_set_3 =[]\n",
    "lst_df_kn_set_3.append(logit_explore_3.best_score_)\n",
    "lst_df_kn_set_3.append(score_knn_m3)\n",
    "lst_df_kn_set_3.append(score_knn_m3_pred)\n",
    "lst_df_kn_set_3.append(cv_check_results_knn_3.mean())\n",
    "#Build df for plot\n",
    "dct_for_kn_df = {'feature set 1: Random Forest Feature Selection': lst_df_kn_set_1,'feature set 2: Chosen at Random': lst_df_kn_set_2, 'feature set 3: Author Chosen Features': lst_df_kn_set_3}\n",
    "df_for_kn_plot = pd.DataFrame(dct_for_kn_df, index=['Grid Search', 'Training Fit', 'Test Prediction', 'Mean of Cross Val'])\n",
    "df_for_kn_plot.columns.name = 'knn modeling results'\n",
    "#Plot the Data Frame for KNN Results\n",
    "fig, axes = plt.subplots(1,1)\n",
    "df_for_kn_plot.plot(kind='bar', ax=axes, alpha=0.7, title='K-Nearest Neighbors Results', ylim=[0.85, 1.05], rot=45)\n",
    "plt.legend(bbox_to_anchor=(0,1), loc=2, borderaxespad=0.)"
   ]
  },
  {
   "cell_type": "code",
   "execution_count": 44,
   "metadata": {
    "collapsed": false,
    "scrolled": true
   },
   "outputs": [
    {
     "data": {
      "text/html": [
       "<div>\n",
       "<style>\n",
       "    .dataframe thead tr:only-child th {\n",
       "        text-align: right;\n",
       "    }\n",
       "\n",
       "    .dataframe thead th {\n",
       "        text-align: left;\n",
       "    }\n",
       "\n",
       "    .dataframe tbody tr th {\n",
       "        vertical-align: top;\n",
       "    }\n",
       "</style>\n",
       "<table border=\"1\" class=\"dataframe\">\n",
       "  <thead>\n",
       "    <tr style=\"text-align: right;\">\n",
       "      <th>knn modeling results</th>\n",
       "      <th>feature set 1: Random Forest Feature Selection</th>\n",
       "      <th>feature set 2: Chosen at Random</th>\n",
       "      <th>feature set 3: Author Chosen Features</th>\n",
       "    </tr>\n",
       "  </thead>\n",
       "  <tbody>\n",
       "    <tr>\n",
       "      <th>Grid Search</th>\n",
       "      <td>0.948627</td>\n",
       "      <td>0.952121</td>\n",
       "      <td>0.991882</td>\n",
       "    </tr>\n",
       "    <tr>\n",
       "      <th>Training Fit</th>\n",
       "      <td>0.929577</td>\n",
       "      <td>0.924883</td>\n",
       "      <td>1.000000</td>\n",
       "    </tr>\n",
       "    <tr>\n",
       "      <th>Test Prediction</th>\n",
       "      <td>0.909091</td>\n",
       "      <td>0.909091</td>\n",
       "      <td>0.937063</td>\n",
       "    </tr>\n",
       "    <tr>\n",
       "      <th>Mean of Cross Val</th>\n",
       "      <td>0.948790</td>\n",
       "      <td>0.952307</td>\n",
       "      <td>0.951240</td>\n",
       "    </tr>\n",
       "  </tbody>\n",
       "</table>\n",
       "</div>"
      ],
      "text/plain": [
       "knn modeling results  feature set 1: Random Forest Feature Selection  \\\n",
       "Grid Search                                                 0.948627   \n",
       "Training Fit                                                0.929577   \n",
       "Test Prediction                                             0.909091   \n",
       "Mean of Cross Val                                           0.948790   \n",
       "\n",
       "knn modeling results  feature set 2: Chosen at Random  \\\n",
       "Grid Search                                  0.952121   \n",
       "Training Fit                                 0.924883   \n",
       "Test Prediction                              0.909091   \n",
       "Mean of Cross Val                            0.952307   \n",
       "\n",
       "knn modeling results  feature set 3: Author Chosen Features  \n",
       "Grid Search                                        0.991882  \n",
       "Training Fit                                       1.000000  \n",
       "Test Prediction                                    0.937063  \n",
       "Mean of Cross Val                                  0.951240  "
      ]
     },
     "execution_count": 44,
     "metadata": {},
     "output_type": "execute_result"
    }
   ],
   "source": [
    "df_for_kn_plot"
   ]
  },
  {
   "cell_type": "code",
   "execution_count": 45,
   "metadata": {
    "collapsed": false,
    "nbpresent": {
     "id": "a9032a5a-d536-47a2-aa5f-eec1053ef877"
    }
   },
   "outputs": [],
   "source": [
    "#K-Nearest Neighbors Confusion Matrix Results\n",
    "#Critical to pass labels to the confusion matrix so that it gives the right results\n",
    "#feature set 1\n",
    "knn_model_pred_set_1 = func_model_pred_conf(knn_set_1, train_x_1, train_y_1, test_x_1)\n",
    "conf_mat_knn_1 = confusion_matrix(test_y_1, knn_model_pred_set_1, labels=[1,0])\n",
    "#feature set 2\n",
    "knn_model_pred_set_2 = func_model_pred_conf(knn_set_2, train_x_2, train_y_2, test_x_2)\n",
    "conf_mat_knn_2 = confusion_matrix(test_y_2, knn_model_pred_set_2, labels=[1,0])\n",
    "#feature set 3\n",
    "knn_model_pred_set_3 = func_model_pred_conf(knn_set_3, train_x_3, train_y_3, test_x_3)\n",
    "conf_mat_knn_3 = confusion_matrix(test_y_3, knn_model_pred_set_3, labels=[1,0])\n",
    "#Build the df\n",
    "lst_index = ['true_positive', 'false_positive', 'false_negative', 'true_negative']\n",
    "lst_index_calc = ['accuracy', 'misclass', 'precision', 'recall']\n",
    "lst_cols = ['Feature Set 1: RF', 'Feature Set 2: Random', 'Feature Set 3: Pre-Select']\n",
    "df_for_knn_cm_plot = func_cm_to_df(conf_mat_knn_1, conf_mat_knn_2, conf_mat_knn_3, lst_index, lst_cols)\n",
    "df_for_knn_cm_calc_plot = func_cm_calc_to_df(test_y_1, conf_mat_knn_1, test_y_2, conf_mat_knn_2, test_y_3, conf_mat_knn_3, lst_index_calc, lst_cols)\n"
   ]
  },
  {
   "cell_type": "code",
   "execution_count": 46,
   "metadata": {
    "collapsed": false,
    "nbpresent": {
     "id": "5bd5991b-0e3f-4d2e-958b-1ed945df969e"
    },
    "scrolled": true
   },
   "outputs": [
    {
     "data": {
      "text/html": [
       "<div>\n",
       "<style>\n",
       "    .dataframe thead tr:only-child th {\n",
       "        text-align: right;\n",
       "    }\n",
       "\n",
       "    .dataframe thead th {\n",
       "        text-align: left;\n",
       "    }\n",
       "\n",
       "    .dataframe tbody tr th {\n",
       "        vertical-align: top;\n",
       "    }\n",
       "</style>\n",
       "<table border=\"1\" class=\"dataframe\">\n",
       "  <thead>\n",
       "    <tr style=\"text-align: right;\">\n",
       "      <th>Confusion Matirx</th>\n",
       "      <th>Feature Set 1: RF</th>\n",
       "      <th>Feature Set 2: Random</th>\n",
       "      <th>Feature Set 3: Pre-Select</th>\n",
       "    </tr>\n",
       "  </thead>\n",
       "  <tbody>\n",
       "    <tr>\n",
       "      <th>true_positive</th>\n",
       "      <td>45</td>\n",
       "      <td>43</td>\n",
       "      <td>39</td>\n",
       "    </tr>\n",
       "    <tr>\n",
       "      <th>false_positive</th>\n",
       "      <td>11</td>\n",
       "      <td>8</td>\n",
       "      <td>5</td>\n",
       "    </tr>\n",
       "    <tr>\n",
       "      <th>false_negative</th>\n",
       "      <td>2</td>\n",
       "      <td>5</td>\n",
       "      <td>4</td>\n",
       "    </tr>\n",
       "    <tr>\n",
       "      <th>true_negative</th>\n",
       "      <td>85</td>\n",
       "      <td>87</td>\n",
       "      <td>95</td>\n",
       "    </tr>\n",
       "  </tbody>\n",
       "</table>\n",
       "</div>"
      ],
      "text/plain": [
       "Confusion Matirx  Feature Set 1: RF  Feature Set 2: Random  \\\n",
       "true_positive                    45                     43   \n",
       "false_positive                   11                      8   \n",
       "false_negative                    2                      5   \n",
       "true_negative                    85                     87   \n",
       "\n",
       "Confusion Matirx  Feature Set 3: Pre-Select  \n",
       "true_positive                            39  \n",
       "false_positive                            5  \n",
       "false_negative                            4  \n",
       "true_negative                            95  "
      ]
     },
     "execution_count": 46,
     "metadata": {},
     "output_type": "execute_result"
    }
   ],
   "source": [
    "df_for_knn_cm_plot"
   ]
  },
  {
   "cell_type": "code",
   "execution_count": 47,
   "metadata": {
    "collapsed": false,
    "nbpresent": {
     "id": "daadef77-03a9-493d-b83d-0bbcc02ce556"
    },
    "scrolled": true
   },
   "outputs": [
    {
     "data": {
      "text/html": [
       "<div>\n",
       "<style>\n",
       "    .dataframe thead tr:only-child th {\n",
       "        text-align: right;\n",
       "    }\n",
       "\n",
       "    .dataframe thead th {\n",
       "        text-align: left;\n",
       "    }\n",
       "\n",
       "    .dataframe tbody tr th {\n",
       "        vertical-align: top;\n",
       "    }\n",
       "</style>\n",
       "<table border=\"1\" class=\"dataframe\">\n",
       "  <thead>\n",
       "    <tr style=\"text-align: right;\">\n",
       "      <th>Confusion Matrix Calculations</th>\n",
       "      <th>Feature Set 1: RF</th>\n",
       "      <th>Feature Set 2: Random</th>\n",
       "      <th>Feature Set 3: Pre-Select</th>\n",
       "    </tr>\n",
       "  </thead>\n",
       "  <tbody>\n",
       "    <tr>\n",
       "      <th>accuracy</th>\n",
       "      <td>0.909091</td>\n",
       "      <td>0.909091</td>\n",
       "      <td>0.937063</td>\n",
       "    </tr>\n",
       "    <tr>\n",
       "      <th>misclass</th>\n",
       "      <td>0.090909</td>\n",
       "      <td>0.090909</td>\n",
       "      <td>0.062937</td>\n",
       "    </tr>\n",
       "    <tr>\n",
       "      <th>precision</th>\n",
       "      <td>0.803571</td>\n",
       "      <td>0.843137</td>\n",
       "      <td>0.886364</td>\n",
       "    </tr>\n",
       "    <tr>\n",
       "      <th>recall</th>\n",
       "      <td>0.957447</td>\n",
       "      <td>0.895833</td>\n",
       "      <td>0.906977</td>\n",
       "    </tr>\n",
       "  </tbody>\n",
       "</table>\n",
       "</div>"
      ],
      "text/plain": [
       "Confusion Matrix Calculations  Feature Set 1: RF  Feature Set 2: Random  \\\n",
       "accuracy                                0.909091               0.909091   \n",
       "misclass                                0.090909               0.090909   \n",
       "precision                               0.803571               0.843137   \n",
       "recall                                  0.957447               0.895833   \n",
       "\n",
       "Confusion Matrix Calculations  Feature Set 3: Pre-Select  \n",
       "accuracy                                        0.937063  \n",
       "misclass                                        0.062937  \n",
       "precision                                       0.886364  \n",
       "recall                                          0.906977  "
      ]
     },
     "execution_count": 47,
     "metadata": {},
     "output_type": "execute_result"
    }
   ],
   "source": [
    "df_for_knn_cm_calc_plot"
   ]
  },
  {
   "cell_type": "code",
   "execution_count": 48,
   "metadata": {
    "collapsed": false,
    "nbpresent": {
     "id": "89c82114-1554-40d9-8f4b-471c85048998"
    },
    "scrolled": true
   },
   "outputs": [
    {
     "data": {
      "text/plain": [
       "<matplotlib.legend.Legend at 0x14949630>"
      ]
     },
     "execution_count": 48,
     "metadata": {},
     "output_type": "execute_result"
    },
    {
     "data": {
      "image/png": "[encoded data removed]",
      "text/plain": [
       "<matplotlib.figure.Figure at 0x10bd84a8>"
      ]
     },
     "metadata": {},
     "output_type": "display_data"
    }
   ],
   "source": [
    "fig, axes = plt.subplots(1,1)\n",
    "df_for_knn_cm_plot.plot(kind='bar', ax=axes, alpha=0.7, title='K-Nearest Neighbors Confustion Matrix Results', rot=45)\n",
    "plt.legend(bbox_to_anchor=(0,1), loc=2, borderaxespad=0.)"
   ]
  },
  {
   "cell_type": "code",
   "execution_count": 49,
   "metadata": {
    "collapsed": false,
    "nbpresent": {
     "id": "9f63cb3e-c969-4410-9bc1-e3ddfe3fcb30"
    },
    "scrolled": true
   },
   "outputs": [
    {
     "data": {
      "text/plain": [
       "<matplotlib.legend.Legend at 0xf1dddd8>"
      ]
     },
     "execution_count": 49,
     "metadata": {},
     "output_type": "execute_result"
    },
    {
     "data": {
      "image/png": "[encoded data removed]",
      "text/plain": [
       "<matplotlib.figure.Figure at 0x10bd8160>"
      ]
     },
     "metadata": {},
     "output_type": "display_data"
    }
   ],
   "source": [
    "fig, axes = plt.subplots(1,1)\n",
    "df_for_knn_cm_calc_plot.plot(kind='bar', ax=axes, alpha=0.7, title='K-Nearest Neighbors Results', ylim=[0, 1.25], rot=45)\n",
    "plt.legend(bbox_to_anchor=(0,1), loc=2, borderaxespad=0.)"
   ]
  },
  {
   "cell_type": "code",
   "execution_count": null,
   "metadata": {
    "collapsed": true,
    "nbpresent": {
     "id": "a7b595ec-ca6c-4189-a35b-f18729b1bf9e"
    }
   },
   "outputs": [],
   "source": [
    "#Random Forrest Model Exploration\n",
    "rf_model_gs = RandomForestClassifier()\n",
    "rf_params = {\"n_estimators\":[10,50,100,500], 'max_depth':[3,4,5,6,7,8]}"
   ]
  },
  {
   "cell_type": "code",
   "execution_count": null,
   "metadata": {
    "collapsed": false,
    "nbpresent": {
     "id": "ad0b6dd3-0645-42b5-aab2-364a504904c7"
    }
   },
   "outputs": [],
   "source": [
    "#Random Forrest Model Exploration: feature set 1\n",
    "rnd_frst_explore_1 = explore_model(rf_params, rf_model_gs, x_1, y_1)\n",
    "print \"Random ForrestNeighbors Model Exploration\"\n",
    "print \"best gs params:\"\n",
    "print rnd_frst_explore_1.best_score_\n",
    "print \"\"\n",
    "print \"best gs params: \"\n",
    "print rnd_frst_explore_1.best_params_"
   ]
  },
  {
   "cell_type": "code",
   "execution_count": null,
   "metadata": {
    "collapsed": false,
    "nbpresent": {
     "id": "ac70e04a-2512-4200-934f-a0cf3ee0101d"
    }
   },
   "outputs": [],
   "source": [
    "#Random Forrest Model Exploration: feature set 2\n",
    "rnd_frst_explore_2 = explore_model(rf_params, rf_model_gs, x_2, y_2)\n",
    "print \"Random ForrestNeighbors Model Exploration\"\n",
    "print \"best gs params:\"\n",
    "print rnd_frst_explore_2.best_score_\n",
    "print \"\"\n",
    "print \"best gs params: \"\n",
    "print rnd_frst_explore_2.best_params_"
   ]
  },
  {
   "cell_type": "code",
   "execution_count": null,
   "metadata": {
    "collapsed": false,
    "nbpresent": {
     "id": "5c508f0f-8e7f-4b81-9970-3e1ea468c27d"
    }
   },
   "outputs": [],
   "source": [
    "#Random Forrest Model Exploration: feature set 3\n",
    "rnd_frst_explore_3 = explore_model(rf_params, rf_model_gs, x_3, y_3)\n",
    "print \"Random ForrestNeighbors Model Exploration\"\n",
    "print \"best gs params:\"\n",
    "print rnd_frst_explore_3.best_score_\n",
    "print \"\"\n",
    "print \"best gs params: \"\n",
    "print rnd_frst_explore_3.best_params_"
   ]
  },
  {
   "cell_type": "code",
   "execution_count": null,
   "metadata": {
    "collapsed": false,
    "nbpresent": {
     "id": "70b04875-b5d3-46c0-8ddc-f2cac06ee23d"
    }
   },
   "outputs": [],
   "source": [
    "#Algorithm uses hyperparameters determined in GridSearch\n",
    "#Random Forrest for feature set 1 (uses train set fot fit and test set for predict)\n",
    "rnd_frst_set_1 = RandomForestClassifier(n_estimators=100, max_depth=3)\n",
    "\n",
    "print \"Random Forrest results:\"\n",
    "print \"score of fit: \" + str(func_model_fit(rnd_frst_set_1, train_x_1, train_y_1))\n",
    "print \"score of prediction: \" + str(func_model_pred(rnd_frst_set_1, train_x_1, train_y_1, test_x_1, test_y_1))\n",
    "#Cross Validation of the Random Forres (uses entire feature and training set)\n",
    "print \"\"\n",
    "print \"Random Forres Cross validation results:\"\n",
    "cv_check_results_rf_1 = func_cv_check(rnd_frst_set_1, train_x_1, train_y_1, x_1, y_1)\n",
    "print('CV AUC_1 {}, Average AUC_1 {}'.format(cv_check_results_rf_1, cv_check_results_rf_1.mean()))"
   ]
  },
  {
   "cell_type": "code",
   "execution_count": null,
   "metadata": {
    "collapsed": false,
    "nbpresent": {
     "id": "4345e3d2-1c58-4e3c-b6a0-dfaf797c57e7"
    }
   },
   "outputs": [],
   "source": [
    "#Algorithm uses hyperparameters determined in GridSearch\n",
    "#Random Forrest for feature set 2 (uses train set fot fit and test set for predict)\n",
    "rnd_frst_set_2 = RandomForestClassifier(n_estimators=500, max_depth=7)\n",
    "\n",
    "print \"Random Forrest results:\"\n",
    "print \"score of fit: \" + str(func_model_fit(rnd_frst_set_2, train_x_2, train_y_2))\n",
    "print \"score of prediction: \" + str(func_model_pred(rnd_frst_set_2, train_x_2, train_y_2, test_x_2, test_y_2))\n",
    "#Cross Validation of the Random Forres (uses entire feature and training set)\n",
    "print \"\"\n",
    "print \"Random Forres Cross validation results:\"\n",
    "cv_check_results_rf_2 = func_cv_check(rnd_frst_set_2, train_x_2, train_y_2, x_2, y_2)\n",
    "print('CV AUC_2 {}, Average AUC_2 {}'.format(cv_check_results_rf_2, cv_check_results_rf_2.mean()))"
   ]
  },
  {
   "cell_type": "code",
   "execution_count": null,
   "metadata": {
    "collapsed": false,
    "nbpresent": {
     "id": "87c1499d-c847-4094-9100-087c0629746d"
    }
   },
   "outputs": [],
   "source": [
    "#Algorithm uses hyperparameters determined in GridSearch\n",
    "#Random Forrest for feature set 3 (uses train set fot fit and test set for predict)\n",
    "rnd_frst_set_3 = RandomForestClassifier(n_estimators=50, max_depth=5)\n",
    "\n",
    "print \"Random Forrest results:\"\n",
    "print \"score of fit: \" + str(func_model_fit(rnd_frst_set_3, train_x_3, train_y_3))\n",
    "print \"score of prediction: \" + str(func_model_pred(rnd_frst_set_3, train_x_3, train_y_3, test_x_3, test_y_3))\n",
    "#Cross Validation of the Random Forres (uses entire feature and training set)\n",
    "print \"\"\n",
    "print \"Random Forres Cross validation results:\"\n",
    "cv_check_results_rf_3 = func_cv_check(rnd_frst_set_3, train_x_3, train_y_3, x_3, y_3)\n",
    "print('CV AUC_3 {}, Average AUC_3 {}'.format(cv_check_results_rf_3, cv_check_results_rf_3.mean()))"
   ]
  },
  {
   "cell_type": "code",
   "execution_count": null,
   "metadata": {
    "collapsed": false,
    "nbpresent": {
     "id": "e0c33176-7088-4036-9e02-0504cd5f7a30"
    },
    "scrolled": true
   },
   "outputs": [],
   "source": [
    "#Get scores set 1\n",
    "score_rnd_frst_m1 = func_model_fit(rnd_frst_set_1, train_x_1, train_y_1)\n",
    "score_rnd_frst_m1_pred = func_model_pred(rnd_frst_set_1, train_x_1, train_y_1, test_x_1, test_y_1)\n",
    "cv_check_results_rf_1 = func_cv_check(rnd_frst_set_1, train_x_1, train_y_1, x_1, y_1)\n",
    "#build list for DataFrame for plot; feature set 1\n",
    "lst_df_rnd_frst_set_1 =[]\n",
    "lst_df_rnd_frst_set_1.append(rnd_frst_explore_1.best_score_)\n",
    "lst_df_rnd_frst_set_1.append(score_rnd_frst_m1)\n",
    "lst_df_rnd_frst_set_1.append(score_rnd_frst_m1_pred)\n",
    "lst_df_rnd_frst_set_1.append(cv_check_results_rf_1.mean())\n",
    "#Get scores set 2\n",
    "score_rnd_frst_m2 = func_model_fit(rnd_frst_set_2, train_x_2, train_y_2)\n",
    "score_rnd_frst_m2_pred = func_model_pred(rnd_frst_set_2, train_x_2, train_y_2, test_x_2, test_y_2)\n",
    "cv_check_results_rf_2 = func_cv_check(rnd_frst_set_2, train_x_2, train_y_2, x_2, y_2)\n",
    "#build list for DataFrame for plot; feature set 2\n",
    "lst_df_rnd_frst_set_2 =[]\n",
    "lst_df_rnd_frst_set_2.append(rnd_frst_explore_2.best_score_)\n",
    "lst_df_rnd_frst_set_2.append(score_rnd_frst_m2)\n",
    "lst_df_rnd_frst_set_2.append(score_rnd_frst_m2_pred)\n",
    "lst_df_rnd_frst_set_2.append(cv_check_results_rf_2.mean())\n",
    "#Get scores set 3\n",
    "score_rnd_frst_m3 = func_model_fit(rnd_frst_set_3, train_x_3, train_y_3)\n",
    "score_rnd_frst_m3_pred = func_model_pred(rnd_frst_set_3, train_x_3, train_y_3, test_x_3, test_y_3)\n",
    "cv_check_results_rf_3 = func_cv_check(rnd_frst_set_3, train_x_3, train_y_3, x_3, y_3)\n",
    "#build list for DataFrame for plot; feature set 3\n",
    "lst_df_rnd_frst_set_3 =[]\n",
    "lst_df_rnd_frst_set_3.append(rnd_frst_explore_3.best_score_)\n",
    "lst_df_rnd_frst_set_3.append(score_rnd_frst_m3)\n",
    "lst_df_rnd_frst_set_3.append(score_rnd_frst_m3_pred)\n",
    "lst_df_rnd_frst_set_3.append(cv_check_results_rf_3.mean())\n",
    "#Build df for plot\n",
    "dct_for_rnd_frst_df = {'feature set 1: Random Forest Feature Selection': lst_df_rnd_frst_set_1,'feature set 2: Chosen at Random': lst_df_rnd_frst_set_2, 'feature set 3: Author Chosen Features': lst_df_rnd_frst_set_3}\n",
    "df_for_rnd_frst_plot = pd.DataFrame(dct_for_rnd_frst_df, index=['Grid Search', 'Training Fit', 'Test Prediction', 'Mean of Cross Val'])\n",
    "df_for_rnd_frst_plot.columns.name = 'Random Forrest modeling results'\n",
    "#Plot the Data Frame for Random Forrest\n",
    "fig, axes = plt.subplots(1,1)\n",
    "df_for_rnd_frst_plot.plot(kind='bar', ax=axes, alpha=0.7, title='Random Forrest Neighbors Results', ylim=[0.85, 1.05], rot=45)\n",
    "plt.legend(bbox_to_anchor=(0,1), loc=2, borderaxespad=0.)"
   ]
  },
  {
   "cell_type": "code",
   "execution_count": null,
   "metadata": {
    "collapsed": false,
    "scrolled": true
   },
   "outputs": [],
   "source": [
    "df_for_rnd_frst_plot"
   ]
  },
  {
   "cell_type": "code",
   "execution_count": null,
   "metadata": {
    "collapsed": true,
    "nbpresent": {
     "id": "eb190238-9d5f-4e9c-8e84-a4ad0fdc87a5"
    }
   },
   "outputs": [],
   "source": [
    "#Generalized Feature Ranking function. It is dependent on the type pf algorithm (not all algorithems have coef_)\n",
    "\n",
    "def func_feature_rank_rnd_frst(x_full, model_fit, str_tag, out_tag, str_alg):\n",
    "    rf_cols = []\n",
    "    for col in x_full.columns:\n",
    "        rf_cols.append(col + str_tag)\n",
    "    rf_feature_importances = model_fit.feature_importances_\n",
    "    df_out = pd.DataFrame({'Features_set': rf_cols, 'Importance Score': rf_feature_importances})\n",
    "    df_out.sort_values('Importance Score', inplace=True, ascending=False)\n",
    "    df_out.set_index(['Features_set'], inplace=True)\n",
    "    print \"Feature \" + out_tag + \" Ranking \" + str_alg \n",
    "    return df_out"
   ]
  },
  {
   "cell_type": "code",
   "execution_count": null,
   "metadata": {
    "collapsed": false,
    "nbpresent": {
     "id": "e7436f89-cc6a-493e-ba45-f65831b9eca3"
    },
    "scrolled": true
   },
   "outputs": [],
   "source": [
    "#Feature Set 1 Ranking\n",
    "rf_fitted_set_1 = rnd_frst_set_1.fit(train_x_1, train_y_1)\n",
    "df_curr_rf_1 = func_feature_rank_rnd_frst(x_1, rf_fitted_set_1, '_f1', 'set 1', 'random_forest')\n",
    "df_curr_rf_1.columns.name = 'Feature Set 1'\n",
    "df_curr_rf_1"
   ]
  },
  {
   "cell_type": "code",
   "execution_count": null,
   "metadata": {
    "collapsed": false,
    "nbpresent": {
     "id": "4d45845a-bd66-4545-9fa8-67b5c7f8e4ef"
    },
    "scrolled": true
   },
   "outputs": [],
   "source": [
    "#Feature Set 2 Ranking\n",
    "rf_fitted_set_2 = rnd_frst_set_2.fit(train_x_2, train_y_2)\n",
    "df_curr_rf_2 = func_feature_rank_rnd_frst(x_2, rf_fitted_set_2, '_f2', 'set 2', 'random_forest')\n",
    "df_curr_rf_2.columns.name = 'Feature Set 2'\n",
    "df_curr_rf_2"
   ]
  },
  {
   "cell_type": "code",
   "execution_count": null,
   "metadata": {
    "collapsed": false,
    "nbpresent": {
     "id": "f126cdff-9777-49d9-905d-e9d393430887"
    },
    "scrolled": true
   },
   "outputs": [],
   "source": [
    "#Feature Set 3 Ranking\n",
    "rf_fitted_set_3 = rnd_frst_set_3.fit(train_x_3, train_y_3)\n",
    "df_curr_rf_3 = func_feature_rank_rnd_frst(x_3, rf_fitted_set_3, '_f3', 'set 3', 'random_forest')\n",
    "df_curr_rf_3.columns.name = 'Feature Set 3'\n",
    "df_curr_rf_3"
   ]
  },
  {
   "cell_type": "code",
   "execution_count": null,
   "metadata": {
    "collapsed": true,
    "nbpresent": {
     "id": "44475020-f250-4805-8a93-59f1236e9724"
    }
   },
   "outputs": [],
   "source": [
    "#Logistic Regression Confusion Matrix Results\n",
    "#Critical to pass labels to the confusion matrix so that it gives the right results\n",
    "#feature set 1\n",
    "rnd_frst_model_pred_set_1 = func_model_pred_conf(rnd_frst_set_1, train_x_1, train_y_1, test_x_1)\n",
    "conf_mat_rnd_frst_1 = confusion_matrix(test_y_1, rnd_frst_model_pred_set_1, labels=[1,0])\n",
    "#feature set 2\n",
    "rnd_frst_model_pred_set_2 = func_model_pred_conf(rnd_frst_set_2, train_x_2, train_y_2, test_x_2)\n",
    "conf_mat_rnd_frst_2 = confusion_matrix(test_y_2, rnd_frst_model_pred_set_2, labels=[1,0])\n",
    "#feature set 3\n",
    "rnd_frst_model_pred_set_3 = func_model_pred_conf(rnd_frst_set_3, train_x_3, train_y_3, test_x_3)\n",
    "conf_mat_rnd_frst_3 = confusion_matrix(test_y_3, rnd_frst_model_pred_set_3, labels=[1,0])\n",
    "#Build the df\n",
    "lst_index = ['true_positive', 'false_positive', 'false_negative', 'true_negative']\n",
    "lst_index_calc = ['accuracy', 'misclass', 'precision', 'recall']\n",
    "lst_cols = ['Feature set 1:RF', 'Feature Set 2: Random', 'Feature Set 3: Pre-Select']\n",
    "df_for_rnd_frst_cm_plot = func_cm_to_df(conf_mat_rnd_frst_1, conf_mat_rnd_frst_2, conf_mat_rnd_frst_3, lst_index, lst_cols)\n",
    "df_for_rnd_frst_cm_calc_plot = func_cm_calc_to_df(test_y_1, conf_mat_rnd_frst_1, test_y_2, conf_mat_rnd_frst_2, test_y_3, conf_mat_rnd_frst_3, lst_index_calc, lst_cols)\n"
   ]
  },
  {
   "cell_type": "code",
   "execution_count": null,
   "metadata": {
    "collapsed": false,
    "nbpresent": {
     "id": "d93723a1-acf2-4872-9051-536d57d7b118"
    },
    "scrolled": true
   },
   "outputs": [],
   "source": [
    "df_for_rnd_frst_cm_plot "
   ]
  },
  {
   "cell_type": "code",
   "execution_count": null,
   "metadata": {
    "collapsed": false,
    "nbpresent": {
     "id": "bce3fc36-ffe2-4665-92cb-94adb248f15c"
    },
    "scrolled": true
   },
   "outputs": [],
   "source": [
    "df_for_rnd_frst_cm_calc_plot"
   ]
  },
  {
   "cell_type": "code",
   "execution_count": null,
   "metadata": {
    "collapsed": false,
    "nbpresent": {
     "id": "c34d15a3-0419-4efc-872a-2a3d4dfade9d"
    },
    "scrolled": true
   },
   "outputs": [],
   "source": [
    "#Plot the Data Frame for Random Forrest Confusion Matrix\n",
    "fig, axes = plt.subplots(1,1)\n",
    "df_for_rnd_frst_cm_plot.plot(kind='bar', ax=axes, alpha=0.7, title='Random Forrest Confusion Matrix Results', rot=45)\n",
    "plt.legend(bbox_to_anchor=(0,1), loc=2, borderaxespad=0.)"
   ]
  },
  {
   "cell_type": "code",
   "execution_count": null,
   "metadata": {
    "collapsed": false,
    "nbpresent": {
     "id": "c219fcf0-a01d-4833-be7c-f2def03c29f9"
    },
    "scrolled": true
   },
   "outputs": [],
   "source": [
    "#Plot the Data Frame for Random Forrest Confusion Matrix\n",
    "fig, axes = plt.subplots(1,1)\n",
    "df_for_rnd_frst_cm_calc_plot.plot(kind='bar', ax=axes, alpha=0.7, title='Random Forrest Confusion Matrix Calculation Results', ylim=[0,1.25], rot=45)\n",
    "plt.legend(bbox_to_anchor=(0,1), loc=2, borderaxespad=0.)"
   ]
  },
  {
   "cell_type": "code",
   "execution_count": null,
   "metadata": {
    "collapsed": true,
    "nbpresent": {
     "id": "5c7f9bfe-a32c-4a21-b913-be15e2d119e3"
    }
   },
   "outputs": [],
   "source": []
  }
 ],
 "metadata": {
  "anaconda-cloud": {},
  "kernelspec": {
   "display_name": "Python [conda env:py2]",
   "language": "python",
   "name": "conda-env-py2-py"
  },
  "language_info": {
   "codemirror_mode": {
    "name": "ipython",
    "version": 2
   },
   "file_extension": ".py",
   "mimetype": "text/x-python",
   "name": "python",
   "nbconvert_exporter": "python",
   "pygments_lexer": "ipython2",
   "version": "2.7.13"
  },
  "nbpresent": {
   "slides": {
    "456e395a-b4a1-4b7c-bd1a-30a8d274c66a": {
     "id": "456e395a-b4a1-4b7c-bd1a-30a8d274c66a",
     "prev": null,
     "regions": {
      "21bdd333-0d05-49fb-bf9e-9dff4add5a9e": {
       "attrs": {
        "height": 0.4,
        "width": 0.4000000000000001,
        "x": 0.10000000000000002,
        "y": 0.5060402682089472
       },
       "id": "21bdd333-0d05-49fb-bf9e-9dff4add5a9e"
      },
      "66808455-d293-4d2e-9c5f-efd328d5788d": {
       "attrs": {
        "height": 0.4,
        "width": 0.4000000000000001,
        "x": 0.5,
        "y": 0.5040268454726315
       },
       "id": "66808455-d293-4d2e-9c5f-efd328d5788d"
      }
     }
    },
    "99e12d8b-f091-42dc-b186-292b605e4d2b": {
     "id": "99e12d8b-f091-42dc-b186-292b605e4d2b",
     "prev": "456e395a-b4a1-4b7c-bd1a-30a8d274c66a",
     "regions": {
      "741dc915-8b4a-4c7c-bc91-c07cea9d4bda": {
       "attrs": {
        "height": 1,
        "width": 1,
        "x": 0,
        "y": 0
       },
       "id": "741dc915-8b4a-4c7c-bc91-c07cea9d4bda"
      }
     }
    }
   },
   "themes": {}
  }
 },
 "nbformat": 4,
 "nbformat_minor": 1
}
